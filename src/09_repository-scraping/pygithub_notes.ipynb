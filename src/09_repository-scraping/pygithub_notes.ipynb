{
 "cells": [
  {
   "cell_type": "code",
   "execution_count": 1,
   "metadata": {},
   "outputs": [],
   "source": [
    "from github import Github\n",
    "import os \n",
    "\n",
    "github_token = os.getenv('GITHUB_TOKEN')\n",
    "\n",
    "# using an access token\n",
    "g = Github(github_token)\n",
    "\n",
    "# Github Enterprise with custom hostname\n",
    "g = Github(base_url=\"https://{hostname}/api/v3/\", login_or_token=github_token)"
   ]
  },
  {
   "cell_type": "code",
   "execution_count": 2,
   "metadata": {},
   "outputs": [
    {
     "name": "stdout",
     "output_type": "stream",
     "text": [
      "american-soldier-crdh\n",
      "baseline\n",
      "biocomplexity\n",
      "classifying-cultures\n",
      "clean-slack\n",
      "collaboration\n",
      "controversy-through-consensus\n",
      "diversity\n",
      "evidence-use-in-policymaking\n",
      "fantasy-basketball\n",
      "fantasy-football\n",
      "favorite-functions\n",
      "impacts-and-echoes\n",
      "impacts-and-echoes-old\n",
      "nba-networks\n",
      "race-in-testosterone-research\n",
      "standardizeR\n",
      "website\n"
     ]
    }
   ],
   "source": [
    "from github import Github\n",
    "\n",
    "username = \"brandonleekramer\"\n",
    "g=Github()\n",
    "user=g.get_user(username)\n",
    "for repo in user.get_repos():\n",
    "    print(repo.name)"
   ]
  },
  {
   "cell_type": "code",
   "execution_count": 3,
   "metadata": {},
   "outputs": [
    {
     "data": {
      "text/plain": [
       "['diversity', 'pubmed', 'r', 'python', 'text-mining']"
      ]
     },
     "execution_count": 3,
     "metadata": {},
     "output_type": "execute_result"
    }
   ],
   "source": [
    "repo=g.get_repo(\"brandonleekramer/diversity\")\n",
    "repo.get_topics()"
   ]
  },
  {
   "cell_type": "code",
   "execution_count": 6,
   "metadata": {},
   "outputs": [
    {
     "data": {
      "text/plain": [
       "'CiMjIyMgVGhlIFJpc2Ugb2YgRGl2ZXJzaXR5IGFuZCBQb3B1bGF0aW9uIFRl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\\nICAgICDilJzilIDilIAgZmlsdGVyZWRfcHVibGljYXRpb25zIAoKCgoKCg==\\n'"
      ]
     },
     "execution_count": 6,
     "metadata": {},
     "output_type": "execute_result"
    }
   ],
   "source": [
    "test = repo.get_readme()\n",
    "test.content"
   ]
  },
  {
   "cell_type": "code",
   "execution_count": 64,
   "metadata": {},
   "outputs": [
    {
     "data": {
      "text/plain": [
       "ContentFile(path=\"README.md\")"
      ]
     },
     "execution_count": 64,
     "metadata": {},
     "output_type": "execute_result"
    }
   ],
   "source": [
    "repo.get_contents(\"README.md\")"
   ]
  },
  {
   "cell_type": "markdown",
   "metadata": {},
   "source": [
    "### References \n",
    "\n",
    "https://github.com/PyGithub/PyGithub\n",
    "\n",
    "https://pygithub.readthedocs.io/en/latest/github_objects/Repository.html\n"
   ]
  }
 ],
 "metadata": {
  "kernelspec": {
   "display_name": "brandon_env",
   "language": "python",
   "name": "brandon_env"
  },
  "language_info": {
   "codemirror_mode": {
    "name": "ipython",
    "version": 3
   },
   "file_extension": ".py",
   "mimetype": "text/x-python",
   "name": "python",
   "nbconvert_exporter": "python",
   "pygments_lexer": "ipython3",
   "version": "3.9.2"
  }
 },
 "nbformat": 4,
 "nbformat_minor": 4
}
