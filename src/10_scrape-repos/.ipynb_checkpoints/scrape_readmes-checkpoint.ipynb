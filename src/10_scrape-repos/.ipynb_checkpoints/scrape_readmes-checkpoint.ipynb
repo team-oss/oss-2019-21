{
 "cells": [
  {
   "cell_type": "markdown",
   "metadata": {},
   "source": [
    "### GitHub README Extraction \n",
    "\n",
    "During this summer, the DSGP OSS 2021 team willbe classifying GitHub repositores into different software types. To do this, we will be extracting README files from all of the OSS repos (i.e. those with OSS licenses) and then developing NLP techniques to classify those repos. \n",
    "\n",
    "In this file, we document the extraction process for GitHub README files. "
   ]
  },
  {
   "cell_type": "code",
   "execution_count": null,
   "metadata": {},
   "outputs": [],
   "source": [
    "# load packages \n",
    "import os\n",
    "import pandas as pd\n",
    "import string \n",
    "import requests as r\n",
    "import json\n",
    "import base64\n",
    "import urllib.request\n",
    "import itertools \n",
    "from bs4 import BeautifulSoup\n",
    "from dotenv import load_dotenv\n",
    "\n",
    "\n"
   ]
  },
  {
   "cell_type": "code",
   "execution_count": null,
   "metadata": {},
   "outputs": [],
   "source": [
    "logins = [\"brandonleekramer\", \"uva-bi-sdad\", \"facebook\"]\n",
    "repos = [ \"diversity\", \"oss-2020\", \"react\"]\n",
    "\n",
    "for login, repo in zip(logins, repos):\n",
    "    url = f'https://github.com/{login}/{repo}/'\n",
    "    urllib.request.urlretrieve(url, f'readme_{login}_{repo}.txt')\n",
    "    print(f'Finished scraping: {login}/{repo}')"
   ]
  }
 ],
 "metadata": {
  "kernelspec": {
   "display_name": "brandon_env",
   "language": "python",
   "name": "brandon_env"
  },
  "language_info": {
   "codemirror_mode": {
    "name": "ipython",
    "version": 3
   },
   "file_extension": ".py",
   "mimetype": "text/x-python",
   "name": "python",
   "nbconvert_exporter": "python",
   "pygments_lexer": "ipython3",
   "version": "3.9.2"
  }
 },
 "nbformat": 4,
 "nbformat_minor": 4
}
