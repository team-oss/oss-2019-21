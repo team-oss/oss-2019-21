{
 "cells": [
  {
   "cell_type": "code",
   "execution_count": 4,
   "metadata": {},
   "outputs": [],
   "source": [
    "#import libraries\n",
    "import pickle\n",
    "import pandas as pd\n",
    "import matplotlib.pyplot as plt\n",
    "import seaborn as sns\n",
    "%matplotlib inline\n",
    "from scipy import stats\n",
    "import numpy as np\n",
    "# from matplotlib.pyplot import figure"
   ]
  },
  {
   "cell_type": "code",
   "execution_count": 5,
   "metadata": {},
   "outputs": [],
   "source": [
    "repos = pd.read_csv(\"/home/bm7mp/git/oss-2020/Pydata/repo_slugs.csv\")"
   ]
  },
  {
   "cell_type": "code",
   "execution_count": 3,
   "metadata": {},
   "outputs": [
    {
     "data": {
      "text/plain": [
       "count                     28245840\n",
       "unique                     1963408\n",
       "top       lopesdiego12/Hello-World\n",
       "freq                        198720\n",
       "Name: slug, dtype: object"
      ]
     },
     "execution_count": 3,
     "metadata": {},
     "output_type": "execute_result"
    }
   ],
   "source": [
    "repos[\"slug\"].describe()"
   ]
  },
  {
   "cell_type": "code",
   "execution_count": 4,
   "metadata": {},
   "outputs": [
    {
     "data": {
      "text/html": [
       "<div>\n",
       "<style scoped>\n",
       "    .dataframe tbody tr th:only-of-type {\n",
       "        vertical-align: middle;\n",
       "    }\n",
       "\n",
       "    .dataframe tbody tr th {\n",
       "        vertical-align: top;\n",
       "    }\n",
       "\n",
       "    .dataframe thead th {\n",
       "        text-align: right;\n",
       "    }\n",
       "</style>\n",
       "<table border=\"1\" class=\"dataframe\">\n",
       "  <thead>\n",
       "    <tr style=\"text-align: right;\">\n",
       "      <th></th>\n",
       "      <th>Unnamed: 0</th>\n",
       "      <th>slug</th>\n",
       "      <th>language</th>\n",
       "      <th>bytes</th>\n",
       "      <th>created_at</th>\n",
       "      <th>login</th>\n",
       "      <th>commits</th>\n",
       "      <th>additions</th>\n",
       "      <th>deletions</th>\n",
       "    </tr>\n",
       "  </thead>\n",
       "  <tbody>\n",
       "    <tr>\n",
       "      <th>0</th>\n",
       "      <td>0</td>\n",
       "      <td>0000marcosg/bordes</td>\n",
       "      <td>etag</td>\n",
       "      <td>0</td>\n",
       "      <td>2018-11-04 18:48:59</td>\n",
       "      <td>0000marcosg</td>\n",
       "      <td>5</td>\n",
       "      <td>1335</td>\n",
       "      <td>3</td>\n",
       "    </tr>\n",
       "    <tr>\n",
       "      <th>1</th>\n",
       "      <td>1</td>\n",
       "      <td>0000sir/larger-neural-style</td>\n",
       "      <td>shell</td>\n",
       "      <td>2730</td>\n",
       "      <td>2016-10-12 11:19:59</td>\n",
       "      <td>SafariMonkey</td>\n",
       "      <td>1</td>\n",
       "      <td>1</td>\n",
       "      <td>1</td>\n",
       "    </tr>\n",
       "    <tr>\n",
       "      <th>2</th>\n",
       "      <td>2</td>\n",
       "      <td>0000sir/larger-neural-style</td>\n",
       "      <td>shell</td>\n",
       "      <td>2730</td>\n",
       "      <td>2016-10-12 11:19:59</td>\n",
       "      <td>ProGamerGov</td>\n",
       "      <td>34</td>\n",
       "      <td>314</td>\n",
       "      <td>71</td>\n",
       "    </tr>\n",
       "    <tr>\n",
       "      <th>3</th>\n",
       "      <td>3</td>\n",
       "      <td>0000sir/larger-neural-style</td>\n",
       "      <td>shell</td>\n",
       "      <td>2730</td>\n",
       "      <td>2016-10-12 11:19:59</td>\n",
       "      <td>0000sir</td>\n",
       "      <td>12</td>\n",
       "      <td>303</td>\n",
       "      <td>35</td>\n",
       "    </tr>\n",
       "    <tr>\n",
       "      <th>4</th>\n",
       "      <td>4</td>\n",
       "      <td>0000sir/vanGogh</td>\n",
       "      <td>javascript</td>\n",
       "      <td>1201</td>\n",
       "      <td>2016-09-01 03:11:43</td>\n",
       "      <td>0000sir</td>\n",
       "      <td>2</td>\n",
       "      <td>23</td>\n",
       "      <td>0</td>\n",
       "    </tr>\n",
       "  </tbody>\n",
       "</table>\n",
       "</div>"
      ],
      "text/plain": [
       "   Unnamed: 0                         slug    language  bytes  \\\n",
       "0           0           0000marcosg/bordes        etag      0   \n",
       "1           1  0000sir/larger-neural-style       shell   2730   \n",
       "2           2  0000sir/larger-neural-style       shell   2730   \n",
       "3           3  0000sir/larger-neural-style       shell   2730   \n",
       "4           4              0000sir/vanGogh  javascript   1201   \n",
       "\n",
       "            created_at         login  commits  additions  deletions  \n",
       "0  2018-11-04 18:48:59   0000marcosg        5       1335          3  \n",
       "1  2016-10-12 11:19:59  SafariMonkey        1          1          1  \n",
       "2  2016-10-12 11:19:59   ProGamerGov       34        314         71  \n",
       "3  2016-10-12 11:19:59       0000sir       12        303         35  \n",
       "4  2016-09-01 03:11:43       0000sir        2         23          0  "
      ]
     },
     "execution_count": 4,
     "metadata": {},
     "output_type": "execute_result"
    }
   ],
   "source": [
    "repos.head(5)"
   ]
  },
  {
   "cell_type": "markdown",
   "metadata": {},
   "source": [
    "# How many repos have language data?"
   ]
  },
  {
   "cell_type": "code",
   "execution_count": 6,
   "metadata": {},
   "outputs": [
    {
     "ename": "NameError",
     "evalue": "name 'language_per_repo' is not defined",
     "output_type": "error",
     "traceback": [
      "\u001b[0;31m---------------------------------------------------------------------------\u001b[0m",
      "\u001b[0;31mNameError\u001b[0m                                 Traceback (most recent call last)",
      "\u001b[0;32m<ipython-input-6-2e444c177aff>\u001b[0m in \u001b[0;36m<module>\u001b[0;34m\u001b[0m\n\u001b[0;32m----> 1\u001b[0;31m \u001b[0mlanguage_per_repo\u001b[0m\u001b[0;34m.\u001b[0m\u001b[0mloc\u001b[0m\u001b[0;34m[\u001b[0m\u001b[0mlanguage_per_repo\u001b[0m\u001b[0;34m!=\u001b[0m\u001b[0;36m0\u001b[0m\u001b[0;34m]\u001b[0m\u001b[0;34m.\u001b[0m\u001b[0mcount\u001b[0m\u001b[0;34m(\u001b[0m\u001b[0;34m)\u001b[0m\u001b[0;34m\u001b[0m\u001b[0;34m\u001b[0m\u001b[0m\n\u001b[0m",
      "\u001b[0;31mNameError\u001b[0m: name 'language_per_repo' is not defined"
     ]
    }
   ],
   "source": [
    "language_per_repo.loc[language_per_repo!=0].count()"
   ]
  },
  {
   "cell_type": "markdown",
   "metadata": {},
   "source": [
    "## Histogram of language used in the repos"
   ]
  },
  {
   "cell_type": "code",
   "execution_count": 3,
   "metadata": {},
   "outputs": [],
   "source": [
    "# #create count plot for room types\n",
    "# %matplotlib inline\n",
    "# # from matplotlib.pyplot import figure\n",
    "# plt.figure(num=None, figsize=(20, 6), dpi=80, facecolor='w', edgecolor='k')\n",
    "# sns.set(style=\"darkgrid\")\n",
    "# ax = sns.countplot(x='language', data=repos,\n",
    "#                    order = repos['language'].value_counts().indbex)\n",
    "# ax.set(xlabel='Language', ylabel='Repo count')\n",
    "# plt.xticks(rotation=70)\n",
    "# plt.tight_layout()\n",
    "# plt.show()\n",
    "# plt.savefig('no_language_per_repo.png')"
   ]
  },
  {
   "cell_type": "markdown",
   "metadata": {},
   "source": [
    "Another way to plot 5 first popular language:\n",
    "    "
   ]
  },
  {
   "cell_type": "code",
   "execution_count": 10,
   "metadata": {},
   "outputs": [
    {
     "data": {
      "image/png": "[encoded data removed]",
      "text/plain": [
       "<Figure size 432x288 with 1 Axes>"
      ]
     },
     "metadata": {
      "needs_background": "light"
     },
     "output_type": "display_data"
    }
   ],
   "source": [
    "sns.countplot(y=\"language\", data=repos,\n",
    "              order = repos['language'].value_counts().iloc[:10].index)\n",
    "plt.savefig('no_language_per_repo_top10.png')"
   ]
  },
  {
   "cell_type": "markdown",
   "metadata": {},
   "source": [
    "# What is the distribution of repos that have multiple languages?"
   ]
  },
  {
   "cell_type": "code",
   "execution_count": 6,
   "metadata": {},
   "outputs": [],
   "source": [
    "rep_no_language = repos.groupby(\"slug\")[\"language\"].nunique()"
   ]
  },
  {
   "cell_type": "code",
   "execution_count": 7,
   "metadata": {},
   "outputs": [],
   "source": [
    "#One_languege_perrepo = repos.groupby(\"slug\")"
   ]
  },
  {
   "cell_type": "code",
   "execution_count": 8,
   "metadata": {},
   "outputs": [],
   "source": [
    "One_languege_repos = repos[repos.groupby('slug').language.transform('count')<2].copy() #70 percent of the data has one langue per repo"
   ]
  },
  {
   "cell_type": "code",
   "execution_count": 11,
   "metadata": {},
   "outputs": [
    {
     "data": {
      "image/png": "[encoded data removed]",
      "text/plain": [
       "<Figure size 432x288 with 1 Axes>"
      ]
     },
     "metadata": {
      "needs_background": "light"
     },
     "output_type": "display_data"
    }
   ],
   "source": [
    "rep_no_language.plot.hist(bins = 200, xlim=(0,15))\n",
    "plt.savefig('no_repos_no_unique_langs.png')"
   ]
  },
  {
   "cell_type": "markdown",
   "metadata": {},
   "source": [
    "# What is the distribution of bytes per language?"
   ]
  },
  {
   "cell_type": "code",
   "execution_count": 12,
   "metadata": {},
   "outputs": [],
   "source": [
    "Most_popular_languages = repos.groupby(\"language\")[\"bytes\"].count().nlargest(10)"
   ]
  },
  {
   "cell_type": "code",
   "execution_count": 13,
   "metadata": {},
   "outputs": [],
   "source": [
    "Languages = Most_popular_languages.index"
   ]
  },
  {
   "cell_type": "code",
   "execution_count": 14,
   "metadata": {},
   "outputs": [
    {
     "name": "stdout",
     "output_type": "stream",
     "text": [
      "javascript\n",
      "css\n",
      "shell\n",
      "html\n",
      "python\n",
      "makefile\n",
      "ruby\n",
      "c\n",
      "etag\n",
      "c++\n"
     ]
    }
   ],
   "source": [
    "for l in Languages:\n",
    "    print(l)"
   ]
  },
  {
   "cell_type": "code",
   "execution_count": 15,
   "metadata": {},
   "outputs": [],
   "source": [
    "# plt.figure(figsize=(15,6))\n",
    "# for l in Languages:\n",
    "#     py = g.get_group(l)\n",
    "#     plt.hist(py.bytes, histtype='stepfilled', bins=50, alpha=0.2,\n",
    "#              label=l+\" bytes\",  density=True)\n",
    "#     plt.legend(loc=\"upper left\")\n",
    "# plt.savefig('bytes_lang_hist.png')"
   ]
  },
  {
   "cell_type": "code",
   "execution_count": 16,
   "metadata": {},
   "outputs": [
    {
     "data": {
      "image/png": "[encoded data removed]",
      "text/plain": [
       "<Figure size 1440x720 with 1 Axes>"
      ]
     },
     "metadata": {
      "needs_background": "light"
     },
     "output_type": "display_data"
    }
   ],
   "source": [
    "\n",
    "## This block of code is copied from Student240's answer:\n",
    "import random \n",
    "\n",
    "\n",
    "\n",
    "###split the data into groups based on types\n",
    "g = repos.groupby('language')\n",
    "\n",
    "## From here things change as I make use of the seaborn library\n",
    "python = g.get_group('python')\n",
    "fig, ax = plt.subplots(figsize=(20, 10))\n",
    "\n",
    "ax = sns.kdeplot(data=python['bytes'], label='python bytes', ax=ax)\n",
    "\n",
    "plt.savefig('bytes_py_density.png')\n",
    "plt.show()"
   ]
  },
  {
   "cell_type": "code",
   "execution_count": 17,
   "metadata": {},
   "outputs": [
    {
     "data": {
      "image/png": "[encoded data removed]",
      "text/plain": [
       "<Figure size 1440x720 with 1 Axes>"
      ]
     },
     "metadata": {
      "needs_background": "light"
     },
     "output_type": "display_data"
    }
   ],
   "source": [
    "\n",
    "## This block of code is copied from Student240's answer:\n",
    "import random \n",
    "\n",
    "\n",
    "###split the data into groups based on types\n",
    "g = repos.groupby('language')\n",
    "\n",
    "## From here things change as I make use of the seaborn library\n",
    "javascript = g.get_group('javascript')\n",
    "fig, ax = plt.subplots(figsize=(20, 10))\n",
    "\n",
    "ax = sns.kdeplot(data=javascript['bytes'], label='javascript bytes', ax=ax)\n",
    "\n",
    "plt.savefig('bytes_java_density.png')\n",
    "plt.show()"
   ]
  },
  {
   "cell_type": "code",
   "execution_count": 21,
   "metadata": {},
   "outputs": [
    {
     "data": {
      "image/png": "[encoded data removed]",
      "text/plain": [
       "<Figure size 1440x720 with 1 Axes>"
      ]
     },
     "metadata": {
      "needs_background": "light"
     },
     "output_type": "display_data"
    }
   ],
   "source": [
    "import matplotlib.pyplot as plt\n",
    "import seaborn as sns\n",
    "\n",
    "\n",
    "\n",
    "## This block of code is copied from Student240's answer:\n",
    "import random \n",
    "###split the data into groups based on types\n",
    "g = repos.groupby('language')   \n",
    "\n",
    "## From here things change as I make use of the seaborn library\n",
    "python = g.get_group('python')\n",
    "javascript = g.get_group('javascript')\n",
    "c = g.get_group('c')\n",
    "cplus = g.get_group('c++')\n",
    "fig, ax = plt.subplots(figsize=(20, 10))\n",
    "\n",
    "ax = sns.kdeplot(data=python['bytes'], label='python bytes', ax=ax)\n",
    "ax = sns.kdeplot(data=javascript['bytes'], label='javascript bytes', ax=ax)\n",
    "ax = sns.kdeplot(data=cplus['bytes'], label='c++ bytes', ax=ax)\n",
    "\n",
    "# for this final one I use the shade option just to show how it is done:\n",
    "ax = sns.kdeplot(data=c['bytes'], label='c bytes', ax=ax, shade=True)\n",
    "\n",
    "# ax.set_xtitle('Count')\n",
    "# ax.set_ytitle('Density')\n",
    "# ax.set_title('KDE plot example from seaborn')\n",
    "plt.savefig('bytes_lang_density.png')"
   ]
  },
  {
   "cell_type": "markdown",
   "metadata": {},
   "source": [
    "# What is the distribution of communities that have multiple languages?"
   ]
  },
  {
   "cell_type": "code",
   "execution_count": 9,
   "metadata": {},
   "outputs": [],
   "source": [
    "# new data frame with split value columns\n",
    "new = One_languege_repos[\"slug\"].str.split(\"/\",expand = True)\n",
    "  \n",
    "# making separate contributor column from new data frame \n",
    "\n",
    "One_languege_repos[\"Repo\"]= new[1]"
   ]
  },
  {
   "cell_type": "code",
   "execution_count": 10,
   "metadata": {},
   "outputs": [],
   "source": [
    "Membership_LRN = pd.read_pickle(\"mem_luv_rnbrw.pickle\")\n",
    "CNM = pd.read_pickle('CNM.pkl')\n",
    "louvain = pd.read_pickle(\"memdict_risolate.pickle\") \n",
    "#dictionary with key:0,1,.. membership and value is list of users\n",
    "Membership_LRN_rev = {val: key for key in Membership_LRN for val in Membership_LRN[key]}\n",
    "# Membership_LRN_rev: key: slugs, value: membership\n",
    "CNM_rev = {val: key for key in CNM for val in CNM[key]}\n",
    "Louvain_rev = {val: key for key in louvain for val in louvain[key]}"
   ]
  },
  {
   "cell_type": "code",
   "execution_count": 11,
   "metadata": {},
   "outputs": [],
   "source": [
    "One_languege_repos['Membership'] = One_languege_repos['login'].map(Membership_LRN_rev)"
   ]
  },
  {
   "cell_type": "code",
   "execution_count": 12,
   "metadata": {},
   "outputs": [],
   "source": [
    "One_languege_repos['CNM'] = One_languege_repos['login'].map(CNM_rev)"
   ]
  },
  {
   "cell_type": "code",
   "execution_count": 13,
   "metadata": {},
   "outputs": [],
   "source": [
    "One_languege_repos['Louvain'] = One_languege_repos['login'].map(Louvain_rev)"
   ]
  },
  {
   "cell_type": "code",
   "execution_count": 14,
   "metadata": {},
   "outputs": [],
   "source": [
    "#only community with more than 2 members"
   ]
  },
  {
   "cell_type": "code",
   "execution_count": 15,
   "metadata": {},
   "outputs": [],
   "source": [
    "One_languege_repos_m = One_languege_repos[One_languege_repos.groupby('Membership').login.transform('count')>1].copy() # keep communities with groups with more than one member, 70%"
   ]
  },
  {
   "cell_type": "code",
   "execution_count": 16,
   "metadata": {},
   "outputs": [],
   "source": [
    "One_languege_repos_cnm = One_languege_repos[One_languege_repos.groupby('CNM').login.transform('count')>1].copy() # keep communities with groups with more than one member, 70%"
   ]
  },
  {
   "cell_type": "code",
   "execution_count": 17,
   "metadata": {},
   "outputs": [],
   "source": [
    "One_languege_repos_Louvain = One_languege_repos[One_languege_repos.groupby('Louvain').login.transform('count')>1].copy() # keep communities with groups with more than one member, 70%"
   ]
  },
  {
   "cell_type": "code",
   "execution_count": 18,
   "metadata": {},
   "outputs": [],
   "source": [
    "repos['Membership'] = repos['login'].map(Membership_LRN_rev)"
   ]
  },
  {
   "cell_type": "code",
   "execution_count": 19,
   "metadata": {},
   "outputs": [],
   "source": [
    "repos['CNM'] = repos['login'].map(CNM_rev)"
   ]
  },
  {
   "cell_type": "code",
   "execution_count": 20,
   "metadata": {},
   "outputs": [],
   "source": [
    "repos['Louvain'] = repos['login'].map(Louvain_rev)"
   ]
  },
  {
   "cell_type": "code",
   "execution_count": 21,
   "metadata": {},
   "outputs": [],
   "source": [
    "repos_m = repos[repos.groupby('Membership').login.transform('count')>1].copy() # keep communities with groups with more than one member, all"
   ]
  },
  {
   "cell_type": "code",
   "execution_count": 22,
   "metadata": {},
   "outputs": [],
   "source": [
    "repos_cnm = repos[repos.groupby('CNM').login.transform('count')>1].copy() # keep communities with groups with more than one member, all"
   ]
  },
  {
   "cell_type": "code",
   "execution_count": 23,
   "metadata": {},
   "outputs": [],
   "source": [
    "repos_Louvain =  repos[repos.groupby('Louvain').login.transform('count')>1].copy() # keep communities with groups with more than one member, al"
   ]
  },
  {
   "cell_type": "code",
   "execution_count": 24,
   "metadata": {},
   "outputs": [
    {
     "data": {
      "text/html": [
       "<div>\n",
       "<style scoped>\n",
       "    .dataframe tbody tr th:only-of-type {\n",
       "        vertical-align: middle;\n",
       "    }\n",
       "\n",
       "    .dataframe tbody tr th {\n",
       "        vertical-align: top;\n",
       "    }\n",
       "\n",
       "    .dataframe thead th {\n",
       "        text-align: right;\n",
       "    }\n",
       "</style>\n",
       "<table border=\"1\" class=\"dataframe\">\n",
       "  <thead>\n",
       "    <tr style=\"text-align: right;\">\n",
       "      <th></th>\n",
       "      <th>Unnamed: 0</th>\n",
       "      <th>slug</th>\n",
       "      <th>language</th>\n",
       "      <th>bytes</th>\n",
       "      <th>created_at</th>\n",
       "      <th>login</th>\n",
       "      <th>commits</th>\n",
       "      <th>additions</th>\n",
       "      <th>deletions</th>\n",
       "      <th>Repo</th>\n",
       "      <th>Membership</th>\n",
       "      <th>CNM</th>\n",
       "      <th>Louvain</th>\n",
       "    </tr>\n",
       "  </thead>\n",
       "  <tbody>\n",
       "    <tr>\n",
       "      <th>22</th>\n",
       "      <td>22</td>\n",
       "      <td>00091701/WebChangedNotification-Mono</td>\n",
       "      <td>c#</td>\n",
       "      <td>15828</td>\n",
       "      <td>2016-02-03 12:09:32</td>\n",
       "      <td>DavidHoffmann</td>\n",
       "      <td>1</td>\n",
       "      <td>2</td>\n",
       "      <td>0</td>\n",
       "      <td>WebChangedNotification-Mono</td>\n",
       "      <td>3.0</td>\n",
       "      <td>3.0</td>\n",
       "      <td>11.0</td>\n",
       "    </tr>\n",
       "    <tr>\n",
       "      <th>56</th>\n",
       "      <td>56</td>\n",
       "      <td>000paradox000/python_password</td>\n",
       "      <td>python</td>\n",
       "      <td>1073</td>\n",
       "      <td>2016-02-03 12:10:00</td>\n",
       "      <td>000paradox000</td>\n",
       "      <td>1</td>\n",
       "      <td>734</td>\n",
       "      <td>0</td>\n",
       "      <td>python_password</td>\n",
       "      <td>9.0</td>\n",
       "      <td>52347.0</td>\n",
       "      <td>3.0</td>\n",
       "    </tr>\n",
       "    <tr>\n",
       "      <th>81</th>\n",
       "      <td>81</td>\n",
       "      <td>00111000/Tic-Tac-Toe</td>\n",
       "      <td>python</td>\n",
       "      <td>14953</td>\n",
       "      <td>2016-09-01 12:03:28</td>\n",
       "      <td>00111000</td>\n",
       "      <td>6</td>\n",
       "      <td>5</td>\n",
       "      <td>5</td>\n",
       "      <td>Tic-Tac-Toe</td>\n",
       "      <td>0.0</td>\n",
       "      <td>0.0</td>\n",
       "      <td>9.0</td>\n",
       "    </tr>\n",
       "    <tr>\n",
       "      <th>627</th>\n",
       "      <td>627</td>\n",
       "      <td>00benallen/Deep</td>\n",
       "      <td>java</td>\n",
       "      <td>55408</td>\n",
       "      <td>2015-10-09 20:52:44</td>\n",
       "      <td>00benallen</td>\n",
       "      <td>25</td>\n",
       "      <td>3758</td>\n",
       "      <td>1295</td>\n",
       "      <td>Deep</td>\n",
       "      <td>123000.0</td>\n",
       "      <td>135402.0</td>\n",
       "      <td>123216.0</td>\n",
       "    </tr>\n",
       "    <tr>\n",
       "      <th>628</th>\n",
       "      <td>628</td>\n",
       "      <td>00benallen/swift-business-processor</td>\n",
       "      <td>swift</td>\n",
       "      <td>6092</td>\n",
       "      <td>2018-09-03 01:46:26</td>\n",
       "      <td>00benallen</td>\n",
       "      <td>11</td>\n",
       "      <td>2697</td>\n",
       "      <td>591</td>\n",
       "      <td>swift-business-processor</td>\n",
       "      <td>123000.0</td>\n",
       "      <td>135402.0</td>\n",
       "      <td>123216.0</td>\n",
       "    </tr>\n",
       "    <tr>\n",
       "      <th>757</th>\n",
       "      <td>757</td>\n",
       "      <td>00firestar00/QueryBuilder</td>\n",
       "      <td>java</td>\n",
       "      <td>19235</td>\n",
       "      <td>2016-02-03 12:16:03</td>\n",
       "      <td>00firestar00</td>\n",
       "      <td>3</td>\n",
       "      <td>943</td>\n",
       "      <td>41</td>\n",
       "      <td>QueryBuilder</td>\n",
       "      <td>5.0</td>\n",
       "      <td>5.0</td>\n",
       "      <td>3.0</td>\n",
       "    </tr>\n",
       "    <tr>\n",
       "      <th>945</th>\n",
       "      <td>945</td>\n",
       "      <td>00willo/ipa-scripts</td>\n",
       "      <td>python</td>\n",
       "      <td>1486</td>\n",
       "      <td>2016-02-03 12:18:09</td>\n",
       "      <td>00willo</td>\n",
       "      <td>3</td>\n",
       "      <td>396</td>\n",
       "      <td>0</td>\n",
       "      <td>ipa-scripts</td>\n",
       "      <td>13.0</td>\n",
       "      <td>1.0</td>\n",
       "      <td>7.0</td>\n",
       "    </tr>\n",
       "    <tr>\n",
       "      <th>946</th>\n",
       "      <td>946</td>\n",
       "      <td>00willo/nsmnow</td>\n",
       "      <td>shell</td>\n",
       "      <td>306607</td>\n",
       "      <td>2016-02-03 12:18:08</td>\n",
       "      <td>00willo</td>\n",
       "      <td>10</td>\n",
       "      <td>21871</td>\n",
       "      <td>380</td>\n",
       "      <td>nsmnow</td>\n",
       "      <td>13.0</td>\n",
       "      <td>1.0</td>\n",
       "      <td>7.0</td>\n",
       "    </tr>\n",
       "    <tr>\n",
       "      <th>951</th>\n",
       "      <td>951</td>\n",
       "      <td>01000101/cloudify-vultr-plugin</td>\n",
       "      <td>python</td>\n",
       "      <td>7514</td>\n",
       "      <td>2016-02-03 12:19:20</td>\n",
       "      <td>01000101</td>\n",
       "      <td>8</td>\n",
       "      <td>482</td>\n",
       "      <td>110</td>\n",
       "      <td>cloudify-vultr-plugin</td>\n",
       "      <td>1.0</td>\n",
       "      <td>1.0</td>\n",
       "      <td>4.0</td>\n",
       "    </tr>\n",
       "    <tr>\n",
       "      <th>952</th>\n",
       "      <td>952</td>\n",
       "      <td>01000101/insteon-75790-recorder</td>\n",
       "      <td>javascript</td>\n",
       "      <td>8058</td>\n",
       "      <td>2015-10-09 20:53:07</td>\n",
       "      <td>01000101</td>\n",
       "      <td>11</td>\n",
       "      <td>708</td>\n",
       "      <td>71</td>\n",
       "      <td>insteon-75790-recorder</td>\n",
       "      <td>1.0</td>\n",
       "      <td>1.0</td>\n",
       "      <td>4.0</td>\n",
       "    </tr>\n",
       "  </tbody>\n",
       "</table>\n",
       "</div>"
      ],
      "text/plain": [
       "     Unnamed: 0                                  slug    language   bytes  \\\n",
       "22           22  00091701/WebChangedNotification-Mono          c#   15828   \n",
       "56           56         000paradox000/python_password      python    1073   \n",
       "81           81                  00111000/Tic-Tac-Toe      python   14953   \n",
       "627         627                       00benallen/Deep        java   55408   \n",
       "628         628   00benallen/swift-business-processor       swift    6092   \n",
       "757         757             00firestar00/QueryBuilder        java   19235   \n",
       "945         945                   00willo/ipa-scripts      python    1486   \n",
       "946         946                        00willo/nsmnow       shell  306607   \n",
       "951         951        01000101/cloudify-vultr-plugin      python    7514   \n",
       "952         952       01000101/insteon-75790-recorder  javascript    8058   \n",
       "\n",
       "              created_at          login  commits  additions  deletions  \\\n",
       "22   2016-02-03 12:09:32  DavidHoffmann        1          2          0   \n",
       "56   2016-02-03 12:10:00  000paradox000        1        734          0   \n",
       "81   2016-09-01 12:03:28       00111000        6          5          5   \n",
       "627  2015-10-09 20:52:44     00benallen       25       3758       1295   \n",
       "628  2018-09-03 01:46:26     00benallen       11       2697        591   \n",
       "757  2016-02-03 12:16:03   00firestar00        3        943         41   \n",
       "945  2016-02-03 12:18:09        00willo        3        396          0   \n",
       "946  2016-02-03 12:18:08        00willo       10      21871        380   \n",
       "951  2016-02-03 12:19:20       01000101        8        482        110   \n",
       "952  2015-10-09 20:53:07       01000101       11        708         71   \n",
       "\n",
       "                            Repo  Membership       CNM   Louvain  \n",
       "22   WebChangedNotification-Mono         3.0       3.0      11.0  \n",
       "56               python_password         9.0   52347.0       3.0  \n",
       "81                   Tic-Tac-Toe         0.0       0.0       9.0  \n",
       "627                         Deep    123000.0  135402.0  123216.0  \n",
       "628     swift-business-processor    123000.0  135402.0  123216.0  \n",
       "757                 QueryBuilder         5.0       5.0       3.0  \n",
       "945                  ipa-scripts        13.0       1.0       7.0  \n",
       "946                       nsmnow        13.0       1.0       7.0  \n",
       "951        cloudify-vultr-plugin         1.0       1.0       4.0  \n",
       "952       insteon-75790-recorder         1.0       1.0       4.0  "
      ]
     },
     "execution_count": 24,
     "metadata": {},
     "output_type": "execute_result"
    }
   ],
   "source": [
    "One_languege_repos_m.head(10).dropna()"
   ]
  },
  {
   "cell_type": "code",
   "execution_count": 28,
   "metadata": {},
   "outputs": [
    {
     "data": {
      "image/png": "[encoded data removed]",
      "text/plain": [
       "<Figure size 432x288 with 1 Axes>"
      ]
     },
     "metadata": {
      "needs_background": "light"
     },
     "output_type": "display_data"
    }
   ],
   "source": [
    "rep_mem_language = One_languege_repos_Louvain.groupby(\"Louvain\")[\"language\"].nunique()\n",
    "rep_mem_language.plot.hist(bins = 200,color = \"RED\", xlim=(0,15))\n",
    "plt.suptitle(\"Distribution of # diff languages in communities Louvain, 70\")\n",
    "\n",
    "plt.savefig('no_mem_no_unique Louvain_langs.png')\n"
   ]
  },
  {
   "cell_type": "code",
   "execution_count": 39,
   "metadata": {},
   "outputs": [
    {
     "data": {
      "image/png": "[encoded data removed]",
      "text/plain": [
       "<Figure size 432x288 with 1 Axes>"
      ]
     },
     "metadata": {
      "needs_background": "light"
     },
     "output_type": "display_data"
    }
   ],
   "source": [
    "rep_mem_language = One_languege_repos_m.groupby(\"Membership\")[\"language\"].nunique()\n",
    "rep_mem_language.plot.hist(bins = 200,color = \"magenta\", xlim=(0,15))\n",
    "plt.suptitle(\"Distribution of # diff languages in communities RNBRW, 70\")\n",
    "\n",
    "plt.savefig('no_mem_no_unique rnbrw_langs.png')"
   ]
  },
  {
   "cell_type": "code",
   "execution_count": 38,
   "metadata": {},
   "outputs": [
    {
     "data": {
      "image/png": "[encoded data removed]",
      "text/plain": [
       "<Figure size 432x288 with 1 Axes>"
      ]
     },
     "metadata": {
      "needs_background": "light"
     },
     "output_type": "display_data"
    }
   ],
   "source": [
    "rep_mem_language = One_languege_repos_cnm.groupby(\"CNM\")[\"language\"].nunique()\n",
    "rep_mem_language.plot.hist(bins = 200,color = \"skyblue\", xlim=(0,15))\n",
    "plt.suptitle(\"Distribution of # diff languages in communities, CNM70\")\n",
    "\n",
    "plt.savefig('no_mem_no_unique_langscnm.png')"
   ]
  },
  {
   "cell_type": "code",
   "execution_count": null,
   "metadata": {},
   "outputs": [],
   "source": []
  },
  {
   "cell_type": "code",
   "execution_count": 46,
   "metadata": {},
   "outputs": [
    {
     "data": {
      "text/plain": [
       "Membership\n",
       "0.0          2156\n",
       "1.0          9408\n",
       "2.0          7041\n",
       "3.0          3827\n",
       "4.0         10776\n",
       "            ...  \n",
       "275058.0        1\n",
       "275063.0        1\n",
       "275075.0        1\n",
       "275079.0        1\n",
       "275080.0        1\n",
       "Name: login, Length: 59484, dtype: int64"
      ]
     },
     "execution_count": 46,
     "metadata": {},
     "output_type": "execute_result"
    }
   ],
   "source": [
    "rep_mem_language "
   ]
  },
  {
   "cell_type": "code",
   "execution_count": 336,
   "metadata": {},
   "outputs": [
    {
     "data": {
      "text/plain": [
       "Text(0.5, 0.98, 'Distribution of # diff languages in communities, all')"
      ]
     },
     "execution_count": 336,
     "metadata": {},
     "output_type": "execute_result"
    },
    {
     "data": {
      "image/png": "[encoded data removed]",
      "text/plain": [
       "<Figure size 432x288 with 1 Axes>"
      ]
     },
     "metadata": {
      "needs_background": "light"
     },
     "output_type": "display_data"
    }
   ],
   "source": [
    "rep_mem_langu_m=repos_m.groupby(\"Membership\")[\"language\"].nunique()\n",
    "rep_mem_langu_m.plot.hist(bins = 200, xlim=(0,15))\n",
    "plt.savefig('no_mem_no_unique_langm.png')\n",
    "plt.suptitle(\"Distribution of # diff languages in communities, all\")"
   ]
  },
  {
   "cell_type": "markdown",
   "metadata": {},
   "source": [
    "## Step0:look at all the lang and repos, porportion as an explatory step, removes repo"
   ]
  },
  {
   "cell_type": "markdown",
   "metadata": {},
   "source": [
    "## Step 1: one lang assignment per user with all and 70% of the data"
   ]
  },
  {
   "cell_type": "markdown",
   "metadata": {},
   "source": [
    "## Step 2: Multi lang assignment per user with all and 70% of the data"
   ]
  },
  {
   "cell_type": "markdown",
   "metadata": {},
   "source": [
    "# Single languge assignment to users rule"
   ]
  },
  {
   "cell_type": "markdown",
   "metadata": {},
   "source": [
    "## Rule1: Langueges_byte, multi threshold on # of bytes"
   ]
  },
  {
   "cell_type": "markdown",
   "metadata": {},
   "source": [
    "## Rule2: Langueges_commit, multi: threshold on # of commit"
   ]
  },
  {
   "cell_type": "markdown",
   "metadata": {},
   "source": [
    "## Rule 3: Lang_majority, multi, threshold on # of lang"
   ]
  },
  {
   "cell_type": "markdown",
   "metadata": {},
   "source": [
    "## Rule4: Ownership and go by max bytes, for the multi lang byte threshold"
   ]
  },
  {
   "cell_type": "markdown",
   "metadata": {},
   "source": [
    "Note: remove commuities with single users and two users"
   ]
  },
  {
   "cell_type": "markdown",
   "metadata": {},
   "source": [
    "# Step 0:"
   ]
  },
  {
   "cell_type": "code",
   "execution_count": 7,
   "metadata": {},
   "outputs": [
    {
     "ename": "NameError",
     "evalue": "name 'repos_m' is not defined",
     "output_type": "error",
     "traceback": [
      "\u001b[0;31m---------------------------------------------------------------------------\u001b[0m",
      "\u001b[0;31mNameError\u001b[0m                                 Traceback (most recent call last)",
      "\u001b[0;32m<ipython-input-7-fd7ab08bc71e>\u001b[0m in \u001b[0;36m<module>\u001b[0;34m\u001b[0m\n\u001b[0;32m----> 1\u001b[0;31m \u001b[0mnews\u001b[0m \u001b[0;34m=\u001b[0m \u001b[0mrepos_m\u001b[0m\u001b[0;34m[\u001b[0m\u001b[0;34m\"slug\"\u001b[0m\u001b[0;34m]\u001b[0m\u001b[0;34m.\u001b[0m\u001b[0mstr\u001b[0m\u001b[0;34m.\u001b[0m\u001b[0msplit\u001b[0m\u001b[0;34m(\u001b[0m\u001b[0;34m\"/\"\u001b[0m\u001b[0;34m,\u001b[0m\u001b[0mexpand\u001b[0m \u001b[0;34m=\u001b[0m \u001b[0;32mTrue\u001b[0m\u001b[0;34m)\u001b[0m\u001b[0;34m\u001b[0m\u001b[0;34m\u001b[0m\u001b[0m\n\u001b[0m\u001b[1;32m      2\u001b[0m \u001b[0;34m\u001b[0m\u001b[0m\n\u001b[1;32m      3\u001b[0m \u001b[0;31m# making separate contributor column from new data frame\u001b[0m\u001b[0;34m\u001b[0m\u001b[0;34m\u001b[0m\u001b[0;34m\u001b[0m\u001b[0m\n\u001b[1;32m      4\u001b[0m \u001b[0mrepos_m\u001b[0m\u001b[0;34m[\u001b[0m\u001b[0;34m\"Repo\"\u001b[0m\u001b[0;34m]\u001b[0m\u001b[0;34m=\u001b[0m \u001b[0mnews\u001b[0m\u001b[0;34m[\u001b[0m\u001b[0;36m1\u001b[0m\u001b[0;34m]\u001b[0m\u001b[0;34m\u001b[0m\u001b[0;34m\u001b[0m\u001b[0m\n",
      "\u001b[0;31mNameError\u001b[0m: name 'repos_m' is not defined"
     ]
    }
   ],
   "source": [
    "news = repos_m[\"slug\"].str.split(\"/\",expand = True)\n",
    "  \n",
    "# making separate contributor column from new data frame \n",
    "repos_m[\"Repo\"]= news[1] "
   ]
  },
  {
   "cell_type": "code",
   "execution_count": 59,
   "metadata": {},
   "outputs": [],
   "source": [
    "Membership_LRN = pd.read_pickle(\"mem_luv_rnbrw.pickle\")\n",
    "#dictionary with key:0,1,.. membership and value is list of users\n",
    "Membership_LRN_rev = {val: key for key in Membership_LRN for val in Membership_LRN[key]}\n",
    "# Membership_LRN_rev: key: slugs, value: membership"
   ]
  },
  {
   "cell_type": "code",
   "execution_count": 63,
   "metadata": {},
   "outputs": [],
   "source": [
    "repos_m['Membership'] = repos_m['login'].map(Membership_LRN_rev)"
   ]
  },
  {
   "cell_type": "code",
   "execution_count": null,
   "metadata": {},
   "outputs": [],
   "source": [
    "len(repos['Membership'])"
   ]
  },
  {
   "cell_type": "code",
   "execution_count": null,
   "metadata": {},
   "outputs": [],
   "source": [
    "step_0 = repos_m[['login', 'language', 'Membership']].dropna()"
   ]
  },
  {
   "cell_type": "code",
   "execution_count": null,
   "metadata": {},
   "outputs": [],
   "source": [
    "step_0.head(100)"
   ]
  },
  {
   "cell_type": "code",
   "execution_count": 35,
   "metadata": {},
   "outputs": [
    {
     "data": {
      "text/plain": [
       "15096290"
      ]
     },
     "execution_count": 35,
     "metadata": {},
     "output_type": "execute_result"
    }
   ],
   "source": [
    "len(step_0[\"login\"])"
   ]
  },
  {
   "cell_type": "markdown",
   "metadata": {},
   "source": [
    "# Step1, single Languge assignement (all+70%):"
   ]
  },
  {
   "cell_type": "markdown",
   "metadata": {},
   "source": [
    "## Step1-rule1: number of Langueges_byte:"
   ]
  },
  {
   "cell_type": "markdown",
   "metadata": {},
   "source": [
    "In this section, I want to assign a language to a user. I had to drift-off of both rulesets: (i) number of times a language is used in different repos, (ii) number of commits; due to the number of ties and not abling to assign one lanhguage. "
   ]
  },
  {
   "cell_type": "markdown",
   "metadata": {},
   "source": [
    "For now, let us choose the number of bytes used in the language to choose and assign it to the user."
   ]
  },
  {
   "cell_type": "code",
   "execution_count": 64,
   "metadata": {},
   "outputs": [],
   "source": [
    "# repos['max_bytes'] = repos.groupby([\"login\",\"language\"])['bytes'].transform(max)"
   ]
  },
  {
   "cell_type": "code",
   "execution_count": 29,
   "metadata": {},
   "outputs": [],
   "source": [
    "One_languege_repos_m['max_bytes_user'] = One_languege_repos_m.groupby([\"login\",\"language\"])['bytes'].transform(max)# 70%"
   ]
  },
  {
   "cell_type": "code",
   "execution_count": 30,
   "metadata": {},
   "outputs": [],
   "source": [
    "repos_m['max_bytes_user'] = repos_m.groupby([\"login\",\"language\"])['bytes'].transform(max)                         # all"
   ]
  },
  {
   "cell_type": "code",
   "execution_count": 31,
   "metadata": {},
   "outputs": [],
   "source": [
    "repos_lang = One_languege_repos_m.loc[One_languege_repos_m['bytes']==One_languege_repos_m['max_bytes_user']]# 70%"
   ]
  },
  {
   "cell_type": "code",
   "execution_count": 32,
   "metadata": {},
   "outputs": [],
   "source": [
    "repos_lang_all =repos_m.loc[repos_m['bytes']==repos_m['max_bytes_user']]#all"
   ]
  },
  {
   "cell_type": "code",
   "execution_count": 35,
   "metadata": {},
   "outputs": [],
   "source": [
    "step1_rule1_70_bytes = repos_lang[['login', 'language', 'Membership']].dropna()# 70"
   ]
  },
  {
   "cell_type": "code",
   "execution_count": 37,
   "metadata": {},
   "outputs": [],
   "source": [
    "step1_rule1_all_bytes = repos_lang_all[['login', 'language', 'Membership']].dropna()#all"
   ]
  },
  {
   "cell_type": "code",
   "execution_count": 38,
   "metadata": {},
   "outputs": [
    {
     "data": {
      "text/html": [
       "<div>\n",
       "<style scoped>\n",
       "    .dataframe tbody tr th:only-of-type {\n",
       "        vertical-align: middle;\n",
       "    }\n",
       "\n",
       "    .dataframe tbody tr th {\n",
       "        vertical-align: top;\n",
       "    }\n",
       "\n",
       "    .dataframe thead th {\n",
       "        text-align: right;\n",
       "    }\n",
       "</style>\n",
       "<table border=\"1\" class=\"dataframe\">\n",
       "  <thead>\n",
       "    <tr style=\"text-align: right;\">\n",
       "      <th></th>\n",
       "      <th>login</th>\n",
       "      <th>language</th>\n",
       "      <th>Membership</th>\n",
       "    </tr>\n",
       "  </thead>\n",
       "  <tbody>\n",
       "    <tr>\n",
       "      <th>22</th>\n",
       "      <td>DavidHoffmann</td>\n",
       "      <td>c#</td>\n",
       "      <td>3.0</td>\n",
       "    </tr>\n",
       "    <tr>\n",
       "      <th>56</th>\n",
       "      <td>000paradox000</td>\n",
       "      <td>python</td>\n",
       "      <td>9.0</td>\n",
       "    </tr>\n",
       "    <tr>\n",
       "      <th>81</th>\n",
       "      <td>00111000</td>\n",
       "      <td>python</td>\n",
       "      <td>0.0</td>\n",
       "    </tr>\n",
       "    <tr>\n",
       "      <th>627</th>\n",
       "      <td>00benallen</td>\n",
       "      <td>java</td>\n",
       "      <td>123000.0</td>\n",
       "    </tr>\n",
       "    <tr>\n",
       "      <th>628</th>\n",
       "      <td>00benallen</td>\n",
       "      <td>swift</td>\n",
       "      <td>123000.0</td>\n",
       "    </tr>\n",
       "    <tr>\n",
       "      <th>...</th>\n",
       "      <td>...</td>\n",
       "      <td>...</td>\n",
       "      <td>...</td>\n",
       "    </tr>\n",
       "    <tr>\n",
       "      <th>11089</th>\n",
       "      <td>0x1fff</td>\n",
       "      <td>shell</td>\n",
       "      <td>39644.0</td>\n",
       "    </tr>\n",
       "    <tr>\n",
       "      <th>11092</th>\n",
       "      <td>0x1fff</td>\n",
       "      <td>perl</td>\n",
       "      <td>39644.0</td>\n",
       "    </tr>\n",
       "    <tr>\n",
       "      <th>11203</th>\n",
       "      <td>0x2aff</td>\n",
       "      <td>shell</td>\n",
       "      <td>6.0</td>\n",
       "    </tr>\n",
       "    <tr>\n",
       "      <th>11249</th>\n",
       "      <td>0x3333</td>\n",
       "      <td>dart</td>\n",
       "      <td>2.0</td>\n",
       "    </tr>\n",
       "    <tr>\n",
       "      <th>11250</th>\n",
       "      <td>0x3333</td>\n",
       "      <td>java</td>\n",
       "      <td>2.0</td>\n",
       "    </tr>\n",
       "  </tbody>\n",
       "</table>\n",
       "<p>100 rows × 3 columns</p>\n",
       "</div>"
      ],
      "text/plain": [
       "               login language  Membership\n",
       "22     DavidHoffmann       c#         3.0\n",
       "56     000paradox000   python         9.0\n",
       "81          00111000   python         0.0\n",
       "627       00benallen     java    123000.0\n",
       "628       00benallen    swift    123000.0\n",
       "...              ...      ...         ...\n",
       "11089         0x1fff    shell     39644.0\n",
       "11092         0x1fff     perl     39644.0\n",
       "11203         0x2aff    shell         6.0\n",
       "11249         0x3333     dart         2.0\n",
       "11250         0x3333     java         2.0\n",
       "\n",
       "[100 rows x 3 columns]"
      ]
     },
     "execution_count": 38,
     "metadata": {},
     "output_type": "execute_result"
    }
   ],
   "source": [
    "step1_rule1_70_bytes.head(100)# 70 "
   ]
  },
  {
   "cell_type": "code",
   "execution_count": 39,
   "metadata": {},
   "outputs": [
    {
     "data": {
      "text/html": [
       "<div>\n",
       "<style scoped>\n",
       "    .dataframe tbody tr th:only-of-type {\n",
       "        vertical-align: middle;\n",
       "    }\n",
       "\n",
       "    .dataframe tbody tr th {\n",
       "        vertical-align: top;\n",
       "    }\n",
       "\n",
       "    .dataframe thead th {\n",
       "        text-align: right;\n",
       "    }\n",
       "</style>\n",
       "<table border=\"1\" class=\"dataframe\">\n",
       "  <thead>\n",
       "    <tr style=\"text-align: right;\">\n",
       "      <th></th>\n",
       "      <th>login</th>\n",
       "      <th>language</th>\n",
       "      <th>Membership</th>\n",
       "    </tr>\n",
       "  </thead>\n",
       "  <tbody>\n",
       "    <tr>\n",
       "      <th>17</th>\n",
       "      <td>DavidHoffmann</td>\n",
       "      <td>c#</td>\n",
       "      <td>3.0</td>\n",
       "    </tr>\n",
       "    <tr>\n",
       "      <th>35</th>\n",
       "      <td>000paradox000</td>\n",
       "      <td>css</td>\n",
       "      <td>9.0</td>\n",
       "    </tr>\n",
       "    <tr>\n",
       "      <th>36</th>\n",
       "      <td>000paradox000</td>\n",
       "      <td>tex</td>\n",
       "      <td>9.0</td>\n",
       "    </tr>\n",
       "    <tr>\n",
       "      <th>46</th>\n",
       "      <td>000paradox000</td>\n",
       "      <td>html</td>\n",
       "      <td>9.0</td>\n",
       "    </tr>\n",
       "    <tr>\n",
       "      <th>60</th>\n",
       "      <td>mukko</td>\n",
       "      <td>apacheconf</td>\n",
       "      <td>271077.0</td>\n",
       "    </tr>\n",
       "    <tr>\n",
       "      <th>...</th>\n",
       "      <td>...</td>\n",
       "      <td>...</td>\n",
       "      <td>...</td>\n",
       "    </tr>\n",
       "    <tr>\n",
       "      <th>616</th>\n",
       "      <td>007-surajit</td>\n",
       "      <td>javascript</td>\n",
       "      <td>210931.0</td>\n",
       "    </tr>\n",
       "    <tr>\n",
       "      <th>617</th>\n",
       "      <td>007-surajit</td>\n",
       "      <td>html</td>\n",
       "      <td>210931.0</td>\n",
       "    </tr>\n",
       "    <tr>\n",
       "      <th>627</th>\n",
       "      <td>00benallen</td>\n",
       "      <td>java</td>\n",
       "      <td>123000.0</td>\n",
       "    </tr>\n",
       "    <tr>\n",
       "      <th>628</th>\n",
       "      <td>00benallen</td>\n",
       "      <td>swift</td>\n",
       "      <td>123000.0</td>\n",
       "    </tr>\n",
       "    <tr>\n",
       "      <th>630</th>\n",
       "      <td>00cpxxx</td>\n",
       "      <td>shell</td>\n",
       "      <td>5.0</td>\n",
       "    </tr>\n",
       "  </tbody>\n",
       "</table>\n",
       "<p>100 rows × 3 columns</p>\n",
       "</div>"
      ],
      "text/plain": [
       "             login    language  Membership\n",
       "17   DavidHoffmann          c#         3.0\n",
       "35   000paradox000         css         9.0\n",
       "36   000paradox000         tex         9.0\n",
       "46   000paradox000        html         9.0\n",
       "60           mukko  apacheconf    271077.0\n",
       "..             ...         ...         ...\n",
       "616    007-surajit  javascript    210931.0\n",
       "617    007-surajit        html    210931.0\n",
       "627     00benallen        java    123000.0\n",
       "628     00benallen       swift    123000.0\n",
       "630        00cpxxx       shell         5.0\n",
       "\n",
       "[100 rows x 3 columns]"
      ]
     },
     "execution_count": 39,
     "metadata": {},
     "output_type": "execute_result"
    }
   ],
   "source": [
    "step1_rule1_all_bytes.head(100) #all"
   ]
  },
  {
   "cell_type": "code",
   "execution_count": 58,
   "metadata": {},
   "outputs": [
    {
     "data": {
      "text/plain": [
       "(131051, 3)"
      ]
     },
     "execution_count": 58,
     "metadata": {},
     "output_type": "execute_result"
    }
   ],
   "source": [
    "step1_rule1_70_bytes.shape"
   ]
  },
  {
   "cell_type": "code",
   "execution_count": 59,
   "metadata": {},
   "outputs": [
    {
     "data": {
      "text/plain": [
       "18418"
      ]
     },
     "execution_count": 59,
     "metadata": {},
     "output_type": "execute_result"
    }
   ],
   "source": [
    "len(step1_rule1_70_bytes['Membership'].unique())"
   ]
  },
  {
   "cell_type": "code",
   "execution_count": 40,
   "metadata": {},
   "outputs": [],
   "source": [
    "step1_rule1_70_bytes_group_mem=step1_rule1_70_bytes.groupby(['Membership'])['language'].nunique()\n",
    "step1_rule1_all_bytes_group_mem=step1_rule1_all_bytes.groupby(['Membership'])['language'].nunique()"
   ]
  },
  {
   "cell_type": "code",
   "execution_count": 338,
   "metadata": {},
   "outputs": [
    {
     "data": {
      "text/plain": [
       "Text(0.5, 0.98, 'Distribution of # diff languages by rul1-1 in communities, 70')"
      ]
     },
     "execution_count": 338,
     "metadata": {},
     "output_type": "execute_result"
    },
    {
     "data": {
      "image/png": "[encoded data removed]",
      "text/plain": [
       "<Figure size 432x288 with 1 Axes>"
      ]
     },
     "metadata": {
      "needs_background": "light"
     },
     "output_type": "display_data"
    }
   ],
   "source": [
    "step1_rule1_70_bytes_group_mem.plot.hist(bins = 200, xlim=(0,15))#70\n",
    "plt.savefig('step1_rule1_70_bytes_lang_mem.png')\n",
    "plt.suptitle(\"Distribution of # diff languages by rul1-1 in communities, 70\")\n"
   ]
  },
  {
   "cell_type": "code",
   "execution_count": 337,
   "metadata": {},
   "outputs": [
    {
     "data": {
      "text/plain": [
       "Text(0.5, 0.98, 'Distribution of # diff languagesby rul 1-1 in communities, all')"
      ]
     },
     "execution_count": 337,
     "metadata": {},
     "output_type": "execute_result"
    },
    {
     "data": {
      "image/png": "[encoded data removed]",
      "text/plain": [
       "<Figure size 432x288 with 1 Axes>"
      ]
     },
     "metadata": {
      "needs_background": "light"
     },
     "output_type": "display_data"
    }
   ],
   "source": [
    "step1_rule1_all_bytes_group_mem.plot.hist(bins = 200, xlim=(0,15))#ALL\n",
    "plt.savefig('step1_rule1_all_bytes_lang_mem.png')\n",
    "plt.suptitle(\"Distribution of # diff languagesby rul 1-1 in communities, all\")"
   ]
  },
  {
   "cell_type": "markdown",
   "metadata": {},
   "source": [
    "### Top 10 lang using step1-rule1 assignement for both 70 persent of the data vs all:"
   ]
  },
  {
   "cell_type": "code",
   "execution_count": 50,
   "metadata": {},
   "outputs": [
    {
     "data": {
      "image/png": "[encoded data removed]",
      "text/plain": [
       "<Figure size 432x288 with 1 Axes>"
      ]
     },
     "metadata": {
      "needs_background": "light"
     },
     "output_type": "display_data"
    }
   ],
   "source": [
    "sns.countplot(y=\"language\", data=step1_rule1_70_bytes,\n",
    "              order = step1_rule1_70_bytes['language'].value_counts().iloc[:10].index)\n",
    "plt.savefig('language_step1 rule1_70_top10.png')"
   ]
  },
  {
   "cell_type": "code",
   "execution_count": 64,
   "metadata": {},
   "outputs": [
    {
     "data": {
      "text/plain": [
       "login            language    Membership\n",
       "gcushen          shell       4.0           122\n",
       "mmathieum        shell       45764.0        98\n",
       "piotrekkaminski  php         6.0            35\n",
       "kentcollins      java        97047.0        26\n",
       "liangzan         javascript  1.0            25\n",
       "                                          ... \n",
       "mishok13         emacs lisp  9.0             1\n",
       "                 clojure     9.0             1\n",
       "misho104         perl        13.0            1\n",
       "misho-kr         shell       13.0            1\n",
       "0                javascript  1.0             1\n",
       "Length: 190213, dtype: int64"
      ]
     },
     "execution_count": 64,
     "metadata": {},
     "output_type": "execute_result"
    }
   ],
   "source": [
    "step1_rule1_70_bytes.value_counts()"
   ]
  },
  {
   "cell_type": "code",
   "execution_count": 49,
   "metadata": {},
   "outputs": [
    {
     "data": {
      "image/png": "[encoded data removed]",
      "text/plain": [
       "<Figure size 432x288 with 1 Axes>"
      ]
     },
     "metadata": {
      "needs_background": "light"
     },
     "output_type": "display_data"
    }
   ],
   "source": [
    "sns.countplot(y=\"language\", data=step1_rule1_all_bytes,\n",
    "              order = step1_rule1_all_bytes['language'].value_counts().iloc[:10].index)\n",
    "plt.savefig('language_step1 rule1_all_top5.png')"
   ]
  },
  {
   "cell_type": "code",
   "execution_count": 70,
   "metadata": {},
   "outputs": [
    {
     "data": {
      "text/html": [
       "<div>\n",
       "<style scoped>\n",
       "    .dataframe tbody tr th:only-of-type {\n",
       "        vertical-align: middle;\n",
       "    }\n",
       "\n",
       "    .dataframe tbody tr th {\n",
       "        vertical-align: top;\n",
       "    }\n",
       "\n",
       "    .dataframe thead th {\n",
       "        text-align: right;\n",
       "    }\n",
       "</style>\n",
       "<table border=\"1\" class=\"dataframe\">\n",
       "  <thead>\n",
       "    <tr style=\"text-align: right;\">\n",
       "      <th></th>\n",
       "      <th>Unnamed: 0</th>\n",
       "      <th>slug</th>\n",
       "      <th>language</th>\n",
       "      <th>bytes</th>\n",
       "      <th>created_at</th>\n",
       "      <th>login</th>\n",
       "      <th>commits</th>\n",
       "      <th>additions</th>\n",
       "      <th>deletions</th>\n",
       "      <th>Repo</th>\n",
       "      <th>Membership</th>\n",
       "      <th>CNM</th>\n",
       "      <th>Louvain</th>\n",
       "      <th>max_bytes_user</th>\n",
       "      <th>max_commit_user</th>\n",
       "    </tr>\n",
       "  </thead>\n",
       "  <tbody>\n",
       "    <tr>\n",
       "      <th>262920</th>\n",
       "      <td>262920</td>\n",
       "      <td>aanjhan/academic-kickstart</td>\n",
       "      <td>shell</td>\n",
       "      <td>231</td>\n",
       "      <td>2018-08-07 03:06:31</td>\n",
       "      <td>gcushen</td>\n",
       "      <td>21</td>\n",
       "      <td>811</td>\n",
       "      <td>76</td>\n",
       "      <td>academic-kickstart</td>\n",
       "      <td>4.0</td>\n",
       "      <td>42.0</td>\n",
       "      <td>2.0</td>\n",
       "      <td>231</td>\n",
       "      <td>158</td>\n",
       "    </tr>\n",
       "    <tr>\n",
       "      <th>321346</th>\n",
       "      <td>321346</td>\n",
       "      <td>AbdulYahya/academic-kickstart</td>\n",
       "      <td>shell</td>\n",
       "      <td>231</td>\n",
       "      <td>2018-09-18 03:41:45</td>\n",
       "      <td>gcushen</td>\n",
       "      <td>23</td>\n",
       "      <td>983</td>\n",
       "      <td>103</td>\n",
       "      <td>academic-kickstart</td>\n",
       "      <td>4.0</td>\n",
       "      <td>42.0</td>\n",
       "      <td>2.0</td>\n",
       "      <td>231</td>\n",
       "      <td>158</td>\n",
       "    </tr>\n",
       "    <tr>\n",
       "      <th>340593</th>\n",
       "      <td>340593</td>\n",
       "      <td>abhipatil123/academic-kickstart</td>\n",
       "      <td>shell</td>\n",
       "      <td>231</td>\n",
       "      <td>2018-09-15 14:24:56</td>\n",
       "      <td>gcushen</td>\n",
       "      <td>23</td>\n",
       "      <td>983</td>\n",
       "      <td>103</td>\n",
       "      <td>academic-kickstart</td>\n",
       "      <td>4.0</td>\n",
       "      <td>42.0</td>\n",
       "      <td>2.0</td>\n",
       "      <td>231</td>\n",
       "      <td>158</td>\n",
       "    </tr>\n",
       "    <tr>\n",
       "      <th>751688</th>\n",
       "      <td>751688</td>\n",
       "      <td>ajroyer/academic-kickstart</td>\n",
       "      <td>shell</td>\n",
       "      <td>231</td>\n",
       "      <td>2018-09-18 05:11:05</td>\n",
       "      <td>gcushen</td>\n",
       "      <td>23</td>\n",
       "      <td>983</td>\n",
       "      <td>103</td>\n",
       "      <td>academic-kickstart</td>\n",
       "      <td>4.0</td>\n",
       "      <td>42.0</td>\n",
       "      <td>2.0</td>\n",
       "      <td>231</td>\n",
       "      <td>158</td>\n",
       "    </tr>\n",
       "    <tr>\n",
       "      <th>832786</th>\n",
       "      <td>832786</td>\n",
       "      <td>alanponce/academic-kickstart</td>\n",
       "      <td>shell</td>\n",
       "      <td>231</td>\n",
       "      <td>2018-10-08 01:41:42</td>\n",
       "      <td>gcushen</td>\n",
       "      <td>24</td>\n",
       "      <td>1083</td>\n",
       "      <td>132</td>\n",
       "      <td>academic-kickstart</td>\n",
       "      <td>4.0</td>\n",
       "      <td>42.0</td>\n",
       "      <td>2.0</td>\n",
       "      <td>231</td>\n",
       "      <td>158</td>\n",
       "    </tr>\n",
       "    <tr>\n",
       "      <th>...</th>\n",
       "      <td>...</td>\n",
       "      <td>...</td>\n",
       "      <td>...</td>\n",
       "      <td>...</td>\n",
       "      <td>...</td>\n",
       "      <td>...</td>\n",
       "      <td>...</td>\n",
       "      <td>...</td>\n",
       "      <td>...</td>\n",
       "      <td>...</td>\n",
       "      <td>...</td>\n",
       "      <td>...</td>\n",
       "      <td>...</td>\n",
       "      <td>...</td>\n",
       "      <td>...</td>\n",
       "    </tr>\n",
       "    <tr>\n",
       "      <th>27428832</th>\n",
       "      <td>27428832</td>\n",
       "      <td>yacca/academic-kickstart</td>\n",
       "      <td>shell</td>\n",
       "      <td>231</td>\n",
       "      <td>2018-09-20 08:01:54</td>\n",
       "      <td>gcushen</td>\n",
       "      <td>23</td>\n",
       "      <td>983</td>\n",
       "      <td>103</td>\n",
       "      <td>academic-kickstart</td>\n",
       "      <td>4.0</td>\n",
       "      <td>42.0</td>\n",
       "      <td>2.0</td>\n",
       "      <td>231</td>\n",
       "      <td>158</td>\n",
       "    </tr>\n",
       "    <tr>\n",
       "      <th>27464329</th>\n",
       "      <td>27464329</td>\n",
       "      <td>yangliustat/mywebsite</td>\n",
       "      <td>shell</td>\n",
       "      <td>231</td>\n",
       "      <td>2018-09-09 19:25:24</td>\n",
       "      <td>gcushen</td>\n",
       "      <td>23</td>\n",
       "      <td>983</td>\n",
       "      <td>103</td>\n",
       "      <td>mywebsite</td>\n",
       "      <td>4.0</td>\n",
       "      <td>42.0</td>\n",
       "      <td>2.0</td>\n",
       "      <td>231</td>\n",
       "      <td>158</td>\n",
       "    </tr>\n",
       "    <tr>\n",
       "      <th>27705103</th>\n",
       "      <td>27705103</td>\n",
       "      <td>yueruchen/academic-kickstart</td>\n",
       "      <td>shell</td>\n",
       "      <td>231</td>\n",
       "      <td>2018-07-31 22:09:37</td>\n",
       "      <td>gcushen</td>\n",
       "      <td>46</td>\n",
       "      <td>1775</td>\n",
       "      <td>720</td>\n",
       "      <td>academic-kickstart</td>\n",
       "      <td>4.0</td>\n",
       "      <td>42.0</td>\n",
       "      <td>2.0</td>\n",
       "      <td>231</td>\n",
       "      <td>158</td>\n",
       "    </tr>\n",
       "    <tr>\n",
       "      <th>28022157</th>\n",
       "      <td>28022157</td>\n",
       "      <td>Zhu-Justin/academic-kickstart</td>\n",
       "      <td>shell</td>\n",
       "      <td>231</td>\n",
       "      <td>2018-09-07 13:29:09</td>\n",
       "      <td>gcushen</td>\n",
       "      <td>23</td>\n",
       "      <td>983</td>\n",
       "      <td>103</td>\n",
       "      <td>academic-kickstart</td>\n",
       "      <td>4.0</td>\n",
       "      <td>42.0</td>\n",
       "      <td>2.0</td>\n",
       "      <td>231</td>\n",
       "      <td>158</td>\n",
       "    </tr>\n",
       "    <tr>\n",
       "      <th>28022166</th>\n",
       "      <td>28022166</td>\n",
       "      <td>Zhu-Justin/website2</td>\n",
       "      <td>shell</td>\n",
       "      <td>231</td>\n",
       "      <td>2018-09-07 15:25:00</td>\n",
       "      <td>gcushen</td>\n",
       "      <td>23</td>\n",
       "      <td>983</td>\n",
       "      <td>103</td>\n",
       "      <td>website2</td>\n",
       "      <td>4.0</td>\n",
       "      <td>42.0</td>\n",
       "      <td>2.0</td>\n",
       "      <td>231</td>\n",
       "      <td>158</td>\n",
       "    </tr>\n",
       "  </tbody>\n",
       "</table>\n",
       "<p>126 rows × 15 columns</p>\n",
       "</div>"
      ],
      "text/plain": [
       "          Unnamed: 0                             slug language  bytes  \\\n",
       "262920        262920       aanjhan/academic-kickstart    shell    231   \n",
       "321346        321346    AbdulYahya/academic-kickstart    shell    231   \n",
       "340593        340593  abhipatil123/academic-kickstart    shell    231   \n",
       "751688        751688       ajroyer/academic-kickstart    shell    231   \n",
       "832786        832786     alanponce/academic-kickstart    shell    231   \n",
       "...              ...                              ...      ...    ...   \n",
       "27428832    27428832         yacca/academic-kickstart    shell    231   \n",
       "27464329    27464329            yangliustat/mywebsite    shell    231   \n",
       "27705103    27705103     yueruchen/academic-kickstart    shell    231   \n",
       "28022157    28022157    Zhu-Justin/academic-kickstart    shell    231   \n",
       "28022166    28022166              Zhu-Justin/website2    shell    231   \n",
       "\n",
       "                   created_at    login  commits  additions  deletions  \\\n",
       "262920    2018-08-07 03:06:31  gcushen       21        811         76   \n",
       "321346    2018-09-18 03:41:45  gcushen       23        983        103   \n",
       "340593    2018-09-15 14:24:56  gcushen       23        983        103   \n",
       "751688    2018-09-18 05:11:05  gcushen       23        983        103   \n",
       "832786    2018-10-08 01:41:42  gcushen       24       1083        132   \n",
       "...                       ...      ...      ...        ...        ...   \n",
       "27428832  2018-09-20 08:01:54  gcushen       23        983        103   \n",
       "27464329  2018-09-09 19:25:24  gcushen       23        983        103   \n",
       "27705103  2018-07-31 22:09:37  gcushen       46       1775        720   \n",
       "28022157  2018-09-07 13:29:09  gcushen       23        983        103   \n",
       "28022166  2018-09-07 15:25:00  gcushen       23        983        103   \n",
       "\n",
       "                        Repo  Membership   CNM  Louvain  max_bytes_user  \\\n",
       "262920    academic-kickstart         4.0  42.0      2.0             231   \n",
       "321346    academic-kickstart         4.0  42.0      2.0             231   \n",
       "340593    academic-kickstart         4.0  42.0      2.0             231   \n",
       "751688    academic-kickstart         4.0  42.0      2.0             231   \n",
       "832786    academic-kickstart         4.0  42.0      2.0             231   \n",
       "...                      ...         ...   ...      ...             ...   \n",
       "27428832  academic-kickstart         4.0  42.0      2.0             231   \n",
       "27464329           mywebsite         4.0  42.0      2.0             231   \n",
       "27705103  academic-kickstart         4.0  42.0      2.0             231   \n",
       "28022157  academic-kickstart         4.0  42.0      2.0             231   \n",
       "28022166            website2         4.0  42.0      2.0             231   \n",
       "\n",
       "          max_commit_user  \n",
       "262920                158  \n",
       "321346                158  \n",
       "340593                158  \n",
       "751688                158  \n",
       "832786                158  \n",
       "...                   ...  \n",
       "27428832              158  \n",
       "27464329              158  \n",
       "27705103              158  \n",
       "28022157              158  \n",
       "28022166              158  \n",
       "\n",
       "[126 rows x 15 columns]"
      ]
     },
     "execution_count": 70,
     "metadata": {},
     "output_type": "execute_result"
    }
   ],
   "source": [
    "One_languege_repos_m.loc[One_languege_repos_m.login=='gcushen']#70"
   ]
  },
  {
   "cell_type": "markdown",
   "metadata": {},
   "source": [
    "## Ste1-Rule2: number of Langueges_commit (70%-all)"
   ]
  },
  {
   "cell_type": "code",
   "execution_count": 241,
   "metadata": {},
   "outputs": [],
   "source": [
    "#number_of_communities = len(repos_lang['Membership'].unique())\n",
    "#print(number_of_communities)"
   ]
  },
  {
   "cell_type": "code",
   "execution_count": 240,
   "metadata": {},
   "outputs": [],
   "source": [
    "#number_of_communities_all = len(repos_lang_all['Membership'].unique())\n",
    "#print(number_of_communities)"
   ]
  },
  {
   "cell_type": "code",
   "execution_count": 51,
   "metadata": {},
   "outputs": [],
   "source": [
    "One_languege_repos_m['max_commit_user'] = One_languege_repos_m.groupby([\"login\",\"language\"])['commits'].transform(max) #70"
   ]
  },
  {
   "cell_type": "code",
   "execution_count": 52,
   "metadata": {},
   "outputs": [],
   "source": [
    "repos_m['max_commit_user'] = repos_m.groupby([\"login\",\"language\"])['commits'].transform(max) #all"
   ]
  },
  {
   "cell_type": "code",
   "execution_count": 53,
   "metadata": {},
   "outputs": [],
   "source": [
    "repos_lang_commit = One_languege_repos_m.loc[One_languege_repos_m['commits']==One_languege_repos_m['max_commit_user']]#70"
   ]
  },
  {
   "cell_type": "code",
   "execution_count": 54,
   "metadata": {},
   "outputs": [],
   "source": [
    "repos_lang_commit_all = repos_m.loc[repos_m['commits']==repos_m['max_commit_user']]#all"
   ]
  },
  {
   "cell_type": "code",
   "execution_count": 55,
   "metadata": {},
   "outputs": [],
   "source": [
    "Step1_rule2_70_commit = repos_lang_commit[['login', 'language', 'Membership']].dropna()#70"
   ]
  },
  {
   "cell_type": "code",
   "execution_count": 56,
   "metadata": {},
   "outputs": [],
   "source": [
    "Step1_rule2_commit_all = repos_lang_commit_all[['login', 'language', 'Membership']].dropna()#all"
   ]
  },
  {
   "cell_type": "code",
   "execution_count": 57,
   "metadata": {},
   "outputs": [],
   "source": [
    "#Step1_rule2_70_commit.head(1000)#70"
   ]
  },
  {
   "cell_type": "code",
   "execution_count": 58,
   "metadata": {},
   "outputs": [
    {
     "data": {
      "text/plain": [
       "197137"
      ]
     },
     "execution_count": 58,
     "metadata": {},
     "output_type": "execute_result"
    }
   ],
   "source": [
    "len(Step1_rule2_70_commit['Membership'])#70"
   ]
  },
  {
   "cell_type": "code",
   "execution_count": 59,
   "metadata": {},
   "outputs": [],
   "source": [
    "#Step1_rule2_commit_all.head()#all"
   ]
  },
  {
   "cell_type": "code",
   "execution_count": 60,
   "metadata": {},
   "outputs": [],
   "source": [
    "step1_rule2_70_commit_group_mem=Step1_rule2_70_commit.groupby(['Membership'])['language'].nunique()\n",
    "step1_rule2_all_commits_group_mem= Step1_rule2_commit_all.groupby(['Membership'])['language'].nunique()"
   ]
  },
  {
   "cell_type": "code",
   "execution_count": 48,
   "metadata": {},
   "outputs": [],
   "source": [
    "#step1_rule2_70_commit_group_mem"
   ]
  },
  {
   "cell_type": "code",
   "execution_count": 370,
   "metadata": {},
   "outputs": [
    {
     "data": {
      "text/plain": [
       "Text(0.5, 0.98, 'Distribution of # diff languages by rul1-2 in communities, 70')"
      ]
     },
     "execution_count": 370,
     "metadata": {},
     "output_type": "execute_result"
    },
    {
     "data": {
      "image/png": "[encoded data removed]",
      "text/plain": [
       "<Figure size 432x288 with 1 Axes>"
      ]
     },
     "metadata": {
      "needs_background": "light"
     },
     "output_type": "display_data"
    }
   ],
   "source": [
    "step1_rule2_70_commit_group_mem.plot.hist(bins = 200, xlim=(0,15))#70\n",
    "plt.savefig('step1_rule2_70_bytes_lang_mem.png')\n",
    "plt.suptitle(\"Distribution of # diff languages by rul1-2 in communities, 70\")\n"
   ]
  },
  {
   "cell_type": "code",
   "execution_count": 61,
   "metadata": {},
   "outputs": [],
   "source": [
    "#step1_rule2_70_commit_group_mem.reset_index()"
   ]
  },
  {
   "cell_type": "code",
   "execution_count": 343,
   "metadata": {},
   "outputs": [
    {
     "data": {
      "text/plain": [
       "Text(0.5, 0.98, 'Distribution of # diff languages by rul1-2 in communities, all')"
      ]
     },
     "execution_count": 343,
     "metadata": {},
     "output_type": "execute_result"
    },
    {
     "data": {
      "image/png": "[encoded data removed]",
      "text/plain": [
       "<Figure size 432x288 with 1 Axes>"
      ]
     },
     "metadata": {
      "needs_background": "light"
     },
     "output_type": "display_data"
    }
   ],
   "source": [
    "step1_rule2_all_commits_group_mem.plot.hist(bins = 200, xlim=(0,15))#70\n",
    "plt.savefig('step1_rule2_all_bytes_lang_mem.png')\n",
    "plt.suptitle(\"Distribution of # diff languages by rul1-2 in communities, all\")"
   ]
  },
  {
   "cell_type": "code",
   "execution_count": 80,
   "metadata": {},
   "outputs": [
    {
     "data": {
      "image/png": "[encoded data removed]",
      "text/plain": [
       "<Figure size 432x288 with 1 Axes>"
      ]
     },
     "metadata": {
      "needs_background": "light"
     },
     "output_type": "display_data"
    }
   ],
   "source": [
    "sns.countplot(y=\"language\", data=Step1_rule2_70_commit,\n",
    "              order = Step1_rule2_70_commit['language'].value_counts().iloc[:10].index)\n",
    "plt.savefig('language_#community_step1 rule2_70_top10.png')"
   ]
  },
  {
   "cell_type": "code",
   "execution_count": 120,
   "metadata": {},
   "outputs": [],
   "source": [
    "#step1_rule2_70_commit_group_mem.loc[step1_rule2_70_commit_group_mem.Membership==10]#70"
   ]
  },
  {
   "cell_type": "markdown",
   "metadata": {},
   "source": [
    "#### Mismatches between rule1 and rule2:"
   ]
  },
  {
   "cell_type": "code",
   "execution_count": 145,
   "metadata": {},
   "outputs": [],
   "source": [
    "Step1_rule1_vs_rule2 = Step1_rule2_70_commit.merge(step1_rule1_70_bytes, how = 'outer' ,indicator=True).loc[lambda x : x['_merge']=='both']\n",
    "# 'left_only','both', 'right_only'"
   ]
  },
  {
   "cell_type": "code",
   "execution_count": 146,
   "metadata": {},
   "outputs": [
    {
     "data": {
      "text/html": [
       "<div>\n",
       "<style scoped>\n",
       "    .dataframe tbody tr th:only-of-type {\n",
       "        vertical-align: middle;\n",
       "    }\n",
       "\n",
       "    .dataframe tbody tr th {\n",
       "        vertical-align: top;\n",
       "    }\n",
       "\n",
       "    .dataframe thead th {\n",
       "        text-align: right;\n",
       "    }\n",
       "</style>\n",
       "<table border=\"1\" class=\"dataframe\">\n",
       "  <thead>\n",
       "    <tr style=\"text-align: right;\">\n",
       "      <th></th>\n",
       "      <th>login</th>\n",
       "      <th>language</th>\n",
       "      <th>Membership</th>\n",
       "      <th>_merge</th>\n",
       "    </tr>\n",
       "  </thead>\n",
       "  <tbody>\n",
       "    <tr>\n",
       "      <th>0</th>\n",
       "      <td>DavidHoffmann</td>\n",
       "      <td>c#</td>\n",
       "      <td>3.0</td>\n",
       "      <td>both</td>\n",
       "    </tr>\n",
       "    <tr>\n",
       "      <th>1</th>\n",
       "      <td>000paradox000</td>\n",
       "      <td>python</td>\n",
       "      <td>9.0</td>\n",
       "      <td>both</td>\n",
       "    </tr>\n",
       "    <tr>\n",
       "      <th>2</th>\n",
       "      <td>00111000</td>\n",
       "      <td>python</td>\n",
       "      <td>0.0</td>\n",
       "      <td>both</td>\n",
       "    </tr>\n",
       "    <tr>\n",
       "      <th>3</th>\n",
       "      <td>00benallen</td>\n",
       "      <td>java</td>\n",
       "      <td>123000.0</td>\n",
       "      <td>both</td>\n",
       "    </tr>\n",
       "    <tr>\n",
       "      <th>4</th>\n",
       "      <td>00benallen</td>\n",
       "      <td>swift</td>\n",
       "      <td>123000.0</td>\n",
       "      <td>both</td>\n",
       "    </tr>\n",
       "    <tr>\n",
       "      <th>...</th>\n",
       "      <td>...</td>\n",
       "      <td>...</td>\n",
       "      <td>...</td>\n",
       "      <td>...</td>\n",
       "    </tr>\n",
       "    <tr>\n",
       "      <th>199723</th>\n",
       "      <td>zzyzy</td>\n",
       "      <td>visual basic</td>\n",
       "      <td>0.0</td>\n",
       "      <td>both</td>\n",
       "    </tr>\n",
       "    <tr>\n",
       "      <th>199724</th>\n",
       "      <td>zzz40500</td>\n",
       "      <td>java</td>\n",
       "      <td>8.0</td>\n",
       "      <td>both</td>\n",
       "    </tr>\n",
       "    <tr>\n",
       "      <th>199725</th>\n",
       "      <td>zzzap</td>\n",
       "      <td>python</td>\n",
       "      <td>92351.0</td>\n",
       "      <td>both</td>\n",
       "    </tr>\n",
       "    <tr>\n",
       "      <th>199726</th>\n",
       "      <td>zzzap</td>\n",
       "      <td>etag</td>\n",
       "      <td>92351.0</td>\n",
       "      <td>both</td>\n",
       "    </tr>\n",
       "    <tr>\n",
       "      <th>199727</th>\n",
       "      <td>zzzzail</td>\n",
       "      <td>javascript</td>\n",
       "      <td>113109.0</td>\n",
       "      <td>both</td>\n",
       "    </tr>\n",
       "  </tbody>\n",
       "</table>\n",
       "<p>199728 rows × 4 columns</p>\n",
       "</div>"
      ],
      "text/plain": [
       "                login      language  Membership _merge\n",
       "0       DavidHoffmann            c#         3.0   both\n",
       "1       000paradox000        python         9.0   both\n",
       "2            00111000        python         0.0   both\n",
       "3          00benallen          java    123000.0   both\n",
       "4          00benallen         swift    123000.0   both\n",
       "...               ...           ...         ...    ...\n",
       "199723          zzyzy  visual basic         0.0   both\n",
       "199724       zzz40500          java         8.0   both\n",
       "199725          zzzap        python     92351.0   both\n",
       "199726          zzzap          etag     92351.0   both\n",
       "199727        zzzzail    javascript    113109.0   both\n",
       "\n",
       "[199728 rows x 4 columns]"
      ]
     },
     "execution_count": 146,
     "metadata": {},
     "output_type": "execute_result"
    }
   ],
   "source": [
    "Step1_rule1_vs_rule2"
   ]
  },
  {
   "cell_type": "code",
   "execution_count": 68,
   "metadata": {},
   "outputs": [
    {
     "data": {
      "text/html": [
       "<div>\n",
       "<style scoped>\n",
       "    .dataframe tbody tr th:only-of-type {\n",
       "        vertical-align: middle;\n",
       "    }\n",
       "\n",
       "    .dataframe tbody tr th {\n",
       "        vertical-align: top;\n",
       "    }\n",
       "\n",
       "    .dataframe thead th {\n",
       "        text-align: right;\n",
       "    }\n",
       "</style>\n",
       "<table border=\"1\" class=\"dataframe\">\n",
       "  <thead>\n",
       "    <tr style=\"text-align: right;\">\n",
       "      <th></th>\n",
       "      <th>Unnamed: 0</th>\n",
       "      <th>slug</th>\n",
       "      <th>language</th>\n",
       "      <th>bytes</th>\n",
       "      <th>created_at</th>\n",
       "      <th>login</th>\n",
       "      <th>commits</th>\n",
       "      <th>additions</th>\n",
       "      <th>deletions</th>\n",
       "      <th>Repo</th>\n",
       "      <th>Membership</th>\n",
       "      <th>CNM</th>\n",
       "      <th>Louvain</th>\n",
       "      <th>max_bytes_user</th>\n",
       "      <th>max_commit_user</th>\n",
       "    </tr>\n",
       "  </thead>\n",
       "  <tbody>\n",
       "    <tr>\n",
       "      <th>262920</th>\n",
       "      <td>262920</td>\n",
       "      <td>aanjhan/academic-kickstart</td>\n",
       "      <td>shell</td>\n",
       "      <td>231</td>\n",
       "      <td>2018-08-07 03:06:31</td>\n",
       "      <td>gcushen</td>\n",
       "      <td>21</td>\n",
       "      <td>811</td>\n",
       "      <td>76</td>\n",
       "      <td>academic-kickstart</td>\n",
       "      <td>4.0</td>\n",
       "      <td>42.0</td>\n",
       "      <td>2.0</td>\n",
       "      <td>231</td>\n",
       "      <td>158</td>\n",
       "    </tr>\n",
       "    <tr>\n",
       "      <th>321346</th>\n",
       "      <td>321346</td>\n",
       "      <td>AbdulYahya/academic-kickstart</td>\n",
       "      <td>shell</td>\n",
       "      <td>231</td>\n",
       "      <td>2018-09-18 03:41:45</td>\n",
       "      <td>gcushen</td>\n",
       "      <td>23</td>\n",
       "      <td>983</td>\n",
       "      <td>103</td>\n",
       "      <td>academic-kickstart</td>\n",
       "      <td>4.0</td>\n",
       "      <td>42.0</td>\n",
       "      <td>2.0</td>\n",
       "      <td>231</td>\n",
       "      <td>158</td>\n",
       "    </tr>\n",
       "    <tr>\n",
       "      <th>340593</th>\n",
       "      <td>340593</td>\n",
       "      <td>abhipatil123/academic-kickstart</td>\n",
       "      <td>shell</td>\n",
       "      <td>231</td>\n",
       "      <td>2018-09-15 14:24:56</td>\n",
       "      <td>gcushen</td>\n",
       "      <td>23</td>\n",
       "      <td>983</td>\n",
       "      <td>103</td>\n",
       "      <td>academic-kickstart</td>\n",
       "      <td>4.0</td>\n",
       "      <td>42.0</td>\n",
       "      <td>2.0</td>\n",
       "      <td>231</td>\n",
       "      <td>158</td>\n",
       "    </tr>\n",
       "    <tr>\n",
       "      <th>751688</th>\n",
       "      <td>751688</td>\n",
       "      <td>ajroyer/academic-kickstart</td>\n",
       "      <td>shell</td>\n",
       "      <td>231</td>\n",
       "      <td>2018-09-18 05:11:05</td>\n",
       "      <td>gcushen</td>\n",
       "      <td>23</td>\n",
       "      <td>983</td>\n",
       "      <td>103</td>\n",
       "      <td>academic-kickstart</td>\n",
       "      <td>4.0</td>\n",
       "      <td>42.0</td>\n",
       "      <td>2.0</td>\n",
       "      <td>231</td>\n",
       "      <td>158</td>\n",
       "    </tr>\n",
       "    <tr>\n",
       "      <th>832786</th>\n",
       "      <td>832786</td>\n",
       "      <td>alanponce/academic-kickstart</td>\n",
       "      <td>shell</td>\n",
       "      <td>231</td>\n",
       "      <td>2018-10-08 01:41:42</td>\n",
       "      <td>gcushen</td>\n",
       "      <td>24</td>\n",
       "      <td>1083</td>\n",
       "      <td>132</td>\n",
       "      <td>academic-kickstart</td>\n",
       "      <td>4.0</td>\n",
       "      <td>42.0</td>\n",
       "      <td>2.0</td>\n",
       "      <td>231</td>\n",
       "      <td>158</td>\n",
       "    </tr>\n",
       "    <tr>\n",
       "      <th>...</th>\n",
       "      <td>...</td>\n",
       "      <td>...</td>\n",
       "      <td>...</td>\n",
       "      <td>...</td>\n",
       "      <td>...</td>\n",
       "      <td>...</td>\n",
       "      <td>...</td>\n",
       "      <td>...</td>\n",
       "      <td>...</td>\n",
       "      <td>...</td>\n",
       "      <td>...</td>\n",
       "      <td>...</td>\n",
       "      <td>...</td>\n",
       "      <td>...</td>\n",
       "      <td>...</td>\n",
       "    </tr>\n",
       "    <tr>\n",
       "      <th>27428832</th>\n",
       "      <td>27428832</td>\n",
       "      <td>yacca/academic-kickstart</td>\n",
       "      <td>shell</td>\n",
       "      <td>231</td>\n",
       "      <td>2018-09-20 08:01:54</td>\n",
       "      <td>gcushen</td>\n",
       "      <td>23</td>\n",
       "      <td>983</td>\n",
       "      <td>103</td>\n",
       "      <td>academic-kickstart</td>\n",
       "      <td>4.0</td>\n",
       "      <td>42.0</td>\n",
       "      <td>2.0</td>\n",
       "      <td>231</td>\n",
       "      <td>158</td>\n",
       "    </tr>\n",
       "    <tr>\n",
       "      <th>27464329</th>\n",
       "      <td>27464329</td>\n",
       "      <td>yangliustat/mywebsite</td>\n",
       "      <td>shell</td>\n",
       "      <td>231</td>\n",
       "      <td>2018-09-09 19:25:24</td>\n",
       "      <td>gcushen</td>\n",
       "      <td>23</td>\n",
       "      <td>983</td>\n",
       "      <td>103</td>\n",
       "      <td>mywebsite</td>\n",
       "      <td>4.0</td>\n",
       "      <td>42.0</td>\n",
       "      <td>2.0</td>\n",
       "      <td>231</td>\n",
       "      <td>158</td>\n",
       "    </tr>\n",
       "    <tr>\n",
       "      <th>27705103</th>\n",
       "      <td>27705103</td>\n",
       "      <td>yueruchen/academic-kickstart</td>\n",
       "      <td>shell</td>\n",
       "      <td>231</td>\n",
       "      <td>2018-07-31 22:09:37</td>\n",
       "      <td>gcushen</td>\n",
       "      <td>46</td>\n",
       "      <td>1775</td>\n",
       "      <td>720</td>\n",
       "      <td>academic-kickstart</td>\n",
       "      <td>4.0</td>\n",
       "      <td>42.0</td>\n",
       "      <td>2.0</td>\n",
       "      <td>231</td>\n",
       "      <td>158</td>\n",
       "    </tr>\n",
       "    <tr>\n",
       "      <th>28022157</th>\n",
       "      <td>28022157</td>\n",
       "      <td>Zhu-Justin/academic-kickstart</td>\n",
       "      <td>shell</td>\n",
       "      <td>231</td>\n",
       "      <td>2018-09-07 13:29:09</td>\n",
       "      <td>gcushen</td>\n",
       "      <td>23</td>\n",
       "      <td>983</td>\n",
       "      <td>103</td>\n",
       "      <td>academic-kickstart</td>\n",
       "      <td>4.0</td>\n",
       "      <td>42.0</td>\n",
       "      <td>2.0</td>\n",
       "      <td>231</td>\n",
       "      <td>158</td>\n",
       "    </tr>\n",
       "    <tr>\n",
       "      <th>28022166</th>\n",
       "      <td>28022166</td>\n",
       "      <td>Zhu-Justin/website2</td>\n",
       "      <td>shell</td>\n",
       "      <td>231</td>\n",
       "      <td>2018-09-07 15:25:00</td>\n",
       "      <td>gcushen</td>\n",
       "      <td>23</td>\n",
       "      <td>983</td>\n",
       "      <td>103</td>\n",
       "      <td>website2</td>\n",
       "      <td>4.0</td>\n",
       "      <td>42.0</td>\n",
       "      <td>2.0</td>\n",
       "      <td>231</td>\n",
       "      <td>158</td>\n",
       "    </tr>\n",
       "  </tbody>\n",
       "</table>\n",
       "<p>126 rows × 15 columns</p>\n",
       "</div>"
      ],
      "text/plain": [
       "          Unnamed: 0                             slug language  bytes  \\\n",
       "262920        262920       aanjhan/academic-kickstart    shell    231   \n",
       "321346        321346    AbdulYahya/academic-kickstart    shell    231   \n",
       "340593        340593  abhipatil123/academic-kickstart    shell    231   \n",
       "751688        751688       ajroyer/academic-kickstart    shell    231   \n",
       "832786        832786     alanponce/academic-kickstart    shell    231   \n",
       "...              ...                              ...      ...    ...   \n",
       "27428832    27428832         yacca/academic-kickstart    shell    231   \n",
       "27464329    27464329            yangliustat/mywebsite    shell    231   \n",
       "27705103    27705103     yueruchen/academic-kickstart    shell    231   \n",
       "28022157    28022157    Zhu-Justin/academic-kickstart    shell    231   \n",
       "28022166    28022166              Zhu-Justin/website2    shell    231   \n",
       "\n",
       "                   created_at    login  commits  additions  deletions  \\\n",
       "262920    2018-08-07 03:06:31  gcushen       21        811         76   \n",
       "321346    2018-09-18 03:41:45  gcushen       23        983        103   \n",
       "340593    2018-09-15 14:24:56  gcushen       23        983        103   \n",
       "751688    2018-09-18 05:11:05  gcushen       23        983        103   \n",
       "832786    2018-10-08 01:41:42  gcushen       24       1083        132   \n",
       "...                       ...      ...      ...        ...        ...   \n",
       "27428832  2018-09-20 08:01:54  gcushen       23        983        103   \n",
       "27464329  2018-09-09 19:25:24  gcushen       23        983        103   \n",
       "27705103  2018-07-31 22:09:37  gcushen       46       1775        720   \n",
       "28022157  2018-09-07 13:29:09  gcushen       23        983        103   \n",
       "28022166  2018-09-07 15:25:00  gcushen       23        983        103   \n",
       "\n",
       "                        Repo  Membership   CNM  Louvain  max_bytes_user  \\\n",
       "262920    academic-kickstart         4.0  42.0      2.0             231   \n",
       "321346    academic-kickstart         4.0  42.0      2.0             231   \n",
       "340593    academic-kickstart         4.0  42.0      2.0             231   \n",
       "751688    academic-kickstart         4.0  42.0      2.0             231   \n",
       "832786    academic-kickstart         4.0  42.0      2.0             231   \n",
       "...                      ...         ...   ...      ...             ...   \n",
       "27428832  academic-kickstart         4.0  42.0      2.0             231   \n",
       "27464329           mywebsite         4.0  42.0      2.0             231   \n",
       "27705103  academic-kickstart         4.0  42.0      2.0             231   \n",
       "28022157  academic-kickstart         4.0  42.0      2.0             231   \n",
       "28022166            website2         4.0  42.0      2.0             231   \n",
       "\n",
       "          max_commit_user  \n",
       "262920                158  \n",
       "321346                158  \n",
       "340593                158  \n",
       "751688                158  \n",
       "832786                158  \n",
       "...                   ...  \n",
       "27428832              158  \n",
       "27464329              158  \n",
       "27705103              158  \n",
       "28022157              158  \n",
       "28022166              158  \n",
       "\n",
       "[126 rows x 15 columns]"
      ]
     },
     "execution_count": 68,
     "metadata": {},
     "output_type": "execute_result"
    }
   ],
   "source": [
    "One_languege_repos_m.loc[One_languege_repos_m.login=='gcushen']#70"
   ]
  },
  {
   "cell_type": "markdown",
   "metadata": {},
   "source": [
    "## Step 1-Rule3: number of Langueges_Majority_1"
   ]
  },
  {
   "cell_type": "code",
   "execution_count": 82,
   "metadata": {},
   "outputs": [],
   "source": [
    "Login_lang_majority= One_languege_repos_m.groupby([\"login\", \"language\"]).size().to_frame('Lng-count').reset_index().merge(One_languege_repos_m,on=[\"login\", \"language\"],how='right').fillna(value=0)#70"
   ]
  },
  {
   "cell_type": "code",
   "execution_count": 83,
   "metadata": {},
   "outputs": [],
   "source": [
    "Login_lang_majority_all=repos_m.groupby([\"login\", \"language\"]).size().to_frame('Lng-count').reset_index().merge(repos_m,on=[\"login\", \"language\"],how='right').fillna(value=0)#all"
   ]
  },
  {
   "cell_type": "code",
   "execution_count": 84,
   "metadata": {},
   "outputs": [],
   "source": [
    "Login_lang_majority['max-Lang-count']= Login_lang_majority.groupby([\"login\",\"language\"])['Lng-count'].transform(max)#70"
   ]
  },
  {
   "cell_type": "code",
   "execution_count": 85,
   "metadata": {},
   "outputs": [],
   "source": [
    "Login_lang_majority_all['max-Lang-count']= Login_lang_majority_all.groupby([\"login\",\"language\"])['Lng-count'].transform(max)#all"
   ]
  },
  {
   "cell_type": "code",
   "execution_count": 86,
   "metadata": {},
   "outputs": [],
   "source": [
    "Login_lang_majorit= Login_lang_majority.loc[Login_lang_majority['Lng-count']==Login_lang_majority['max-Lang-count']] #this does not resolve ties, see example below, and reslove#70\n",
    "#Login_lang_majorit = Login_lang_majorit.reset_index"
   ]
  },
  {
   "cell_type": "code",
   "execution_count": 87,
   "metadata": {},
   "outputs": [],
   "source": [
    "Login_lang_majorit_doup = Login_lang_majorit.sort_values('bytes', ascending=False).drop_duplicates(subset=[\"login\", 'max-Lang-count'])#70 this resloves above by selecting douplicates on maxlangcount that have max byte"
   ]
  },
  {
   "cell_type": "code",
   "execution_count": 88,
   "metadata": {},
   "outputs": [],
   "source": [
    "Login_lang_majorit_all= Login_lang_majority_all.loc[Login_lang_majority_all['Lng-count']==Login_lang_majority_all['max-Lang-count']]#all #this does not resolve ties, see example below#all, below reolves\n",
    "#Login_lang_majorit_all = Login_lang_majorit_all.reset_index()"
   ]
  },
  {
   "cell_type": "code",
   "execution_count": 89,
   "metadata": {},
   "outputs": [],
   "source": [
    "Login_lang_majorit_doup_all = Login_lang_majorit_all.sort_values('bytes', ascending=False).drop_duplicates(subset=[\"login\", 'max-Lang-count'])#all this resloves above by selecting douplicates on maxlangcount that have max byte"
   ]
  },
  {
   "cell_type": "code",
   "execution_count": 90,
   "metadata": {},
   "outputs": [
    {
     "data": {
      "text/html": [
       "<div>\n",
       "<style scoped>\n",
       "    .dataframe tbody tr th:only-of-type {\n",
       "        vertical-align: middle;\n",
       "    }\n",
       "\n",
       "    .dataframe tbody tr th {\n",
       "        vertical-align: top;\n",
       "    }\n",
       "\n",
       "    .dataframe thead th {\n",
       "        text-align: right;\n",
       "    }\n",
       "</style>\n",
       "<table border=\"1\" class=\"dataframe\">\n",
       "  <thead>\n",
       "    <tr style=\"text-align: right;\">\n",
       "      <th></th>\n",
       "      <th>Unnamed: 0</th>\n",
       "      <th>slug</th>\n",
       "      <th>language</th>\n",
       "      <th>bytes</th>\n",
       "      <th>created_at</th>\n",
       "      <th>login</th>\n",
       "      <th>commits</th>\n",
       "      <th>additions</th>\n",
       "      <th>deletions</th>\n",
       "      <th>Repo</th>\n",
       "      <th>Membership</th>\n",
       "      <th>CNM</th>\n",
       "      <th>Louvain</th>\n",
       "      <th>max_bytes_user</th>\n",
       "      <th>max_commit_user</th>\n",
       "    </tr>\n",
       "  </thead>\n",
       "  <tbody>\n",
       "    <tr>\n",
       "      <th>4637</th>\n",
       "      <td>4637</td>\n",
       "      <td>0-Eclipse-0/EclipseBot</td>\n",
       "      <td>lua</td>\n",
       "      <td>72809</td>\n",
       "      <td>2016-05-01 23:52:18</td>\n",
       "      <td>0-Eclipse-0</td>\n",
       "      <td>9</td>\n",
       "      <td>3433</td>\n",
       "      <td>12</td>\n",
       "      <td>EclipseBot</td>\n",
       "      <td>38.0</td>\n",
       "      <td>2.0</td>\n",
       "      <td>33.0</td>\n",
       "      <td>72809</td>\n",
       "      <td>9</td>\n",
       "    </tr>\n",
       "    <tr>\n",
       "      <th>4640</th>\n",
       "      <td>4640</td>\n",
       "      <td>0-Eclipse-0/SaltBot-Python</td>\n",
       "      <td>batchfile</td>\n",
       "      <td>78</td>\n",
       "      <td>2016-02-03 12:00:37</td>\n",
       "      <td>0-Eclipse-0</td>\n",
       "      <td>12</td>\n",
       "      <td>710</td>\n",
       "      <td>14</td>\n",
       "      <td>SaltBot-Python</td>\n",
       "      <td>38.0</td>\n",
       "      <td>2.0</td>\n",
       "      <td>33.0</td>\n",
       "      <td>78</td>\n",
       "      <td>12</td>\n",
       "    </tr>\n",
       "    <tr>\n",
       "      <th>4641</th>\n",
       "      <td>4641</td>\n",
       "      <td>0-Eclipse-0/Tic-Tac-Toe</td>\n",
       "      <td>c#</td>\n",
       "      <td>1</td>\n",
       "      <td>2016-02-03 12:00:43</td>\n",
       "      <td>0-Eclipse-0</td>\n",
       "      <td>6</td>\n",
       "      <td>11154</td>\n",
       "      <td>4</td>\n",
       "      <td>Tic-Tac-Toe</td>\n",
       "      <td>38.0</td>\n",
       "      <td>2.0</td>\n",
       "      <td>33.0</td>\n",
       "      <td>1</td>\n",
       "      <td>6</td>\n",
       "    </tr>\n",
       "  </tbody>\n",
       "</table>\n",
       "</div>"
      ],
      "text/plain": [
       "      Unnamed: 0                        slug   language  bytes  \\\n",
       "4637        4637      0-Eclipse-0/EclipseBot        lua  72809   \n",
       "4640        4640  0-Eclipse-0/SaltBot-Python  batchfile     78   \n",
       "4641        4641     0-Eclipse-0/Tic-Tac-Toe         c#      1   \n",
       "\n",
       "               created_at        login  commits  additions  deletions  \\\n",
       "4637  2016-05-01 23:52:18  0-Eclipse-0        9       3433         12   \n",
       "4640  2016-02-03 12:00:37  0-Eclipse-0       12        710         14   \n",
       "4641  2016-02-03 12:00:43  0-Eclipse-0        6      11154          4   \n",
       "\n",
       "                Repo  Membership  CNM  Louvain  max_bytes_user  \\\n",
       "4637      EclipseBot        38.0  2.0     33.0           72809   \n",
       "4640  SaltBot-Python        38.0  2.0     33.0              78   \n",
       "4641     Tic-Tac-Toe        38.0  2.0     33.0               1   \n",
       "\n",
       "      max_commit_user  \n",
       "4637                9  \n",
       "4640               12  \n",
       "4641                6  "
      ]
     },
     "execution_count": 90,
     "metadata": {},
     "output_type": "execute_result"
    }
   ],
   "source": [
    "One_languege_repos_m.loc[One_languege_repos_m.login=='0-Eclipse-0']#70"
   ]
  },
  {
   "cell_type": "code",
   "execution_count": 92,
   "metadata": {},
   "outputs": [
    {
     "data": {
      "text/html": [
       "<div>\n",
       "<style scoped>\n",
       "    .dataframe tbody tr th:only-of-type {\n",
       "        vertical-align: middle;\n",
       "    }\n",
       "\n",
       "    .dataframe tbody tr th {\n",
       "        vertical-align: top;\n",
       "    }\n",
       "\n",
       "    .dataframe thead th {\n",
       "        text-align: right;\n",
       "    }\n",
       "</style>\n",
       "<table border=\"1\" class=\"dataframe\">\n",
       "  <thead>\n",
       "    <tr style=\"text-align: right;\">\n",
       "      <th></th>\n",
       "      <th>login</th>\n",
       "      <th>language</th>\n",
       "      <th>Lng-count</th>\n",
       "      <th>Unnamed: 0</th>\n",
       "      <th>slug</th>\n",
       "      <th>bytes</th>\n",
       "      <th>created_at</th>\n",
       "      <th>commits</th>\n",
       "      <th>additions</th>\n",
       "      <th>deletions</th>\n",
       "      <th>Repo</th>\n",
       "      <th>Membership</th>\n",
       "      <th>CNM</th>\n",
       "      <th>Louvain</th>\n",
       "      <th>max_bytes_user</th>\n",
       "      <th>max_commit_user</th>\n",
       "      <th>max-Lang-count</th>\n",
       "    </tr>\n",
       "  </thead>\n",
       "  <tbody>\n",
       "    <tr>\n",
       "      <th>71</th>\n",
       "      <td>0-Eclipse-0</td>\n",
       "      <td>lua</td>\n",
       "      <td>1</td>\n",
       "      <td>4637</td>\n",
       "      <td>0-Eclipse-0/EclipseBot</td>\n",
       "      <td>72809</td>\n",
       "      <td>2016-05-01 23:52:18</td>\n",
       "      <td>9</td>\n",
       "      <td>3433</td>\n",
       "      <td>12</td>\n",
       "      <td>EclipseBot</td>\n",
       "      <td>38.0</td>\n",
       "      <td>2.0</td>\n",
       "      <td>33.0</td>\n",
       "      <td>72809</td>\n",
       "      <td>9</td>\n",
       "      <td>1</td>\n",
       "    </tr>\n",
       "    <tr>\n",
       "      <th>72</th>\n",
       "      <td>0-Eclipse-0</td>\n",
       "      <td>batchfile</td>\n",
       "      <td>1</td>\n",
       "      <td>4640</td>\n",
       "      <td>0-Eclipse-0/SaltBot-Python</td>\n",
       "      <td>78</td>\n",
       "      <td>2016-02-03 12:00:37</td>\n",
       "      <td>12</td>\n",
       "      <td>710</td>\n",
       "      <td>14</td>\n",
       "      <td>SaltBot-Python</td>\n",
       "      <td>38.0</td>\n",
       "      <td>2.0</td>\n",
       "      <td>33.0</td>\n",
       "      <td>78</td>\n",
       "      <td>12</td>\n",
       "      <td>1</td>\n",
       "    </tr>\n",
       "    <tr>\n",
       "      <th>73</th>\n",
       "      <td>0-Eclipse-0</td>\n",
       "      <td>c#</td>\n",
       "      <td>1</td>\n",
       "      <td>4641</td>\n",
       "      <td>0-Eclipse-0/Tic-Tac-Toe</td>\n",
       "      <td>1</td>\n",
       "      <td>2016-02-03 12:00:43</td>\n",
       "      <td>6</td>\n",
       "      <td>11154</td>\n",
       "      <td>4</td>\n",
       "      <td>Tic-Tac-Toe</td>\n",
       "      <td>38.0</td>\n",
       "      <td>2.0</td>\n",
       "      <td>33.0</td>\n",
       "      <td>1</td>\n",
       "      <td>6</td>\n",
       "      <td>1</td>\n",
       "    </tr>\n",
       "  </tbody>\n",
       "</table>\n",
       "</div>"
      ],
      "text/plain": [
       "          login   language  Lng-count  Unnamed: 0                        slug  \\\n",
       "71  0-Eclipse-0        lua          1        4637      0-Eclipse-0/EclipseBot   \n",
       "72  0-Eclipse-0  batchfile          1        4640  0-Eclipse-0/SaltBot-Python   \n",
       "73  0-Eclipse-0         c#          1        4641     0-Eclipse-0/Tic-Tac-Toe   \n",
       "\n",
       "    bytes           created_at  commits  additions  deletions            Repo  \\\n",
       "71  72809  2016-05-01 23:52:18        9       3433         12      EclipseBot   \n",
       "72     78  2016-02-03 12:00:37       12        710         14  SaltBot-Python   \n",
       "73      1  2016-02-03 12:00:43        6      11154          4     Tic-Tac-Toe   \n",
       "\n",
       "    Membership  CNM  Louvain  max_bytes_user  max_commit_user  max-Lang-count  \n",
       "71        38.0  2.0     33.0           72809                9               1  \n",
       "72        38.0  2.0     33.0              78               12               1  \n",
       "73        38.0  2.0     33.0               1                6               1  "
      ]
     },
     "execution_count": 92,
     "metadata": {},
     "output_type": "execute_result"
    }
   ],
   "source": [
    "Login_lang_majorit.loc[Login_lang_majorit .login=='0-Eclipse-0']#70 issue"
   ]
  },
  {
   "cell_type": "code",
   "execution_count": 91,
   "metadata": {},
   "outputs": [
    {
     "data": {
      "text/html": [
       "<div>\n",
       "<style scoped>\n",
       "    .dataframe tbody tr th:only-of-type {\n",
       "        vertical-align: middle;\n",
       "    }\n",
       "\n",
       "    .dataframe tbody tr th {\n",
       "        vertical-align: top;\n",
       "    }\n",
       "\n",
       "    .dataframe thead th {\n",
       "        text-align: right;\n",
       "    }\n",
       "</style>\n",
       "<table border=\"1\" class=\"dataframe\">\n",
       "  <thead>\n",
       "    <tr style=\"text-align: right;\">\n",
       "      <th></th>\n",
       "      <th>login</th>\n",
       "      <th>language</th>\n",
       "      <th>Lng-count</th>\n",
       "      <th>Unnamed: 0</th>\n",
       "      <th>slug</th>\n",
       "      <th>bytes</th>\n",
       "      <th>created_at</th>\n",
       "      <th>commits</th>\n",
       "      <th>additions</th>\n",
       "      <th>deletions</th>\n",
       "      <th>Repo</th>\n",
       "      <th>Membership</th>\n",
       "      <th>CNM</th>\n",
       "      <th>Louvain</th>\n",
       "      <th>max_bytes_user</th>\n",
       "      <th>max_commit_user</th>\n",
       "      <th>max-Lang-count</th>\n",
       "    </tr>\n",
       "  </thead>\n",
       "  <tbody>\n",
       "    <tr>\n",
       "      <th>71</th>\n",
       "      <td>0-Eclipse-0</td>\n",
       "      <td>lua</td>\n",
       "      <td>1</td>\n",
       "      <td>4637</td>\n",
       "      <td>0-Eclipse-0/EclipseBot</td>\n",
       "      <td>72809</td>\n",
       "      <td>2016-05-01 23:52:18</td>\n",
       "      <td>9</td>\n",
       "      <td>3433</td>\n",
       "      <td>12</td>\n",
       "      <td>EclipseBot</td>\n",
       "      <td>38.0</td>\n",
       "      <td>2.0</td>\n",
       "      <td>33.0</td>\n",
       "      <td>72809</td>\n",
       "      <td>9</td>\n",
       "      <td>1</td>\n",
       "    </tr>\n",
       "  </tbody>\n",
       "</table>\n",
       "</div>"
      ],
      "text/plain": [
       "          login language  Lng-count  Unnamed: 0                    slug  \\\n",
       "71  0-Eclipse-0      lua          1        4637  0-Eclipse-0/EclipseBot   \n",
       "\n",
       "    bytes           created_at  commits  additions  deletions        Repo  \\\n",
       "71  72809  2016-05-01 23:52:18        9       3433         12  EclipseBot   \n",
       "\n",
       "    Membership  CNM  Louvain  max_bytes_user  max_commit_user  max-Lang-count  \n",
       "71        38.0  2.0     33.0           72809                9               1  "
      ]
     },
     "execution_count": 91,
     "metadata": {},
     "output_type": "execute_result"
    }
   ],
   "source": [
    "Login_lang_majorit_doup .loc[Login_lang_majorit_doup .login=='0-Eclipse-0']#70###YEEESSS, issue fixrd"
   ]
  },
  {
   "cell_type": "code",
   "execution_count": 93,
   "metadata": {},
   "outputs": [
    {
     "data": {
      "text/html": [
       "<div>\n",
       "<style scoped>\n",
       "    .dataframe tbody tr th:only-of-type {\n",
       "        vertical-align: middle;\n",
       "    }\n",
       "\n",
       "    .dataframe tbody tr th {\n",
       "        vertical-align: top;\n",
       "    }\n",
       "\n",
       "    .dataframe thead th {\n",
       "        text-align: right;\n",
       "    }\n",
       "</style>\n",
       "<table border=\"1\" class=\"dataframe\">\n",
       "  <thead>\n",
       "    <tr style=\"text-align: right;\">\n",
       "      <th></th>\n",
       "      <th>Unnamed: 0</th>\n",
       "      <th>slug</th>\n",
       "      <th>language</th>\n",
       "      <th>bytes</th>\n",
       "      <th>created_at</th>\n",
       "      <th>login</th>\n",
       "      <th>commits</th>\n",
       "      <th>additions</th>\n",
       "      <th>deletions</th>\n",
       "      <th>Repo</th>\n",
       "      <th>Membership</th>\n",
       "      <th>CNM</th>\n",
       "      <th>Louvain</th>\n",
       "    </tr>\n",
       "  </thead>\n",
       "  <tbody>\n",
       "    <tr>\n",
       "      <th>4637</th>\n",
       "      <td>4637</td>\n",
       "      <td>0-Eclipse-0/EclipseBot</td>\n",
       "      <td>lua</td>\n",
       "      <td>72809</td>\n",
       "      <td>2016-05-01 23:52:18</td>\n",
       "      <td>0-Eclipse-0</td>\n",
       "      <td>9</td>\n",
       "      <td>3433</td>\n",
       "      <td>12</td>\n",
       "      <td>EclipseBot</td>\n",
       "      <td>38.0</td>\n",
       "      <td>2.0</td>\n",
       "      <td>33.0</td>\n",
       "    </tr>\n",
       "    <tr>\n",
       "      <th>4640</th>\n",
       "      <td>4640</td>\n",
       "      <td>0-Eclipse-0/SaltBot-Python</td>\n",
       "      <td>batchfile</td>\n",
       "      <td>78</td>\n",
       "      <td>2016-02-03 12:00:37</td>\n",
       "      <td>0-Eclipse-0</td>\n",
       "      <td>12</td>\n",
       "      <td>710</td>\n",
       "      <td>14</td>\n",
       "      <td>SaltBot-Python</td>\n",
       "      <td>38.0</td>\n",
       "      <td>2.0</td>\n",
       "      <td>33.0</td>\n",
       "    </tr>\n",
       "    <tr>\n",
       "      <th>4641</th>\n",
       "      <td>4641</td>\n",
       "      <td>0-Eclipse-0/Tic-Tac-Toe</td>\n",
       "      <td>c#</td>\n",
       "      <td>1</td>\n",
       "      <td>2016-02-03 12:00:43</td>\n",
       "      <td>0-Eclipse-0</td>\n",
       "      <td>6</td>\n",
       "      <td>11154</td>\n",
       "      <td>4</td>\n",
       "      <td>Tic-Tac-Toe</td>\n",
       "      <td>38.0</td>\n",
       "      <td>2.0</td>\n",
       "      <td>33.0</td>\n",
       "    </tr>\n",
       "  </tbody>\n",
       "</table>\n",
       "</div>"
      ],
      "text/plain": [
       "      Unnamed: 0                        slug   language  bytes  \\\n",
       "4637        4637      0-Eclipse-0/EclipseBot        lua  72809   \n",
       "4640        4640  0-Eclipse-0/SaltBot-Python  batchfile     78   \n",
       "4641        4641     0-Eclipse-0/Tic-Tac-Toe         c#      1   \n",
       "\n",
       "               created_at        login  commits  additions  deletions  \\\n",
       "4637  2016-05-01 23:52:18  0-Eclipse-0        9       3433         12   \n",
       "4640  2016-02-03 12:00:37  0-Eclipse-0       12        710         14   \n",
       "4641  2016-02-03 12:00:43  0-Eclipse-0        6      11154          4   \n",
       "\n",
       "                Repo  Membership  CNM  Louvain  \n",
       "4637      EclipseBot        38.0  2.0     33.0  \n",
       "4640  SaltBot-Python        38.0  2.0     33.0  \n",
       "4641     Tic-Tac-Toe        38.0  2.0     33.0  "
      ]
     },
     "execution_count": 93,
     "metadata": {},
     "output_type": "execute_result"
    }
   ],
   "source": [
    "One_languege_repos.loc[One_languege_repos.login=='0-Eclipse-0']"
   ]
  },
  {
   "cell_type": "code",
   "execution_count": 108,
   "metadata": {},
   "outputs": [],
   "source": [
    "#Login_lang_majorit['Membership'] = Login_lang_majorit['login'].map(Membership_LRN_rev)#70"
   ]
  },
  {
   "cell_type": "code",
   "execution_count": 109,
   "metadata": {},
   "outputs": [],
   "source": [
    "#Login_lang_majorit_all['Membership'] = Login_lang_majorit_all['login'].map(Membership_LRN_rev)#all"
   ]
  },
  {
   "cell_type": "code",
   "execution_count": 94,
   "metadata": {},
   "outputs": [],
   "source": [
    "#keeping those that we assigned to a community:\n",
    "Step1_rule3_70_majority = Login_lang_majorit_doup[['login', 'language', 'Membership']].dropna()#70"
   ]
  },
  {
   "cell_type": "code",
   "execution_count": 95,
   "metadata": {},
   "outputs": [],
   "source": [
    "#keeping those that we assigned to a community:\n",
    "Step1_rule3_70_majority_all = Login_lang_majorit_doup_all[['login', 'language', 'Membership']].dropna()#all"
   ]
  },
  {
   "cell_type": "code",
   "execution_count": 166,
   "metadata": {},
   "outputs": [
    {
     "data": {
      "text/html": [
       "<div>\n",
       "<style scoped>\n",
       "    .dataframe tbody tr th:only-of-type {\n",
       "        vertical-align: middle;\n",
       "    }\n",
       "\n",
       "    .dataframe tbody tr th {\n",
       "        vertical-align: top;\n",
       "    }\n",
       "\n",
       "    .dataframe thead th {\n",
       "        text-align: right;\n",
       "    }\n",
       "</style>\n",
       "<table border=\"1\" class=\"dataframe\">\n",
       "  <thead>\n",
       "    <tr style=\"text-align: right;\">\n",
       "      <th></th>\n",
       "      <th>login</th>\n",
       "      <th>language</th>\n",
       "      <th>Membership</th>\n",
       "    </tr>\n",
       "  </thead>\n",
       "  <tbody>\n",
       "    <tr>\n",
       "      <th>77973</th>\n",
       "      <td>DEK11</td>\n",
       "      <td>etag</td>\n",
       "      <td>45719.0</td>\n",
       "    </tr>\n",
       "    <tr>\n",
       "      <th>310433</th>\n",
       "      <td>ueef</td>\n",
       "      <td>etag</td>\n",
       "      <td>5582.0</td>\n",
       "    </tr>\n",
       "    <tr>\n",
       "      <th>226795</th>\n",
       "      <td>nikogura</td>\n",
       "      <td>etag</td>\n",
       "      <td>20.0</td>\n",
       "    </tr>\n",
       "    <tr>\n",
       "      <th>107812</th>\n",
       "      <td>mgernand</td>\n",
       "      <td>etag</td>\n",
       "      <td>17.0</td>\n",
       "    </tr>\n",
       "    <tr>\n",
       "      <th>50433</th>\n",
       "      <td>carltongibson</td>\n",
       "      <td>etag</td>\n",
       "      <td>4.0</td>\n",
       "    </tr>\n",
       "    <tr>\n",
       "      <th>...</th>\n",
       "      <td>...</td>\n",
       "      <td>...</td>\n",
       "      <td>...</td>\n",
       "    </tr>\n",
       "    <tr>\n",
       "      <th>127716</th>\n",
       "      <td>HanSolo</td>\n",
       "      <td>etag</td>\n",
       "      <td>11.0</td>\n",
       "    </tr>\n",
       "    <tr>\n",
       "      <th>92647</th>\n",
       "      <td>edwintye</td>\n",
       "      <td>etag</td>\n",
       "      <td>156.0</td>\n",
       "    </tr>\n",
       "    <tr>\n",
       "      <th>309580</th>\n",
       "      <td>txhsl</td>\n",
       "      <td>etag</td>\n",
       "      <td>17.0</td>\n",
       "    </tr>\n",
       "    <tr>\n",
       "      <th>161344</th>\n",
       "      <td>jordn</td>\n",
       "      <td>etag</td>\n",
       "      <td>9.0</td>\n",
       "    </tr>\n",
       "    <tr>\n",
       "      <th>92752</th>\n",
       "      <td>eeshiken</td>\n",
       "      <td>etag</td>\n",
       "      <td>5.0</td>\n",
       "    </tr>\n",
       "  </tbody>\n",
       "</table>\n",
       "<p>154941 rows × 3 columns</p>\n",
       "</div>"
      ],
      "text/plain": [
       "                login language  Membership\n",
       "77973           DEK11     etag     45719.0\n",
       "310433           ueef     etag      5582.0\n",
       "226795       nikogura     etag        20.0\n",
       "107812       mgernand     etag        17.0\n",
       "50433   carltongibson     etag         4.0\n",
       "...               ...      ...         ...\n",
       "127716        HanSolo     etag        11.0\n",
       "92647        edwintye     etag       156.0\n",
       "309580          txhsl     etag        17.0\n",
       "161344          jordn     etag         9.0\n",
       "92752        eeshiken     etag         5.0\n",
       "\n",
       "[154941 rows x 3 columns]"
      ]
     },
     "execution_count": 166,
     "metadata": {},
     "output_type": "execute_result"
    }
   ],
   "source": [
    "Step1_rule3_70_majority"
   ]
  },
  {
   "cell_type": "code",
   "execution_count": 113,
   "metadata": {},
   "outputs": [
    {
     "data": {
      "text/html": [
       "<div>\n",
       "<style scoped>\n",
       "    .dataframe tbody tr th:only-of-type {\n",
       "        vertical-align: middle;\n",
       "    }\n",
       "\n",
       "    .dataframe tbody tr th {\n",
       "        vertical-align: top;\n",
       "    }\n",
       "\n",
       "    .dataframe thead th {\n",
       "        text-align: right;\n",
       "    }\n",
       "</style>\n",
       "<table border=\"1\" class=\"dataframe\">\n",
       "  <thead>\n",
       "    <tr style=\"text-align: right;\">\n",
       "      <th></th>\n",
       "      <th>login</th>\n",
       "      <th>language</th>\n",
       "      <th>Membership</th>\n",
       "    </tr>\n",
       "  </thead>\n",
       "  <tbody>\n",
       "    <tr>\n",
       "      <th>12273439</th>\n",
       "      <td>the-noob</td>\n",
       "      <td>etag</td>\n",
       "      <td>9</td>\n",
       "    </tr>\n",
       "    <tr>\n",
       "      <th>12273138</th>\n",
       "      <td>klyburke</td>\n",
       "      <td>etag</td>\n",
       "      <td>9</td>\n",
       "    </tr>\n",
       "    <tr>\n",
       "      <th>12273139</th>\n",
       "      <td>essuraj</td>\n",
       "      <td>etag</td>\n",
       "      <td>9</td>\n",
       "    </tr>\n",
       "    <tr>\n",
       "      <th>12273140</th>\n",
       "      <td>dphrag</td>\n",
       "      <td>etag</td>\n",
       "      <td>9</td>\n",
       "    </tr>\n",
       "    <tr>\n",
       "      <th>12273141</th>\n",
       "      <td>maprihoda</td>\n",
       "      <td>etag</td>\n",
       "      <td>9</td>\n",
       "    </tr>\n",
       "    <tr>\n",
       "      <th>...</th>\n",
       "      <td>...</td>\n",
       "      <td>...</td>\n",
       "      <td>...</td>\n",
       "    </tr>\n",
       "    <tr>\n",
       "      <th>12272794</th>\n",
       "      <td>koshea</td>\n",
       "      <td>etag</td>\n",
       "      <td>9</td>\n",
       "    </tr>\n",
       "    <tr>\n",
       "      <th>12272805</th>\n",
       "      <td>matthewcheok</td>\n",
       "      <td>etag</td>\n",
       "      <td>9</td>\n",
       "    </tr>\n",
       "    <tr>\n",
       "      <th>12272806</th>\n",
       "      <td>LAITONEN</td>\n",
       "      <td>etag</td>\n",
       "      <td>9</td>\n",
       "    </tr>\n",
       "    <tr>\n",
       "      <th>12272791</th>\n",
       "      <td>maxpechenin</td>\n",
       "      <td>etag</td>\n",
       "      <td>9</td>\n",
       "    </tr>\n",
       "    <tr>\n",
       "      <th>14972218</th>\n",
       "      <td>GoodVincentTu</td>\n",
       "      <td>etag</td>\n",
       "      <td>27</td>\n",
       "    </tr>\n",
       "  </tbody>\n",
       "</table>\n",
       "<p>100 rows × 3 columns</p>\n",
       "</div>"
      ],
      "text/plain": [
       "                  login language  Membership\n",
       "12273439       the-noob     etag           9\n",
       "12273138       klyburke     etag           9\n",
       "12273139        essuraj     etag           9\n",
       "12273140         dphrag     etag           9\n",
       "12273141      maprihoda     etag           9\n",
       "...                 ...      ...         ...\n",
       "12272794         koshea     etag           9\n",
       "12272805   matthewcheok     etag           9\n",
       "12272806       LAITONEN     etag           9\n",
       "12272791    maxpechenin     etag           9\n",
       "14972218  GoodVincentTu     etag          27\n",
       "\n",
       "[100 rows x 3 columns]"
      ]
     },
     "execution_count": 113,
     "metadata": {},
     "output_type": "execute_result"
    }
   ],
   "source": [
    "Step1_rule3_70_majority_all.tail(100)#70"
   ]
  },
  {
   "cell_type": "code",
   "execution_count": 114,
   "metadata": {},
   "outputs": [],
   "source": [
    "#rule3_70_majority = pd.merge(Login_lang_majorit,One_languege_repos[['login','language','Membership']],on='login', how='left').dropna()"
   ]
  },
  {
   "cell_type": "code",
   "execution_count": 205,
   "metadata": {},
   "outputs": [],
   "source": [
    "#rule3_70_majority.head(50)"
   ]
  },
  {
   "cell_type": "code",
   "execution_count": null,
   "metadata": {},
   "outputs": [],
   "source": [
    "step1_rule3_70_group_mem=Step1_rule3_70_majority.groupby(['Membership'])['language'].nunique()\n",
    "step1_rule3_70_group_mem.plot.hist(bins = 200, xlim=(0,8))#70\n",
    "plt.savefig('step1_rule3_70_bytes_lang_mem.png')\n",
    "plt.suptitle(\"Distribution of # diff languages by rul1-3 in communities, 70\")\n"
   ]
  },
  {
   "cell_type": "code",
   "execution_count": 96,
   "metadata": {},
   "outputs": [
    {
     "data": {
      "image/png": "[encoded data removed]",
      "text/plain": [
       "<Figure size 432x288 with 1 Axes>"
      ]
     },
     "metadata": {
      "needs_background": "light"
     },
     "output_type": "display_data"
    }
   ],
   "source": [
    "sns.countplot(y=\"language\", data=Step1_rule3_70_majority,\n",
    "              order = Step1_rule3_70_majority['language'].value_counts().iloc[:10].index)\n",
    "plt.savefig('language_#community_step1 rule3_70_top10.png')"
   ]
  },
  {
   "cell_type": "code",
   "execution_count": 155,
   "metadata": {},
   "outputs": [],
   "source": [
    "Step1_rule1_vs_rule3 = Step1_rule3_70_majority.merge(step1_rule1_70_bytes, how = 'outer' ,indicator=True).loc[lambda x : x['_merge']=='both']\n",
    "# 'left_only','both', 'right_only'"
   ]
  },
  {
   "cell_type": "code",
   "execution_count": 163,
   "metadata": {},
   "outputs": [],
   "source": [
    "Step1_rule2_vs_rule3 = Step1_rule2_70_commit.merge(Step1_rule3_70_majority, how = 'outer' ,indicator=True).loc[lambda x : x['_merge']=='right_only']\n",
    "# 'left_only','both', 'right_only'"
   ]
  },
  {
   "cell_type": "code",
   "execution_count": 165,
   "metadata": {},
   "outputs": [
    {
     "data": {
      "text/html": [
       "<div>\n",
       "<style scoped>\n",
       "    .dataframe tbody tr th:only-of-type {\n",
       "        vertical-align: middle;\n",
       "    }\n",
       "\n",
       "    .dataframe tbody tr th {\n",
       "        vertical-align: top;\n",
       "    }\n",
       "\n",
       "    .dataframe thead th {\n",
       "        text-align: right;\n",
       "    }\n",
       "</style>\n",
       "<table border=\"1\" class=\"dataframe\">\n",
       "  <thead>\n",
       "    <tr style=\"text-align: right;\">\n",
       "      <th></th>\n",
       "      <th>login</th>\n",
       "      <th>language</th>\n",
       "      <th>Membership</th>\n",
       "      <th>_merge</th>\n",
       "    </tr>\n",
       "  </thead>\n",
       "  <tbody>\n",
       "    <tr>\n",
       "      <th>0</th>\n",
       "      <td>DEK11</td>\n",
       "      <td>etag</td>\n",
       "      <td>45719.0</td>\n",
       "      <td>both</td>\n",
       "    </tr>\n",
       "    <tr>\n",
       "      <th>1</th>\n",
       "      <td>ueef</td>\n",
       "      <td>etag</td>\n",
       "      <td>5582.0</td>\n",
       "      <td>both</td>\n",
       "    </tr>\n",
       "    <tr>\n",
       "      <th>2</th>\n",
       "      <td>nikogura</td>\n",
       "      <td>etag</td>\n",
       "      <td>20.0</td>\n",
       "      <td>both</td>\n",
       "    </tr>\n",
       "    <tr>\n",
       "      <th>3</th>\n",
       "      <td>mgernand</td>\n",
       "      <td>etag</td>\n",
       "      <td>17.0</td>\n",
       "      <td>both</td>\n",
       "    </tr>\n",
       "    <tr>\n",
       "      <th>4</th>\n",
       "      <td>carltongibson</td>\n",
       "      <td>etag</td>\n",
       "      <td>4.0</td>\n",
       "      <td>both</td>\n",
       "    </tr>\n",
       "    <tr>\n",
       "      <th>...</th>\n",
       "      <td>...</td>\n",
       "      <td>...</td>\n",
       "      <td>...</td>\n",
       "      <td>...</td>\n",
       "    </tr>\n",
       "    <tr>\n",
       "      <th>156520</th>\n",
       "      <td>HanSolo</td>\n",
       "      <td>etag</td>\n",
       "      <td>11.0</td>\n",
       "      <td>both</td>\n",
       "    </tr>\n",
       "    <tr>\n",
       "      <th>156521</th>\n",
       "      <td>edwintye</td>\n",
       "      <td>etag</td>\n",
       "      <td>156.0</td>\n",
       "      <td>both</td>\n",
       "    </tr>\n",
       "    <tr>\n",
       "      <th>156522</th>\n",
       "      <td>txhsl</td>\n",
       "      <td>etag</td>\n",
       "      <td>17.0</td>\n",
       "      <td>both</td>\n",
       "    </tr>\n",
       "    <tr>\n",
       "      <th>156523</th>\n",
       "      <td>jordn</td>\n",
       "      <td>etag</td>\n",
       "      <td>9.0</td>\n",
       "      <td>both</td>\n",
       "    </tr>\n",
       "    <tr>\n",
       "      <th>156524</th>\n",
       "      <td>eeshiken</td>\n",
       "      <td>etag</td>\n",
       "      <td>5.0</td>\n",
       "      <td>both</td>\n",
       "    </tr>\n",
       "  </tbody>\n",
       "</table>\n",
       "<p>156525 rows × 4 columns</p>\n",
       "</div>"
      ],
      "text/plain": [
       "                login language  Membership _merge\n",
       "0               DEK11     etag     45719.0   both\n",
       "1                ueef     etag      5582.0   both\n",
       "2            nikogura     etag        20.0   both\n",
       "3            mgernand     etag        17.0   both\n",
       "4       carltongibson     etag         4.0   both\n",
       "...               ...      ...         ...    ...\n",
       "156520        HanSolo     etag        11.0   both\n",
       "156521       edwintye     etag       156.0   both\n",
       "156522          txhsl     etag        17.0   both\n",
       "156523          jordn     etag         9.0   both\n",
       "156524       eeshiken     etag         5.0   both\n",
       "\n",
       "[156525 rows x 4 columns]"
      ]
     },
     "execution_count": 165,
     "metadata": {},
     "output_type": "execute_result"
    }
   ],
   "source": [
    "Step1_rule1_vs_rule3"
   ]
  },
  {
   "cell_type": "markdown",
   "metadata": {},
   "source": [
    "## Step1-Rule4: by ownership, only owners be assigned languge_1(70% + all)"
   ]
  },
  {
   "cell_type": "code",
   "execution_count": 97,
   "metadata": {},
   "outputs": [],
   "source": [
    "# creat a column with owners name#70\n",
    "new = One_languege_repos_m[\"slug\"].str.split(\"/\",expand = True)\n",
    "  \n",
    "# making separate owner column from new data frame #70\n",
    "One_languege_repos_m[\"owner\"]= new[0] "
   ]
  },
  {
   "cell_type": "code",
   "execution_count": 98,
   "metadata": {},
   "outputs": [],
   "source": [
    "# creat a column with owners name#all\n",
    "new = repos_m[\"slug\"].str.split(\"/\",expand = True)\n",
    "  \n",
    "# making separate owner column from new data frame #all\n",
    "repos_m[\"owner\"]= new[0] "
   ]
  },
  {
   "cell_type": "code",
   "execution_count": 99,
   "metadata": {},
   "outputs": [],
   "source": [
    "ownership = One_languege_repos_m.loc[(One_languege_repos_m['owner'] ==One_languege_repos_m['login'])]#70"
   ]
  },
  {
   "cell_type": "code",
   "execution_count": 100,
   "metadata": {},
   "outputs": [],
   "source": [
    "ownership_all = repos_m.loc[(repos_m['owner'] ==repos_m['login'])]#all"
   ]
  },
  {
   "cell_type": "code",
   "execution_count": 101,
   "metadata": {},
   "outputs": [],
   "source": [
    "#if owner and login the same, keep the row, or bytes>100, i.e keep all if they own, if they don’t own use rule byte threshold\n",
    "\n",
    "#repos_ownership = One_languege_repos.loc[(One_languege_repos['owner'] ==One_languege_repos['login']) | (One_languege_repos['bytes'] > 100)]# for multi"
   ]
  },
  {
   "cell_type": "code",
   "execution_count": 102,
   "metadata": {},
   "outputs": [
    {
     "name": "stderr",
     "output_type": "stream",
     "text": [
      "/apps/software/standard/compiler/gcc/7.1.0/jupyter_conda/2019.10-py3.7/lib/python3.7/site-packages/ipykernel_launcher.py:1: SettingWithCopyWarning: \n",
      "A value is trying to be set on a copy of a slice from a DataFrame.\n",
      "Try using .loc[row_indexer,col_indexer] = value instead\n",
      "\n",
      "See the caveats in the documentation: https://pandas.pydata.org/pandas-docs/stable/user_guide/indexing.html#returning-a-view-versus-a-copy\n",
      "  \"\"\"Entry point for launching an IPython kernel.\n"
     ]
    }
   ],
   "source": [
    "ownership['Membership'] = ownership['login'].map(Membership_LRN_rev)#70"
   ]
  },
  {
   "cell_type": "code",
   "execution_count": 103,
   "metadata": {},
   "outputs": [
    {
     "name": "stderr",
     "output_type": "stream",
     "text": [
      "/apps/software/standard/compiler/gcc/7.1.0/jupyter_conda/2019.10-py3.7/lib/python3.7/site-packages/ipykernel_launcher.py:1: SettingWithCopyWarning: \n",
      "A value is trying to be set on a copy of a slice from a DataFrame.\n",
      "Try using .loc[row_indexer,col_indexer] = value instead\n",
      "\n",
      "See the caveats in the documentation: https://pandas.pydata.org/pandas-docs/stable/user_guide/indexing.html#returning-a-view-versus-a-copy\n",
      "  \"\"\"Entry point for launching an IPython kernel.\n"
     ]
    }
   ],
   "source": [
    "ownership_all['Membership'] = ownership_all['login'].map(Membership_LRN_rev)#all"
   ]
  },
  {
   "cell_type": "code",
   "execution_count": 104,
   "metadata": {},
   "outputs": [],
   "source": [
    "Step1_rule4_70_ownership = ownership[['login', 'language', 'Membership']].dropna()#70"
   ]
  },
  {
   "cell_type": "code",
   "execution_count": 105,
   "metadata": {},
   "outputs": [],
   "source": [
    "Step1_rule4_70_ownership_all = ownership_all[['login', 'language', 'Membership']].dropna()#all"
   ]
  },
  {
   "cell_type": "code",
   "execution_count": 106,
   "metadata": {},
   "outputs": [
    {
     "data": {
      "text/html": [
       "<div>\n",
       "<style scoped>\n",
       "    .dataframe tbody tr th:only-of-type {\n",
       "        vertical-align: middle;\n",
       "    }\n",
       "\n",
       "    .dataframe tbody tr th {\n",
       "        vertical-align: top;\n",
       "    }\n",
       "\n",
       "    .dataframe thead th {\n",
       "        text-align: right;\n",
       "    }\n",
       "</style>\n",
       "<table border=\"1\" class=\"dataframe\">\n",
       "  <thead>\n",
       "    <tr style=\"text-align: right;\">\n",
       "      <th></th>\n",
       "      <th>login</th>\n",
       "      <th>language</th>\n",
       "      <th>Membership</th>\n",
       "    </tr>\n",
       "  </thead>\n",
       "  <tbody>\n",
       "    <tr>\n",
       "      <th>56</th>\n",
       "      <td>000paradox000</td>\n",
       "      <td>python</td>\n",
       "      <td>9</td>\n",
       "    </tr>\n",
       "    <tr>\n",
       "      <th>81</th>\n",
       "      <td>00111000</td>\n",
       "      <td>python</td>\n",
       "      <td>0</td>\n",
       "    </tr>\n",
       "    <tr>\n",
       "      <th>627</th>\n",
       "      <td>00benallen</td>\n",
       "      <td>java</td>\n",
       "      <td>123000</td>\n",
       "    </tr>\n",
       "    <tr>\n",
       "      <th>628</th>\n",
       "      <td>00benallen</td>\n",
       "      <td>swift</td>\n",
       "      <td>123000</td>\n",
       "    </tr>\n",
       "    <tr>\n",
       "      <th>757</th>\n",
       "      <td>00firestar00</td>\n",
       "      <td>java</td>\n",
       "      <td>5</td>\n",
       "    </tr>\n",
       "    <tr>\n",
       "      <th>...</th>\n",
       "      <td>...</td>\n",
       "      <td>...</td>\n",
       "      <td>...</td>\n",
       "    </tr>\n",
       "    <tr>\n",
       "      <th>9763</th>\n",
       "      <td>0x00-0x00</td>\n",
       "      <td>shell</td>\n",
       "      <td>4</td>\n",
       "    </tr>\n",
       "    <tr>\n",
       "      <th>9764</th>\n",
       "      <td>0x00-0x00</td>\n",
       "      <td>python</td>\n",
       "      <td>4</td>\n",
       "    </tr>\n",
       "    <tr>\n",
       "      <th>9794</th>\n",
       "      <td>0x010C</td>\n",
       "      <td>python</td>\n",
       "      <td>1</td>\n",
       "    </tr>\n",
       "    <tr>\n",
       "      <th>9805</th>\n",
       "      <td>0x010C</td>\n",
       "      <td>python</td>\n",
       "      <td>1</td>\n",
       "    </tr>\n",
       "    <tr>\n",
       "      <th>9869</th>\n",
       "      <td>0x0ade</td>\n",
       "      <td>c#</td>\n",
       "      <td>9</td>\n",
       "    </tr>\n",
       "  </tbody>\n",
       "</table>\n",
       "<p>100 rows × 3 columns</p>\n",
       "</div>"
      ],
      "text/plain": [
       "              login language  Membership\n",
       "56    000paradox000   python           9\n",
       "81         00111000   python           0\n",
       "627      00benallen     java      123000\n",
       "628      00benallen    swift      123000\n",
       "757    00firestar00     java           5\n",
       "...             ...      ...         ...\n",
       "9763      0x00-0x00    shell           4\n",
       "9764      0x00-0x00   python           4\n",
       "9794         0x010C   python           1\n",
       "9805         0x010C   python           1\n",
       "9869         0x0ade       c#           9\n",
       "\n",
       "[100 rows x 3 columns]"
      ]
     },
     "execution_count": 106,
     "metadata": {},
     "output_type": "execute_result"
    }
   ],
   "source": [
    "Step1_rule4_70_ownership.head(100)"
   ]
  },
  {
   "cell_type": "code",
   "execution_count": 126,
   "metadata": {},
   "outputs": [
    {
     "data": {
      "text/plain": [
       "Text(0.5, 0.98, 'Distribution of # diff languages by rul1-4 in communities, 70')"
      ]
     },
     "execution_count": 126,
     "metadata": {},
     "output_type": "execute_result"
    },
    {
     "data": {
      "image/png": "[encoded data removed]",
      "text/plain": [
       "<Figure size 432x288 with 1 Axes>"
      ]
     },
     "metadata": {
      "needs_background": "light"
     },
     "output_type": "display_data"
    }
   ],
   "source": [
    "step1_rule4_70_group_mem=Step1_rule4_70_ownership.groupby(['Membership'])['language'].nunique()\n",
    "step1_rule4_70_group_mem.plot.hist(bins = 200, xlim=(0,8))#70\n",
    "plt.savefig('step1_rule4_70_lang_mem.png')\n",
    "plt.suptitle(\"Distribution of # diff languages by rul1-4 in communities, 70\")"
   ]
  },
  {
   "cell_type": "code",
   "execution_count": 107,
   "metadata": {},
   "outputs": [
    {
     "data": {
      "image/png": "[encoded data removed]",
      "text/plain": [
       "<Figure size 432x288 with 1 Axes>"
      ]
     },
     "metadata": {
      "needs_background": "light"
     },
     "output_type": "display_data"
    }
   ],
   "source": [
    "sns.countplot(y=\"language\", data=Step1_rule4_70_ownership,\n",
    "              order = Step1_rule4_70_ownership['language'].value_counts().iloc[:10].index)\n",
    "plt.savefig('language_#community_step1 rule3_70_top10.png')"
   ]
  },
  {
   "cell_type": "code",
   "execution_count": null,
   "metadata": {},
   "outputs": [],
   "source": [
    "Step1_rule1_vs_rule3 = Step1_rule3_70_majority.merge(step1_rule1_70_bytes, how = 'outer' ,indicator=True).loc[lambda x : x['_merge']=='both']"
   ]
  },
  {
   "cell_type": "markdown",
   "metadata": {},
   "source": [
    "# Step 2, multi-languge assignement:"
   ]
  },
  {
   "cell_type": "markdown",
   "metadata": {},
   "source": [
    "## Step 2_Rule1: Langueges_byte_2, threshold on # mean/75 quartile byte"
   ]
  },
  {
   "cell_type": "code",
   "execution_count": 25,
   "metadata": {},
   "outputs": [],
   "source": [
    "One_languege_repos_m['mean_bytes_user'] = One_languege_repos_m.groupby([\"login\", 'language'])['bytes'].transform(\"mean\")#70"
   ]
  },
  {
   "cell_type": "code",
   "execution_count": 26,
   "metadata": {},
   "outputs": [],
   "source": [
    "repos_m['mean_bytes_user'] = repos_m.groupby([\"login\", 'language'])['bytes'].transform(\"mean\")#all"
   ]
  },
  {
   "cell_type": "code",
   "execution_count": 27,
   "metadata": {},
   "outputs": [],
   "source": [
    "repos_lang_multi = One_languege_repos_m.loc[One_languege_repos_m['bytes']>One_languege_repos_m['mean_bytes_user']]# 70%"
   ]
  },
  {
   "cell_type": "code",
   "execution_count": 28,
   "metadata": {},
   "outputs": [],
   "source": [
    "repos_lang_multi_all = repos_m.loc[repos_m['bytes']>repos_m['mean_bytes_user']]# all"
   ]
  },
  {
   "cell_type": "code",
   "execution_count": 29,
   "metadata": {},
   "outputs": [],
   "source": [
    "step2_rule1_70_bytes = repos_lang_multi[['login', 'language', 'Membership']].dropna()# 70"
   ]
  },
  {
   "cell_type": "code",
   "execution_count": 80,
   "metadata": {},
   "outputs": [
    {
     "data": {
      "text/html": [
       "<div>\n",
       "<style scoped>\n",
       "    .dataframe tbody tr th:only-of-type {\n",
       "        vertical-align: middle;\n",
       "    }\n",
       "\n",
       "    .dataframe tbody tr th {\n",
       "        vertical-align: top;\n",
       "    }\n",
       "\n",
       "    .dataframe thead th {\n",
       "        text-align: right;\n",
       "    }\n",
       "</style>\n",
       "<table border=\"1\" class=\"dataframe\">\n",
       "  <thead>\n",
       "    <tr style=\"text-align: right;\">\n",
       "      <th></th>\n",
       "      <th>login</th>\n",
       "      <th>language</th>\n",
       "      <th>Membership</th>\n",
       "    </tr>\n",
       "  </thead>\n",
       "  <tbody>\n",
       "    <tr>\n",
       "      <th>1003</th>\n",
       "      <td>0101011</td>\n",
       "      <td>etag</td>\n",
       "      <td>19.0</td>\n",
       "    </tr>\n",
       "    <tr>\n",
       "      <th>1232</th>\n",
       "      <td>stanzheng</td>\n",
       "      <td>java</td>\n",
       "      <td>0.0</td>\n",
       "    </tr>\n",
       "    <tr>\n",
       "      <th>1890</th>\n",
       "      <td>02JanDal</td>\n",
       "      <td>ruby</td>\n",
       "      <td>5.0</td>\n",
       "    </tr>\n",
       "    <tr>\n",
       "      <th>2042</th>\n",
       "      <td>bigstark</td>\n",
       "      <td>java</td>\n",
       "      <td>40933.0</td>\n",
       "    </tr>\n",
       "    <tr>\n",
       "      <th>2205</th>\n",
       "      <td>0532</td>\n",
       "      <td>java</td>\n",
       "      <td>0.0</td>\n",
       "    </tr>\n",
       "    <tr>\n",
       "      <th>...</th>\n",
       "      <td>...</td>\n",
       "      <td>...</td>\n",
       "      <td>...</td>\n",
       "    </tr>\n",
       "    <tr>\n",
       "      <th>28230886</th>\n",
       "      <td>zzolo</td>\n",
       "      <td>javascript</td>\n",
       "      <td>9.0</td>\n",
       "    </tr>\n",
       "    <tr>\n",
       "      <th>28230949</th>\n",
       "      <td>zzo</td>\n",
       "      <td>javascript</td>\n",
       "      <td>23.0</td>\n",
       "    </tr>\n",
       "    <tr>\n",
       "      <th>28241653</th>\n",
       "      <td>zzsza</td>\n",
       "      <td>etag</td>\n",
       "      <td>87114.0</td>\n",
       "    </tr>\n",
       "    <tr>\n",
       "      <th>28241655</th>\n",
       "      <td>zzsza</td>\n",
       "      <td>jupyter notebook</td>\n",
       "      <td>87114.0</td>\n",
       "    </tr>\n",
       "    <tr>\n",
       "      <th>28245775</th>\n",
       "      <td>zzzzail</td>\n",
       "      <td>javascript</td>\n",
       "      <td>113109.0</td>\n",
       "    </tr>\n",
       "  </tbody>\n",
       "</table>\n",
       "<p>81575 rows × 3 columns</p>\n",
       "</div>"
      ],
      "text/plain": [
       "              login          language  Membership\n",
       "1003        0101011              etag        19.0\n",
       "1232      stanzheng              java         0.0\n",
       "1890       02JanDal              ruby         5.0\n",
       "2042       bigstark              java     40933.0\n",
       "2205           0532              java         0.0\n",
       "...             ...               ...         ...\n",
       "28230886      zzolo        javascript         9.0\n",
       "28230949        zzo        javascript        23.0\n",
       "28241653      zzsza              etag     87114.0\n",
       "28241655      zzsza  jupyter notebook     87114.0\n",
       "28245775    zzzzail        javascript    113109.0\n",
       "\n",
       "[81575 rows x 3 columns]"
      ]
     },
     "execution_count": 80,
     "metadata": {},
     "output_type": "execute_result"
    }
   ],
   "source": [
    "step2_rule1_70_bytes"
   ]
  },
  {
   "cell_type": "code",
   "execution_count": 81,
   "metadata": {},
   "outputs": [],
   "source": [
    "step2_rule1_all_bytes = repos_lang_multi_all[['login', 'language', 'Membership']].dropna()# all"
   ]
  },
  {
   "cell_type": "code",
   "execution_count": 82,
   "metadata": {},
   "outputs": [
    {
     "data": {
      "text/html": [
       "<div>\n",
       "<style scoped>\n",
       "    .dataframe tbody tr th:only-of-type {\n",
       "        vertical-align: middle;\n",
       "    }\n",
       "\n",
       "    .dataframe tbody tr th {\n",
       "        vertical-align: top;\n",
       "    }\n",
       "\n",
       "    .dataframe thead th {\n",
       "        text-align: right;\n",
       "    }\n",
       "</style>\n",
       "<table border=\"1\" class=\"dataframe\">\n",
       "  <thead>\n",
       "    <tr style=\"text-align: right;\">\n",
       "      <th></th>\n",
       "      <th>login</th>\n",
       "      <th>language</th>\n",
       "      <th>Membership</th>\n",
       "    </tr>\n",
       "  </thead>\n",
       "  <tbody>\n",
       "    <tr>\n",
       "      <th>17</th>\n",
       "      <td>DavidHoffmann</td>\n",
       "      <td>c#</td>\n",
       "      <td>3</td>\n",
       "    </tr>\n",
       "    <tr>\n",
       "      <th>33</th>\n",
       "      <td>000paradox000</td>\n",
       "      <td>python</td>\n",
       "      <td>9</td>\n",
       "    </tr>\n",
       "    <tr>\n",
       "      <th>34</th>\n",
       "      <td>000paradox000</td>\n",
       "      <td>javascript</td>\n",
       "      <td>9</td>\n",
       "    </tr>\n",
       "    <tr>\n",
       "      <th>46</th>\n",
       "      <td>000paradox000</td>\n",
       "      <td>html</td>\n",
       "      <td>9</td>\n",
       "    </tr>\n",
       "    <tr>\n",
       "      <th>47</th>\n",
       "      <td>000paradox000</td>\n",
       "      <td>python</td>\n",
       "      <td>9</td>\n",
       "    </tr>\n",
       "    <tr>\n",
       "      <th>...</th>\n",
       "      <td>...</td>\n",
       "      <td>...</td>\n",
       "      <td>...</td>\n",
       "    </tr>\n",
       "    <tr>\n",
       "      <th>28245661</th>\n",
       "      <td>ichaobuster</td>\n",
       "      <td>html</td>\n",
       "      <td>318</td>\n",
       "    </tr>\n",
       "    <tr>\n",
       "      <th>28245662</th>\n",
       "      <td>balakrishna513</td>\n",
       "      <td>html</td>\n",
       "      <td>318</td>\n",
       "    </tr>\n",
       "    <tr>\n",
       "      <th>28245681</th>\n",
       "      <td>benjsmi</td>\n",
       "      <td>dockerfile</td>\n",
       "      <td>318</td>\n",
       "    </tr>\n",
       "    <tr>\n",
       "      <th>28245772</th>\n",
       "      <td>zzzzail</td>\n",
       "      <td>javascript</td>\n",
       "      <td>113109</td>\n",
       "    </tr>\n",
       "    <tr>\n",
       "      <th>28245775</th>\n",
       "      <td>zzzzail</td>\n",
       "      <td>javascript</td>\n",
       "      <td>113109</td>\n",
       "    </tr>\n",
       "  </tbody>\n",
       "</table>\n",
       "<p>4435659 rows × 3 columns</p>\n",
       "</div>"
      ],
      "text/plain": [
       "                   login    language  Membership\n",
       "17         DavidHoffmann          c#           3\n",
       "33         000paradox000      python           9\n",
       "34         000paradox000  javascript           9\n",
       "46         000paradox000        html           9\n",
       "47         000paradox000      python           9\n",
       "...                  ...         ...         ...\n",
       "28245661     ichaobuster        html         318\n",
       "28245662  balakrishna513        html         318\n",
       "28245681         benjsmi  dockerfile         318\n",
       "28245772         zzzzail  javascript      113109\n",
       "28245775         zzzzail  javascript      113109\n",
       "\n",
       "[4435659 rows x 3 columns]"
      ]
     },
     "execution_count": 82,
     "metadata": {},
     "output_type": "execute_result"
    }
   ],
   "source": [
    "step2_rule1_all_bytes"
   ]
  },
  {
   "cell_type": "code",
   "execution_count": 83,
   "metadata": {},
   "outputs": [],
   "source": []
  },
  {
   "cell_type": "code",
   "execution_count": 86,
   "metadata": {},
   "outputs": [
    {
     "data": {
      "text/plain": [
       "Text(0.5, 0.98, 'Distribution of # diff languages by rul2-1 in communities, 70')"
      ]
     },
     "execution_count": 86,
     "metadata": {},
     "output_type": "execute_result"
    },
    {
     "data": {
      "image/png": "[encoded data removed]",
      "text/plain": [
       "<Figure size 432x288 with 1 Axes>"
      ]
     },
     "metadata": {
      "needs_background": "light"
     },
     "output_type": "display_data"
    }
   ],
   "source": [
    "step2_rule1_70_group_mem=step2_rule1_70_bytes.groupby(['Membership'])['language'].nunique()\n",
    "step2_rule1_70_group_mem.plot.hist(bins = 200, xlim=(0,8))#70\n",
    "plt.savefig('step2_rule1_70_bytes_lang_mem.png')\n",
    "plt.suptitle(\"Distribution of # diff languages by rul2-1 in communities, 70\")\n"
   ]
  },
  {
   "cell_type": "code",
   "execution_count": 30,
   "metadata": {},
   "outputs": [
    {
     "data": {
      "image/png": "[encoded data removed]",
      "text/plain": [
       "<Figure size 432x288 with 1 Axes>"
      ]
     },
     "metadata": {
      "needs_background": "light"
     },
     "output_type": "display_data"
    }
   ],
   "source": [
    "sns.countplot(y=\"language\", data=step2_rule1_70_bytes,\n",
    "              order = step2_rule1_70_bytes['language'].value_counts().iloc[:10].index)\n",
    "plt.savefig('language_#community_step2 rule1_70_top10.png')"
   ]
  },
  {
   "cell_type": "markdown",
   "metadata": {},
   "source": [
    "## Ste2-Rule2: number of Langueges_commit (70%-all)\n"
   ]
  },
  {
   "cell_type": "code",
   "execution_count": 35,
   "metadata": {},
   "outputs": [],
   "source": [
    "One_languege_repos_m['mean_commit_user'] = One_languege_repos_m.groupby([\"login\", 'language'])['commits'].transform('mean') #70"
   ]
  },
  {
   "cell_type": "code",
   "execution_count": 36,
   "metadata": {},
   "outputs": [],
   "source": [
    "repos_m['mean_commit_user'] = repos_m.groupby([\"login\", 'language'])['commits'].transform(\"mean\")#all"
   ]
  },
  {
   "cell_type": "code",
   "execution_count": 37,
   "metadata": {},
   "outputs": [],
   "source": [
    "repos_Lang_commit_multi = One_languege_repos_m.loc[One_languege_repos_m['commits']>One_languege_repos_m[\"mean_commit_user\"]]# 70%"
   ]
  },
  {
   "cell_type": "code",
   "execution_count": 38,
   "metadata": {},
   "outputs": [],
   "source": [
    "repos_Lang_commit_multi_all = repos_m.loc[repos_m['commits']>repos_m[\"mean_commit_user\"]]# all"
   ]
  },
  {
   "cell_type": "code",
   "execution_count": 39,
   "metadata": {},
   "outputs": [],
   "source": [
    "step2_rule2_70_commit = repos_Lang_commit_multi [['login', 'language', 'Membership']].dropna()# 70"
   ]
  },
  {
   "cell_type": "code",
   "execution_count": 40,
   "metadata": {},
   "outputs": [],
   "source": [
    "step2_rule2_70_commit_all = repos_Lang_commit_multi_all [['login', 'language', 'Membership']].dropna()# all"
   ]
  },
  {
   "cell_type": "code",
   "execution_count": 41,
   "metadata": {},
   "outputs": [
    {
     "data": {
      "text/html": [
       "<div>\n",
       "<style scoped>\n",
       "    .dataframe tbody tr th:only-of-type {\n",
       "        vertical-align: middle;\n",
       "    }\n",
       "\n",
       "    .dataframe tbody tr th {\n",
       "        vertical-align: top;\n",
       "    }\n",
       "\n",
       "    .dataframe thead th {\n",
       "        text-align: right;\n",
       "    }\n",
       "</style>\n",
       "<table border=\"1\" class=\"dataframe\">\n",
       "  <thead>\n",
       "    <tr style=\"text-align: right;\">\n",
       "      <th></th>\n",
       "      <th>login</th>\n",
       "      <th>language</th>\n",
       "      <th>Membership</th>\n",
       "    </tr>\n",
       "  </thead>\n",
       "  <tbody>\n",
       "    <tr>\n",
       "      <th>1008</th>\n",
       "      <td>0101011</td>\n",
       "      <td>etag</td>\n",
       "      <td>19.0</td>\n",
       "    </tr>\n",
       "    <tr>\n",
       "      <th>1232</th>\n",
       "      <td>stanzheng</td>\n",
       "      <td>java</td>\n",
       "      <td>0.0</td>\n",
       "    </tr>\n",
       "    <tr>\n",
       "      <th>2205</th>\n",
       "      <td>0532</td>\n",
       "      <td>java</td>\n",
       "      <td>0.0</td>\n",
       "    </tr>\n",
       "    <tr>\n",
       "      <th>3775</th>\n",
       "      <td>0918nobita</td>\n",
       "      <td>etag</td>\n",
       "      <td>0.0</td>\n",
       "    </tr>\n",
       "    <tr>\n",
       "      <th>4569</th>\n",
       "      <td>0dayZh</td>\n",
       "      <td>objective-c</td>\n",
       "      <td>8.0</td>\n",
       "    </tr>\n",
       "    <tr>\n",
       "      <th>...</th>\n",
       "      <td>...</td>\n",
       "      <td>...</td>\n",
       "      <td>...</td>\n",
       "    </tr>\n",
       "    <tr>\n",
       "      <th>80546</th>\n",
       "      <td>sfuhrm</td>\n",
       "      <td>java</td>\n",
       "      <td>1.0</td>\n",
       "    </tr>\n",
       "    <tr>\n",
       "      <th>81115</th>\n",
       "      <td>1ed</td>\n",
       "      <td>ruby</td>\n",
       "      <td>6.0</td>\n",
       "    </tr>\n",
       "    <tr>\n",
       "      <th>81290</th>\n",
       "      <td>yoren</td>\n",
       "      <td>php</td>\n",
       "      <td>18.0</td>\n",
       "    </tr>\n",
       "    <tr>\n",
       "      <th>81295</th>\n",
       "      <td>yoren</td>\n",
       "      <td>php</td>\n",
       "      <td>18.0</td>\n",
       "    </tr>\n",
       "    <tr>\n",
       "      <th>81685</th>\n",
       "      <td>1hakr</td>\n",
       "      <td>java</td>\n",
       "      <td>5.0</td>\n",
       "    </tr>\n",
       "  </tbody>\n",
       "</table>\n",
       "<p>100 rows × 3 columns</p>\n",
       "</div>"
      ],
      "text/plain": [
       "            login     language  Membership\n",
       "1008      0101011         etag        19.0\n",
       "1232    stanzheng         java         0.0\n",
       "2205         0532         java         0.0\n",
       "3775   0918nobita         etag         0.0\n",
       "4569       0dayZh  objective-c         8.0\n",
       "...           ...          ...         ...\n",
       "80546      sfuhrm         java         1.0\n",
       "81115         1ed         ruby         6.0\n",
       "81290       yoren          php        18.0\n",
       "81295       yoren          php        18.0\n",
       "81685       1hakr         java         5.0\n",
       "\n",
       "[100 rows x 3 columns]"
      ]
     },
     "execution_count": 41,
     "metadata": {},
     "output_type": "execute_result"
    }
   ],
   "source": [
    "step2_rule2_70_commit .head(100)"
   ]
  },
  {
   "cell_type": "code",
   "execution_count": 42,
   "metadata": {},
   "outputs": [
    {
     "data": {
      "text/html": [
       "<div>\n",
       "<style scoped>\n",
       "    .dataframe tbody tr th:only-of-type {\n",
       "        vertical-align: middle;\n",
       "    }\n",
       "\n",
       "    .dataframe tbody tr th {\n",
       "        vertical-align: top;\n",
       "    }\n",
       "\n",
       "    .dataframe thead th {\n",
       "        text-align: right;\n",
       "    }\n",
       "</style>\n",
       "<table border=\"1\" class=\"dataframe\">\n",
       "  <thead>\n",
       "    <tr style=\"text-align: right;\">\n",
       "      <th></th>\n",
       "      <th>login</th>\n",
       "      <th>language</th>\n",
       "      <th>Membership</th>\n",
       "    </tr>\n",
       "  </thead>\n",
       "  <tbody>\n",
       "    <tr>\n",
       "      <th>17</th>\n",
       "      <td>DavidHoffmann</td>\n",
       "      <td>c#</td>\n",
       "      <td>3.0</td>\n",
       "    </tr>\n",
       "    <tr>\n",
       "      <th>31</th>\n",
       "      <td>000paradox000</td>\n",
       "      <td>python</td>\n",
       "      <td>9.0</td>\n",
       "    </tr>\n",
       "    <tr>\n",
       "      <th>32</th>\n",
       "      <td>000paradox000</td>\n",
       "      <td>shell</td>\n",
       "      <td>9.0</td>\n",
       "    </tr>\n",
       "    <tr>\n",
       "      <th>33</th>\n",
       "      <td>000paradox000</td>\n",
       "      <td>python</td>\n",
       "      <td>9.0</td>\n",
       "    </tr>\n",
       "    <tr>\n",
       "      <th>34</th>\n",
       "      <td>000paradox000</td>\n",
       "      <td>javascript</td>\n",
       "      <td>9.0</td>\n",
       "    </tr>\n",
       "    <tr>\n",
       "      <th>...</th>\n",
       "      <td>...</td>\n",
       "      <td>...</td>\n",
       "      <td>...</td>\n",
       "    </tr>\n",
       "    <tr>\n",
       "      <th>804</th>\n",
       "      <td>pcornelissen</td>\n",
       "      <td>html</td>\n",
       "      <td>11.0</td>\n",
       "    </tr>\n",
       "    <tr>\n",
       "      <th>810</th>\n",
       "      <td>sqshq</td>\n",
       "      <td>html</td>\n",
       "      <td>2.0</td>\n",
       "    </tr>\n",
       "    <tr>\n",
       "      <th>816</th>\n",
       "      <td>pcornelissen</td>\n",
       "      <td>shell</td>\n",
       "      <td>11.0</td>\n",
       "    </tr>\n",
       "    <tr>\n",
       "      <th>822</th>\n",
       "      <td>sqshq</td>\n",
       "      <td>shell</td>\n",
       "      <td>2.0</td>\n",
       "    </tr>\n",
       "    <tr>\n",
       "      <th>824</th>\n",
       "      <td>clevertension</td>\n",
       "      <td>javascript</td>\n",
       "      <td>11.0</td>\n",
       "    </tr>\n",
       "  </tbody>\n",
       "</table>\n",
       "<p>100 rows × 3 columns</p>\n",
       "</div>"
      ],
      "text/plain": [
       "             login    language  Membership\n",
       "17   DavidHoffmann          c#         3.0\n",
       "31   000paradox000      python         9.0\n",
       "32   000paradox000       shell         9.0\n",
       "33   000paradox000      python         9.0\n",
       "34   000paradox000  javascript         9.0\n",
       "..             ...         ...         ...\n",
       "804   pcornelissen        html        11.0\n",
       "810          sqshq        html         2.0\n",
       "816   pcornelissen       shell        11.0\n",
       "822          sqshq       shell         2.0\n",
       "824  clevertension  javascript        11.0\n",
       "\n",
       "[100 rows x 3 columns]"
      ]
     },
     "execution_count": 42,
     "metadata": {},
     "output_type": "execute_result"
    }
   ],
   "source": [
    "step2_rule2_70_commit_all .head(100)"
   ]
  },
  {
   "cell_type": "code",
   "execution_count": null,
   "metadata": {},
   "outputs": [
    {
     "data": {
      "text/plain": [
       "Text(0.5, 0.98, 'Distribution of # diff languages by rul2-2 in communities, 70')"
      ]
     },
     "execution_count": 43,
     "metadata": {},
     "output_type": "execute_result"
    }
   ],
   "source": [
    "step2_rule2_70_group_mem=step2_rule2_70_commit.groupby(['Membership'])['language'].nunique()\n",
    "step2_rule2_70_group_mem.plot.hist(bins = 200, xlim=(0,8))#70\n",
    "plt.savefig('step2_rule2_70_bytes_lang_mem.png')\n",
    "plt.suptitle(\"Distribution of # diff languages by rul2-2 in communities, 70\")"
   ]
  },
  {
   "cell_type": "code",
   "execution_count": null,
   "metadata": {},
   "outputs": [],
   "source": [
    "sns.countplot(y=\"language\", data=step2_rule2_70_commit,\n",
    "              order = step2_rule2_70_commit['language'].value_counts().iloc[:10].index)\n",
    "plt.savefig('language_#community_step2 rule2_70_top10.png')"
   ]
  },
  {
   "cell_type": "markdown",
   "metadata": {},
   "source": [
    "## Step 2-Rule3: number of Langueges_Majority_1"
   ]
  },
  {
   "cell_type": "code",
   "execution_count": 191,
   "metadata": {},
   "outputs": [],
   "source": [
    "Login_lang_majority_multi=One_languege_repos_m.groupby([\"login\", \"language\"]).size().to_frame('Lng-count').reset_index().merge(One_languege_repos_m,on=[\"login\", \"language\"],how='right').fillna(value=0)#70"
   ]
  },
  {
   "cell_type": "code",
   "execution_count": 200,
   "metadata": {},
   "outputs": [],
   "source": [
    "Login_lang_majority_multi_all = repos_m.groupby([\"login\", \"language\"]).size().to_frame('Lng-count').reset_index().merge(repos_m,on=[\"login\", \"language\"],how='right').fillna(value=0)#all"
   ]
  },
  {
   "cell_type": "code",
   "execution_count": 192,
   "metadata": {},
   "outputs": [],
   "source": [
    "Login_lang_majority_multi['mean_Lang_count']= Login_lang_majority_multi.groupby([\"login\"])['Lng-count'].transform('mean')#70"
   ]
  },
  {
   "cell_type": "code",
   "execution_count": 201,
   "metadata": {},
   "outputs": [],
   "source": [
    "Login_lang_majority_multi_all['mean_Lang_count']= Login_lang_majority_multi_all.groupby([\"login\"])['Lng-count'].transform('mean')#all"
   ]
  },
  {
   "cell_type": "code",
   "execution_count": 202,
   "metadata": {},
   "outputs": [],
   "source": [
    "Login_lang_majority_multi = Login_lang_majority_multi.loc[Login_lang_majority_multi['Lng-count']>Login_lang_majority_multi[\"mean_Lang_count\"]]# 70%"
   ]
  },
  {
   "cell_type": "code",
   "execution_count": 170,
   "metadata": {},
   "outputs": [],
   "source": [
    "Login_lang_majority_multi_all = Login_lang_majority_multi_all.loc[Login_lang_majority_multi_all['Lng-count']>Login_lang_majority_multi_all[\"mean_Lang_count\"]]# all%"
   ]
  },
  {
   "cell_type": "code",
   "execution_count": 203,
   "metadata": {},
   "outputs": [],
   "source": [
    "step2_rule3_70_majority = Login_lang_majority_multi [['login', 'language', 'Membership']].dropna()# 70"
   ]
  },
  {
   "cell_type": "code",
   "execution_count": 204,
   "metadata": {},
   "outputs": [
    {
     "data": {
      "text/html": [
       "<div>\n",
       "<style scoped>\n",
       "    .dataframe tbody tr th:only-of-type {\n",
       "        vertical-align: middle;\n",
       "    }\n",
       "\n",
       "    .dataframe tbody tr th {\n",
       "        vertical-align: top;\n",
       "    }\n",
       "\n",
       "    .dataframe thead th {\n",
       "        text-align: right;\n",
       "    }\n",
       "</style>\n",
       "<table border=\"1\" class=\"dataframe\">\n",
       "  <thead>\n",
       "    <tr style=\"text-align: right;\">\n",
       "      <th></th>\n",
       "      <th>login</th>\n",
       "      <th>language</th>\n",
       "      <th>Membership</th>\n",
       "    </tr>\n",
       "  </thead>\n",
       "  <tbody>\n",
       "    <tr>\n",
       "      <th>17</th>\n",
       "      <td>stanzheng</td>\n",
       "      <td>java</td>\n",
       "      <td>0.0</td>\n",
       "    </tr>\n",
       "    <tr>\n",
       "      <th>18</th>\n",
       "      <td>stanzheng</td>\n",
       "      <td>java</td>\n",
       "      <td>0.0</td>\n",
       "    </tr>\n",
       "    <tr>\n",
       "      <th>32</th>\n",
       "      <td>0532</td>\n",
       "      <td>java</td>\n",
       "      <td>0.0</td>\n",
       "    </tr>\n",
       "    <tr>\n",
       "      <th>33</th>\n",
       "      <td>0532</td>\n",
       "      <td>java</td>\n",
       "      <td>0.0</td>\n",
       "    </tr>\n",
       "    <tr>\n",
       "      <th>34</th>\n",
       "      <td>0532</td>\n",
       "      <td>java</td>\n",
       "      <td>0.0</td>\n",
       "    </tr>\n",
       "    <tr>\n",
       "      <th>...</th>\n",
       "      <td>...</td>\n",
       "      <td>...</td>\n",
       "      <td>...</td>\n",
       "    </tr>\n",
       "    <tr>\n",
       "      <th>361</th>\n",
       "      <td>123marvin123</td>\n",
       "      <td>java</td>\n",
       "      <td>16.0</td>\n",
       "    </tr>\n",
       "    <tr>\n",
       "      <th>362</th>\n",
       "      <td>123marvin123</td>\n",
       "      <td>java</td>\n",
       "      <td>16.0</td>\n",
       "    </tr>\n",
       "    <tr>\n",
       "      <th>363</th>\n",
       "      <td>123marvin123</td>\n",
       "      <td>java</td>\n",
       "      <td>16.0</td>\n",
       "    </tr>\n",
       "    <tr>\n",
       "      <th>364</th>\n",
       "      <td>123marvin123</td>\n",
       "      <td>java</td>\n",
       "      <td>16.0</td>\n",
       "    </tr>\n",
       "    <tr>\n",
       "      <th>367</th>\n",
       "      <td>TakWolf</td>\n",
       "      <td>java</td>\n",
       "      <td>9.0</td>\n",
       "    </tr>\n",
       "  </tbody>\n",
       "</table>\n",
       "<p>100 rows × 3 columns</p>\n",
       "</div>"
      ],
      "text/plain": [
       "            login language  Membership\n",
       "17      stanzheng     java         0.0\n",
       "18      stanzheng     java         0.0\n",
       "32           0532     java         0.0\n",
       "33           0532     java         0.0\n",
       "34           0532     java         0.0\n",
       "..            ...      ...         ...\n",
       "361  123marvin123     java        16.0\n",
       "362  123marvin123     java        16.0\n",
       "363  123marvin123     java        16.0\n",
       "364  123marvin123     java        16.0\n",
       "367       TakWolf     java         9.0\n",
       "\n",
       "[100 rows x 3 columns]"
      ]
     },
     "execution_count": 204,
     "metadata": {},
     "output_type": "execute_result"
    }
   ],
   "source": [
    "step2_rule3_70_majority.head(100)"
   ]
  },
  {
   "cell_type": "code",
   "execution_count": 205,
   "metadata": {},
   "outputs": [],
   "source": [
    "step2_rule3_70_majority_all = Login_lang_majority_multi_all [['login', 'language', 'Membership']].dropna()# 70"
   ]
  },
  {
   "cell_type": "code",
   "execution_count": 206,
   "metadata": {},
   "outputs": [
    {
     "data": {
      "text/html": [
       "<div>\n",
       "<style scoped>\n",
       "    .dataframe tbody tr th:only-of-type {\n",
       "        vertical-align: middle;\n",
       "    }\n",
       "\n",
       "    .dataframe tbody tr th {\n",
       "        vertical-align: top;\n",
       "    }\n",
       "\n",
       "    .dataframe thead th {\n",
       "        text-align: right;\n",
       "    }\n",
       "</style>\n",
       "<table border=\"1\" class=\"dataframe\">\n",
       "  <thead>\n",
       "    <tr style=\"text-align: right;\">\n",
       "      <th></th>\n",
       "      <th>login</th>\n",
       "      <th>language</th>\n",
       "      <th>Membership</th>\n",
       "    </tr>\n",
       "  </thead>\n",
       "  <tbody>\n",
       "    <tr>\n",
       "      <th>0</th>\n",
       "      <td>DavidHoffmann</td>\n",
       "      <td>c#</td>\n",
       "      <td>3</td>\n",
       "    </tr>\n",
       "    <tr>\n",
       "      <th>1</th>\n",
       "      <td>DavidHoffmann</td>\n",
       "      <td>c#</td>\n",
       "      <td>3</td>\n",
       "    </tr>\n",
       "    <tr>\n",
       "      <th>2</th>\n",
       "      <td>DavidHoffmann</td>\n",
       "      <td>c#</td>\n",
       "      <td>3</td>\n",
       "    </tr>\n",
       "    <tr>\n",
       "      <th>3</th>\n",
       "      <td>000paradox000</td>\n",
       "      <td>python</td>\n",
       "      <td>9</td>\n",
       "    </tr>\n",
       "    <tr>\n",
       "      <th>4</th>\n",
       "      <td>000paradox000</td>\n",
       "      <td>python</td>\n",
       "      <td>9</td>\n",
       "    </tr>\n",
       "    <tr>\n",
       "      <th>...</th>\n",
       "      <td>...</td>\n",
       "      <td>...</td>\n",
       "      <td>...</td>\n",
       "    </tr>\n",
       "    <tr>\n",
       "      <th>95</th>\n",
       "      <td>Walkman100</td>\n",
       "      <td>shell</td>\n",
       "      <td>54</td>\n",
       "    </tr>\n",
       "    <tr>\n",
       "      <th>96</th>\n",
       "      <td>Walkman100</td>\n",
       "      <td>shell</td>\n",
       "      <td>54</td>\n",
       "    </tr>\n",
       "    <tr>\n",
       "      <th>97</th>\n",
       "      <td>Walkman100</td>\n",
       "      <td>shell</td>\n",
       "      <td>54</td>\n",
       "    </tr>\n",
       "    <tr>\n",
       "      <th>98</th>\n",
       "      <td>Walkman100</td>\n",
       "      <td>shell</td>\n",
       "      <td>54</td>\n",
       "    </tr>\n",
       "    <tr>\n",
       "      <th>99</th>\n",
       "      <td>Walkman100</td>\n",
       "      <td>shell</td>\n",
       "      <td>54</td>\n",
       "    </tr>\n",
       "  </tbody>\n",
       "</table>\n",
       "<p>100 rows × 3 columns</p>\n",
       "</div>"
      ],
      "text/plain": [
       "            login language  Membership\n",
       "0   DavidHoffmann       c#           3\n",
       "1   DavidHoffmann       c#           3\n",
       "2   DavidHoffmann       c#           3\n",
       "3   000paradox000   python           9\n",
       "4   000paradox000   python           9\n",
       "..            ...      ...         ...\n",
       "95     Walkman100    shell          54\n",
       "96     Walkman100    shell          54\n",
       "97     Walkman100    shell          54\n",
       "98     Walkman100    shell          54\n",
       "99     Walkman100    shell          54\n",
       "\n",
       "[100 rows x 3 columns]"
      ]
     },
     "execution_count": 206,
     "metadata": {},
     "output_type": "execute_result"
    }
   ],
   "source": [
    "step2_rule3_70_majority_all.head(100)"
   ]
  },
  {
   "cell_type": "code",
   "execution_count": 197,
   "metadata": {},
   "outputs": [
    {
     "data": {
      "text/plain": [
       "Text(0.5, 0.98, 'Distribution of # diff languages by rul2-3 in communities, 70')"
      ]
     },
     "execution_count": 197,
     "metadata": {},
     "output_type": "execute_result"
    },
    {
     "data": {
      "image/png": "[encoded data removed]",
      "text/plain": [
       "<Figure size 432x288 with 1 Axes>"
      ]
     },
     "metadata": {
      "needs_background": "light"
     },
     "output_type": "display_data"
    }
   ],
   "source": [
    "step2_rule3_70_group_mem=step2_rule3_70_majority.groupby(['Membership'])['language'].nunique()\n",
    "step2_rule3_70_group_mem.plot.hist(bins = 200, xlim=(0,8))#70\n",
    "plt.savefig('step2_rule3_70_lang_mem.png')\n",
    "plt.suptitle(\"Distribution of # diff languages by rul2-3 in communities, 70\")"
   ]
  },
  {
   "cell_type": "code",
   "execution_count": 210,
   "metadata": {},
   "outputs": [
    {
     "data": {
      "text/plain": [
       "Text(0.5, 0.98, 'Distribution of # diff languages by rul2-3 in communities, all')"
      ]
     },
     "execution_count": 210,
     "metadata": {},
     "output_type": "execute_result"
    },
    {
     "data": {
      "image/png": "[encoded data removed]",
      "text/plain": [
       "<Figure size 432x288 with 1 Axes>"
      ]
     },
     "metadata": {
      "needs_background": "light"
     },
     "output_type": "display_data"
    }
   ],
   "source": [
    "step2_rule3_all_group_mem=step2_rule3_70_majority_all.groupby(['Membership'])['language'].nunique()\n",
    "step2_rule3_all_group_mem.plot.hist(bins = 200,color='green', xlim=(0,8))#70\n",
    "plt.savefig('step2_rule3_all_lang_mem.png')\n",
    "plt.suptitle(\"Distribution of # diff languages by rul2-3 in communities, all\")"
   ]
  },
  {
   "cell_type": "markdown",
   "metadata": {},
   "source": [
    "## Step2-Rule4: by ownership, _1(70% + all)"
   ]
  },
  {
   "cell_type": "code",
   "execution_count": 319,
   "metadata": {},
   "outputs": [],
   "source": [
    "#if owner and login the same, keep the row, or bytes>100, i.e keep all if they own, if they don’t own use rule byte threshold\n",
    "\n",
    "repos_ownership = One_languege_repos_m.loc[(One_languege_repos_m['owner'] ==One_languege_repos_m['login']) | (One_languege_repos_m['bytes'] > One_languege_repos_m['mean_bytes_user'])]#70 for multi"
   ]
  },
  {
   "cell_type": "code",
   "execution_count": 322,
   "metadata": {},
   "outputs": [],
   "source": [
    "Step2_rule4_70_ownership =repos_ownership[['login', 'language', 'Membership']].dropna()# 70"
   ]
  },
  {
   "cell_type": "code",
   "execution_count": 326,
   "metadata": {},
   "outputs": [
    {
     "data": {
      "text/html": [
       "<div>\n",
       "<style scoped>\n",
       "    .dataframe tbody tr th:only-of-type {\n",
       "        vertical-align: middle;\n",
       "    }\n",
       "\n",
       "    .dataframe tbody tr th {\n",
       "        vertical-align: top;\n",
       "    }\n",
       "\n",
       "    .dataframe thead th {\n",
       "        text-align: right;\n",
       "    }\n",
       "</style>\n",
       "<table border=\"1\" class=\"dataframe\">\n",
       "  <thead>\n",
       "    <tr style=\"text-align: right;\">\n",
       "      <th></th>\n",
       "      <th>login</th>\n",
       "      <th>language</th>\n",
       "      <th>Membership</th>\n",
       "    </tr>\n",
       "  </thead>\n",
       "  <tbody>\n",
       "    <tr>\n",
       "      <th>56</th>\n",
       "      <td>000paradox000</td>\n",
       "      <td>python</td>\n",
       "      <td>9.0</td>\n",
       "    </tr>\n",
       "    <tr>\n",
       "      <th>81</th>\n",
       "      <td>00111000</td>\n",
       "      <td>python</td>\n",
       "      <td>0.0</td>\n",
       "    </tr>\n",
       "    <tr>\n",
       "      <th>627</th>\n",
       "      <td>00benallen</td>\n",
       "      <td>java</td>\n",
       "      <td>123000.0</td>\n",
       "    </tr>\n",
       "    <tr>\n",
       "      <th>628</th>\n",
       "      <td>00benallen</td>\n",
       "      <td>swift</td>\n",
       "      <td>123000.0</td>\n",
       "    </tr>\n",
       "    <tr>\n",
       "      <th>757</th>\n",
       "      <td>00firestar00</td>\n",
       "      <td>java</td>\n",
       "      <td>5.0</td>\n",
       "    </tr>\n",
       "    <tr>\n",
       "      <th>...</th>\n",
       "      <td>...</td>\n",
       "      <td>...</td>\n",
       "      <td>...</td>\n",
       "    </tr>\n",
       "    <tr>\n",
       "      <th>9707</th>\n",
       "      <td>0V</td>\n",
       "      <td>etag</td>\n",
       "      <td>24.0</td>\n",
       "    </tr>\n",
       "    <tr>\n",
       "      <th>9708</th>\n",
       "      <td>0V</td>\n",
       "      <td>c#</td>\n",
       "      <td>24.0</td>\n",
       "    </tr>\n",
       "    <tr>\n",
       "      <th>9760</th>\n",
       "      <td>0x00-0x00</td>\n",
       "      <td>python</td>\n",
       "      <td>4.0</td>\n",
       "    </tr>\n",
       "    <tr>\n",
       "      <th>9761</th>\n",
       "      <td>0x00-0x00</td>\n",
       "      <td>python</td>\n",
       "      <td>4.0</td>\n",
       "    </tr>\n",
       "    <tr>\n",
       "      <th>9762</th>\n",
       "      <td>0x00-0x00</td>\n",
       "      <td>python</td>\n",
       "      <td>4.0</td>\n",
       "    </tr>\n",
       "  </tbody>\n",
       "</table>\n",
       "<p>100 rows × 3 columns</p>\n",
       "</div>"
      ],
      "text/plain": [
       "              login language  Membership\n",
       "56    000paradox000   python         9.0\n",
       "81         00111000   python         0.0\n",
       "627      00benallen     java    123000.0\n",
       "628      00benallen    swift    123000.0\n",
       "757    00firestar00     java         5.0\n",
       "...             ...      ...         ...\n",
       "9707             0V     etag        24.0\n",
       "9708             0V       c#        24.0\n",
       "9760      0x00-0x00   python         4.0\n",
       "9761      0x00-0x00   python         4.0\n",
       "9762      0x00-0x00   python         4.0\n",
       "\n",
       "[100 rows x 3 columns]"
      ]
     },
     "execution_count": 326,
     "metadata": {},
     "output_type": "execute_result"
    }
   ],
   "source": [
    "Step2_rule4_70_ownership.head(100)"
   ]
  },
  {
   "cell_type": "code",
   "execution_count": 321,
   "metadata": {},
   "outputs": [],
   "source": [
    "repos_ownership_all = repos_m.loc[(repos_m['owner'] ==repos_m['login']) | (repos_m['bytes'] > repos_m['mean_bytes_user'])]#all for multi"
   ]
  },
  {
   "cell_type": "code",
   "execution_count": 325,
   "metadata": {},
   "outputs": [],
   "source": [
    "Step2_rule4_all_ownership =repos_ownership_all[['login', 'language', 'Membership']].dropna()# all"
   ]
  },
  {
   "cell_type": "code",
   "execution_count": 324,
   "metadata": {},
   "outputs": [
    {
     "data": {
      "text/html": [
       "<div>\n",
       "<style scoped>\n",
       "    .dataframe tbody tr th:only-of-type {\n",
       "        vertical-align: middle;\n",
       "    }\n",
       "\n",
       "    .dataframe tbody tr th {\n",
       "        vertical-align: top;\n",
       "    }\n",
       "\n",
       "    .dataframe thead th {\n",
       "        text-align: right;\n",
       "    }\n",
       "</style>\n",
       "<table border=\"1\" class=\"dataframe\">\n",
       "  <thead>\n",
       "    <tr style=\"text-align: right;\">\n",
       "      <th></th>\n",
       "      <th>login</th>\n",
       "      <th>language</th>\n",
       "      <th>Membership</th>\n",
       "    </tr>\n",
       "  </thead>\n",
       "  <tbody>\n",
       "    <tr>\n",
       "      <th>17</th>\n",
       "      <td>DavidHoffmann</td>\n",
       "      <td>c#</td>\n",
       "      <td>3.0</td>\n",
       "    </tr>\n",
       "    <tr>\n",
       "      <th>31</th>\n",
       "      <td>000paradox000</td>\n",
       "      <td>python</td>\n",
       "      <td>9.0</td>\n",
       "    </tr>\n",
       "    <tr>\n",
       "      <th>32</th>\n",
       "      <td>000paradox000</td>\n",
       "      <td>shell</td>\n",
       "      <td>9.0</td>\n",
       "    </tr>\n",
       "    <tr>\n",
       "      <th>33</th>\n",
       "      <td>000paradox000</td>\n",
       "      <td>python</td>\n",
       "      <td>9.0</td>\n",
       "    </tr>\n",
       "    <tr>\n",
       "      <th>34</th>\n",
       "      <td>000paradox000</td>\n",
       "      <td>javascript</td>\n",
       "      <td>9.0</td>\n",
       "    </tr>\n",
       "    <tr>\n",
       "      <th>...</th>\n",
       "      <td>...</td>\n",
       "      <td>...</td>\n",
       "      <td>...</td>\n",
       "    </tr>\n",
       "    <tr>\n",
       "      <th>273</th>\n",
       "      <td>David-Desmaisons</td>\n",
       "      <td>javascript</td>\n",
       "      <td>24.0</td>\n",
       "    </tr>\n",
       "    <tr>\n",
       "      <th>274</th>\n",
       "      <td>pepf</td>\n",
       "      <td>javascript</td>\n",
       "      <td>3.0</td>\n",
       "    </tr>\n",
       "    <tr>\n",
       "      <th>276</th>\n",
       "      <td>michalsnik</td>\n",
       "      <td>javascript</td>\n",
       "      <td>24.0</td>\n",
       "    </tr>\n",
       "    <tr>\n",
       "      <th>277</th>\n",
       "      <td>maxushuang</td>\n",
       "      <td>javascript</td>\n",
       "      <td>24.0</td>\n",
       "    </tr>\n",
       "    <tr>\n",
       "      <th>278</th>\n",
       "      <td>rnons</td>\n",
       "      <td>javascript</td>\n",
       "      <td>24.0</td>\n",
       "    </tr>\n",
       "  </tbody>\n",
       "</table>\n",
       "<p>100 rows × 3 columns</p>\n",
       "</div>"
      ],
      "text/plain": [
       "                login    language  Membership\n",
       "17      DavidHoffmann          c#         3.0\n",
       "31      000paradox000      python         9.0\n",
       "32      000paradox000       shell         9.0\n",
       "33      000paradox000      python         9.0\n",
       "34      000paradox000  javascript         9.0\n",
       "..                ...         ...         ...\n",
       "273  David-Desmaisons  javascript        24.0\n",
       "274              pepf  javascript         3.0\n",
       "276        michalsnik  javascript        24.0\n",
       "277        maxushuang  javascript        24.0\n",
       "278             rnons  javascript        24.0\n",
       "\n",
       "[100 rows x 3 columns]"
      ]
     },
     "execution_count": 324,
     "metadata": {},
     "output_type": "execute_result"
    }
   ],
   "source": [
    "Step2_rule4_all_ownership.head(100)"
   ]
  },
  {
   "cell_type": "markdown",
   "metadata": {},
   "source": [
    "# Experiment "
   ]
  },
  {
   "cell_type": "code",
   "execution_count": 71,
   "metadata": {},
   "outputs": [],
   "source": [
    "#Example for me# values of  key(community i)=r[i]\n",
    "# for each community \n",
    "d = { 1 : ['z','a',\"nmn\"], \n",
    "2 :'b', \n",
    "3 :  ['am'], \n",
    "4 : ['nm', 'gbn'] } \n",
    "reversed_d = {val: key for key in d for val in d[key]}\n",
    "m_hist={}\n",
    "for k , v in d.items():\n",
    "    m_hist[k] = len(d[k])  \n",
    "rm = []                                                                             \n",
    "for i in d.values():\n",
    "    rm.append(i) "
   ]
  },
  {
   "cell_type": "code",
   "execution_count": 32,
   "metadata": {},
   "outputs": [],
   "source": [
    "df = pd.DataFrame({'A' : ['foo', 'foo', 'bar', 'bar', 'foo','Zi'],\n",
    "                   'B' : [1,2,3,2,3,6],\n",
    "                   'D' :[1,2,5,2,3,7],\n",
    "                   'C' : [\"X\", 'X', 'Y', 'X', 'Y','Z']})"
   ]
  },
  {
   "cell_type": "code",
   "execution_count": 118,
   "metadata": {},
   "outputs": [],
   "source": [
    "df2 = pd.DataFrame({'A' : ['foo', 'foo', 'bar', 'bar', 'foo','Zi'],\n",
    "                   'B' : [11000,2,4,2,3,6],\n",
    "                   'D' :[1,2,5,2,3,7],\n",
    "                   'C' : [\"X\", 'X', 'Y', 'X', 'Y','Z']})"
   ]
  },
  {
   "cell_type": "code",
   "execution_count": 33,
   "metadata": {},
   "outputs": [
    {
     "data": {
      "image/png": "[encoded data removed]",
      "text/plain": [
       "<Figure size 432x288 with 1 Axes>"
      ]
     },
     "metadata": {
      "needs_background": "light"
     },
     "output_type": "display_data"
    }
   ],
   "source": [
    "sns.countplot(y=\"C\", data=df,\n",
    "              order = df['C'].value_counts().iloc[:10].index)\n",
    "plt.savefig('C.png')"
   ]
  },
  {
   "cell_type": "code",
   "execution_count": 119,
   "metadata": {},
   "outputs": [
    {
     "data": {
      "text/plain": [
       "2"
      ]
     },
     "execution_count": 119,
     "metadata": {},
     "output_type": "execute_result"
    }
   ],
   "source": [
    "sum(df['B']!=df2['B'])"
   ]
  },
  {
   "cell_type": "code",
   "execution_count": 114,
   "metadata": {},
   "outputs": [
    {
     "data": {
      "text/plain": [
       "0    1\n",
       "1    2\n",
       "2    4\n",
       "3    2\n",
       "4    3\n",
       "5    6\n",
       "Name: B, dtype: int64"
      ]
     },
     "execution_count": 114,
     "metadata": {},
     "output_type": "execute_result"
    }
   ],
   "source": [
    "df2['B']"
   ]
  },
  {
   "cell_type": "code",
   "execution_count": 134,
   "metadata": {},
   "outputs": [],
   "source": [
    "dfnew = df.merge(df2, how = 'outer' ,indicator='check').loc[lambda x : x['_merge']=='right_only']\n"
   ]
  },
  {
   "cell_type": "code",
   "execution_count": 135,
   "metadata": {},
   "outputs": [
    {
     "data": {
      "text/html": [
       "<div>\n",
       "<style scoped>\n",
       "    .dataframe tbody tr th:only-of-type {\n",
       "        vertical-align: middle;\n",
       "    }\n",
       "\n",
       "    .dataframe tbody tr th {\n",
       "        vertical-align: top;\n",
       "    }\n",
       "\n",
       "    .dataframe thead th {\n",
       "        text-align: right;\n",
       "    }\n",
       "</style>\n",
       "<table border=\"1\" class=\"dataframe\">\n",
       "  <thead>\n",
       "    <tr style=\"text-align: right;\">\n",
       "      <th></th>\n",
       "      <th>A</th>\n",
       "      <th>B</th>\n",
       "      <th>D</th>\n",
       "      <th>C</th>\n",
       "      <th>_merge</th>\n",
       "      <th>check</th>\n",
       "    </tr>\n",
       "  </thead>\n",
       "  <tbody>\n",
       "    <tr>\n",
       "      <th>0</th>\n",
       "      <td>foo</td>\n",
       "      <td>11000</td>\n",
       "      <td>1</td>\n",
       "      <td>X</td>\n",
       "      <td>right_only</td>\n",
       "      <td>both</td>\n",
       "    </tr>\n",
       "    <tr>\n",
       "      <th>1</th>\n",
       "      <td>bar</td>\n",
       "      <td>4</td>\n",
       "      <td>5</td>\n",
       "      <td>Y</td>\n",
       "      <td>right_only</td>\n",
       "      <td>both</td>\n",
       "    </tr>\n",
       "  </tbody>\n",
       "</table>\n",
       "</div>"
      ],
      "text/plain": [
       "     A      B  D  C      _merge check\n",
       "0  foo  11000  1  X  right_only  both\n",
       "1  bar      4  5  Y  right_only  both"
      ]
     },
     "execution_count": 135,
     "metadata": {},
     "output_type": "execute_result"
    }
   ],
   "source": [
    "dfnew"
   ]
  },
  {
   "cell_type": "code",
   "execution_count": 74,
   "metadata": {},
   "outputs": [],
   "source": [
    "fl= df.groupby(['A','C']).size().to_frame('countl')"
   ]
  },
  {
   "cell_type": "code",
   "execution_count": 78,
   "metadata": {},
   "outputs": [
    {
     "data": {
      "text/html": [
       "<div>\n",
       "<style scoped>\n",
       "    .dataframe tbody tr th:only-of-type {\n",
       "        vertical-align: middle;\n",
       "    }\n",
       "\n",
       "    .dataframe tbody tr th {\n",
       "        vertical-align: top;\n",
       "    }\n",
       "\n",
       "    .dataframe thead th {\n",
       "        text-align: right;\n",
       "    }\n",
       "</style>\n",
       "<table border=\"1\" class=\"dataframe\">\n",
       "  <thead>\n",
       "    <tr style=\"text-align: right;\">\n",
       "      <th></th>\n",
       "      <th></th>\n",
       "      <th>countl</th>\n",
       "    </tr>\n",
       "    <tr>\n",
       "      <th>A</th>\n",
       "      <th>C</th>\n",
       "      <th></th>\n",
       "    </tr>\n",
       "  </thead>\n",
       "  <tbody>\n",
       "    <tr>\n",
       "      <th>Zi</th>\n",
       "      <th>Z</th>\n",
       "      <td>1</td>\n",
       "    </tr>\n",
       "    <tr>\n",
       "      <th rowspan=\"2\" valign=\"top\">bar</th>\n",
       "      <th>X</th>\n",
       "      <td>1</td>\n",
       "    </tr>\n",
       "    <tr>\n",
       "      <th>Y</th>\n",
       "      <td>1</td>\n",
       "    </tr>\n",
       "    <tr>\n",
       "      <th rowspan=\"2\" valign=\"top\">foo</th>\n",
       "      <th>X</th>\n",
       "      <td>2</td>\n",
       "    </tr>\n",
       "    <tr>\n",
       "      <th>Y</th>\n",
       "      <td>1</td>\n",
       "    </tr>\n",
       "  </tbody>\n",
       "</table>\n",
       "</div>"
      ],
      "text/plain": [
       "       countl\n",
       "A   C        \n",
       "Zi  Z       1\n",
       "bar X       1\n",
       "    Y       1\n",
       "foo X       2\n",
       "    Y       1"
      ]
     },
     "execution_count": 78,
     "metadata": {},
     "output_type": "execute_result"
    }
   ],
   "source": [
    "fl"
   ]
  },
  {
   "cell_type": "code",
   "execution_count": 77,
   "metadata": {},
   "outputs": [
    {
     "data": {
      "text/plain": [
       "countl\n",
       "1         4\n",
       "2         1\n",
       "dtype: int64"
      ]
     },
     "execution_count": 77,
     "metadata": {},
     "output_type": "execute_result"
    }
   ],
   "source": [
    "fl.value_counts()"
   ]
  },
  {
   "cell_type": "code",
   "execution_count": 158,
   "metadata": {},
   "outputs": [],
   "source": [
    " fm=df.groupby(['A','C']).size().to_frame('countl').reset_index().merge(df,on=['A', 'C'],how='right').fillna(value=0)#works"
   ]
  },
  {
   "cell_type": "code",
   "execution_count": 198,
   "metadata": {},
   "outputs": [],
   "source": [
    "fm['meancount']= fm.groupby([\"A\"])['countl'].transform('mean')#70"
   ]
  },
  {
   "cell_type": "code",
   "execution_count": 199,
   "metadata": {},
   "outputs": [
    {
     "data": {
      "text/html": [
       "<div>\n",
       "<style scoped>\n",
       "    .dataframe tbody tr th:only-of-type {\n",
       "        vertical-align: middle;\n",
       "    }\n",
       "\n",
       "    .dataframe tbody tr th {\n",
       "        vertical-align: top;\n",
       "    }\n",
       "\n",
       "    .dataframe thead th {\n",
       "        text-align: right;\n",
       "    }\n",
       "</style>\n",
       "<table border=\"1\" class=\"dataframe\">\n",
       "  <thead>\n",
       "    <tr style=\"text-align: right;\">\n",
       "      <th></th>\n",
       "      <th>A</th>\n",
       "      <th>C</th>\n",
       "      <th>countl</th>\n",
       "      <th>B</th>\n",
       "      <th>D</th>\n",
       "      <th>maxcount</th>\n",
       "      <th>meancount</th>\n",
       "    </tr>\n",
       "  </thead>\n",
       "  <tbody>\n",
       "    <tr>\n",
       "      <th>0</th>\n",
       "      <td>foo</td>\n",
       "      <td>X</td>\n",
       "      <td>2</td>\n",
       "      <td>1</td>\n",
       "      <td>1</td>\n",
       "      <td>1.666667</td>\n",
       "      <td>1.666667</td>\n",
       "    </tr>\n",
       "    <tr>\n",
       "      <th>1</th>\n",
       "      <td>foo</td>\n",
       "      <td>X</td>\n",
       "      <td>2</td>\n",
       "      <td>2</td>\n",
       "      <td>2</td>\n",
       "      <td>1.666667</td>\n",
       "      <td>1.666667</td>\n",
       "    </tr>\n",
       "    <tr>\n",
       "      <th>2</th>\n",
       "      <td>bar</td>\n",
       "      <td>Y</td>\n",
       "      <td>1</td>\n",
       "      <td>3</td>\n",
       "      <td>5</td>\n",
       "      <td>1.000000</td>\n",
       "      <td>1.000000</td>\n",
       "    </tr>\n",
       "    <tr>\n",
       "      <th>3</th>\n",
       "      <td>bar</td>\n",
       "      <td>X</td>\n",
       "      <td>1</td>\n",
       "      <td>2</td>\n",
       "      <td>2</td>\n",
       "      <td>1.000000</td>\n",
       "      <td>1.000000</td>\n",
       "    </tr>\n",
       "    <tr>\n",
       "      <th>4</th>\n",
       "      <td>foo</td>\n",
       "      <td>Y</td>\n",
       "      <td>1</td>\n",
       "      <td>3</td>\n",
       "      <td>3</td>\n",
       "      <td>1.666667</td>\n",
       "      <td>1.666667</td>\n",
       "    </tr>\n",
       "    <tr>\n",
       "      <th>5</th>\n",
       "      <td>Zi</td>\n",
       "      <td>Z</td>\n",
       "      <td>1</td>\n",
       "      <td>6</td>\n",
       "      <td>7</td>\n",
       "      <td>1.000000</td>\n",
       "      <td>1.000000</td>\n",
       "    </tr>\n",
       "  </tbody>\n",
       "</table>\n",
       "</div>"
      ],
      "text/plain": [
       "     A  C  countl  B  D  maxcount  meancount\n",
       "0  foo  X       2  1  1  1.666667   1.666667\n",
       "1  foo  X       2  2  2  1.666667   1.666667\n",
       "2  bar  Y       1  3  5  1.000000   1.000000\n",
       "3  bar  X       1  2  2  1.000000   1.000000\n",
       "4  foo  Y       1  3  3  1.666667   1.666667\n",
       "5   Zi  Z       1  6  7  1.000000   1.000000"
      ]
     },
     "execution_count": 199,
     "metadata": {},
     "output_type": "execute_result"
    }
   ],
   "source": [
    "fm"
   ]
  },
  {
   "cell_type": "code",
   "execution_count": 169,
   "metadata": {},
   "outputs": [],
   "source": [
    "fmh = fm.loc[fm['countl']==fm['maxcount']]"
   ]
  },
  {
   "cell_type": "code",
   "execution_count": 170,
   "metadata": {},
   "outputs": [
    {
     "data": {
      "text/html": [
       "<div>\n",
       "<style scoped>\n",
       "    .dataframe tbody tr th:only-of-type {\n",
       "        vertical-align: middle;\n",
       "    }\n",
       "\n",
       "    .dataframe tbody tr th {\n",
       "        vertical-align: top;\n",
       "    }\n",
       "\n",
       "    .dataframe thead th {\n",
       "        text-align: right;\n",
       "    }\n",
       "</style>\n",
       "<table border=\"1\" class=\"dataframe\">\n",
       "  <thead>\n",
       "    <tr style=\"text-align: right;\">\n",
       "      <th></th>\n",
       "      <th>A</th>\n",
       "      <th>C</th>\n",
       "      <th>countl</th>\n",
       "      <th>B</th>\n",
       "      <th>D</th>\n",
       "      <th>maxcount</th>\n",
       "    </tr>\n",
       "  </thead>\n",
       "  <tbody>\n",
       "    <tr>\n",
       "      <th>0</th>\n",
       "      <td>foo</td>\n",
       "      <td>X</td>\n",
       "      <td>2</td>\n",
       "      <td>1</td>\n",
       "      <td>1</td>\n",
       "      <td>2</td>\n",
       "    </tr>\n",
       "    <tr>\n",
       "      <th>1</th>\n",
       "      <td>foo</td>\n",
       "      <td>X</td>\n",
       "      <td>2</td>\n",
       "      <td>2</td>\n",
       "      <td>2</td>\n",
       "      <td>2</td>\n",
       "    </tr>\n",
       "    <tr>\n",
       "      <th>2</th>\n",
       "      <td>bar</td>\n",
       "      <td>Y</td>\n",
       "      <td>1</td>\n",
       "      <td>3</td>\n",
       "      <td>5</td>\n",
       "      <td>1</td>\n",
       "    </tr>\n",
       "    <tr>\n",
       "      <th>3</th>\n",
       "      <td>bar</td>\n",
       "      <td>X</td>\n",
       "      <td>1</td>\n",
       "      <td>2</td>\n",
       "      <td>2</td>\n",
       "      <td>1</td>\n",
       "    </tr>\n",
       "    <tr>\n",
       "      <th>5</th>\n",
       "      <td>Zi</td>\n",
       "      <td>Z</td>\n",
       "      <td>1</td>\n",
       "      <td>6</td>\n",
       "      <td>7</td>\n",
       "      <td>1</td>\n",
       "    </tr>\n",
       "  </tbody>\n",
       "</table>\n",
       "</div>"
      ],
      "text/plain": [
       "     A  C  countl  B  D  maxcount\n",
       "0  foo  X       2  1  1         2\n",
       "1  foo  X       2  2  2         2\n",
       "2  bar  Y       1  3  5         1\n",
       "3  bar  X       1  2  2         1\n",
       "5   Zi  Z       1  6  7         1"
      ]
     },
     "execution_count": 170,
     "metadata": {},
     "output_type": "execute_result"
    }
   ],
   "source": [
    "fmh "
   ]
  },
  {
   "cell_type": "code",
   "execution_count": 171,
   "metadata": {},
   "outputs": [],
   "source": [
    "v=fmh.sort_values('D', ascending=False).drop_duplicates(subset=['A','maxcount'])###yes!!!"
   ]
  },
  {
   "cell_type": "code",
   "execution_count": 172,
   "metadata": {},
   "outputs": [
    {
     "data": {
      "text/html": [
       "<div>\n",
       "<style scoped>\n",
       "    .dataframe tbody tr th:only-of-type {\n",
       "        vertical-align: middle;\n",
       "    }\n",
       "\n",
       "    .dataframe tbody tr th {\n",
       "        vertical-align: top;\n",
       "    }\n",
       "\n",
       "    .dataframe thead th {\n",
       "        text-align: right;\n",
       "    }\n",
       "</style>\n",
       "<table border=\"1\" class=\"dataframe\">\n",
       "  <thead>\n",
       "    <tr style=\"text-align: right;\">\n",
       "      <th></th>\n",
       "      <th>A</th>\n",
       "      <th>C</th>\n",
       "      <th>countl</th>\n",
       "      <th>B</th>\n",
       "      <th>D</th>\n",
       "      <th>maxcount</th>\n",
       "    </tr>\n",
       "  </thead>\n",
       "  <tbody>\n",
       "    <tr>\n",
       "      <th>5</th>\n",
       "      <td>Zi</td>\n",
       "      <td>Z</td>\n",
       "      <td>1</td>\n",
       "      <td>6</td>\n",
       "      <td>7</td>\n",
       "      <td>1</td>\n",
       "    </tr>\n",
       "    <tr>\n",
       "      <th>2</th>\n",
       "      <td>bar</td>\n",
       "      <td>Y</td>\n",
       "      <td>1</td>\n",
       "      <td>3</td>\n",
       "      <td>5</td>\n",
       "      <td>1</td>\n",
       "    </tr>\n",
       "    <tr>\n",
       "      <th>1</th>\n",
       "      <td>foo</td>\n",
       "      <td>X</td>\n",
       "      <td>2</td>\n",
       "      <td>2</td>\n",
       "      <td>2</td>\n",
       "      <td>2</td>\n",
       "    </tr>\n",
       "  </tbody>\n",
       "</table>\n",
       "</div>"
      ],
      "text/plain": [
       "     A  C  countl  B  D  maxcount\n",
       "5   Zi  Z       1  6  7         1\n",
       "2  bar  Y       1  3  5         1\n",
       "1  foo  X       2  2  2         2"
      ]
     },
     "execution_count": 172,
     "metadata": {},
     "output_type": "execute_result"
    }
   ],
   "source": [
    "v"
   ]
  },
  {
   "cell_type": "code",
   "execution_count": 173,
   "metadata": {},
   "outputs": [
    {
     "data": {
      "text/html": [
       "<div>\n",
       "<style scoped>\n",
       "    .dataframe tbody tr th:only-of-type {\n",
       "        vertical-align: middle;\n",
       "    }\n",
       "\n",
       "    .dataframe tbody tr th {\n",
       "        vertical-align: top;\n",
       "    }\n",
       "\n",
       "    .dataframe thead th {\n",
       "        text-align: right;\n",
       "    }\n",
       "</style>\n",
       "<table border=\"1\" class=\"dataframe\">\n",
       "  <thead>\n",
       "    <tr style=\"text-align: right;\">\n",
       "      <th></th>\n",
       "      <th>A</th>\n",
       "      <th>C</th>\n",
       "      <th>countl</th>\n",
       "      <th>B</th>\n",
       "      <th>D</th>\n",
       "      <th>maxcount</th>\n",
       "    </tr>\n",
       "  </thead>\n",
       "  <tbody>\n",
       "    <tr>\n",
       "      <th>2</th>\n",
       "      <td>bar</td>\n",
       "      <td>Y</td>\n",
       "      <td>1</td>\n",
       "      <td>3</td>\n",
       "      <td>5</td>\n",
       "      <td>1</td>\n",
       "    </tr>\n",
       "  </tbody>\n",
       "</table>\n",
       "</div>"
      ],
      "text/plain": [
       "     A  C  countl  B  D  maxcount\n",
       "2  bar  Y       1  3  5         1"
      ]
     },
     "execution_count": 173,
     "metadata": {},
     "output_type": "execute_result"
    }
   ],
   "source": [
    "v.loc[v.A=='bar']#70"
   ]
  },
  {
   "cell_type": "code",
   "execution_count": 174,
   "metadata": {},
   "outputs": [],
   "source": [
    "#fm.sort_values('count').drop_duplicates(['A','C'], keep='first')"
   ]
  },
  {
   "cell_type": "code",
   "execution_count": 190,
   "metadata": {},
   "outputs": [],
   "source": [
    "n=fm.groupby(['A', 'C'])['D'].quantile([ 0.75]).reset_index()\n"
   ]
  },
  {
   "cell_type": "code",
   "execution_count": 191,
   "metadata": {},
   "outputs": [
    {
     "data": {
      "text/html": [
       "<div>\n",
       "<style scoped>\n",
       "    .dataframe tbody tr th:only-of-type {\n",
       "        vertical-align: middle;\n",
       "    }\n",
       "\n",
       "    .dataframe tbody tr th {\n",
       "        vertical-align: top;\n",
       "    }\n",
       "\n",
       "    .dataframe thead th {\n",
       "        text-align: right;\n",
       "    }\n",
       "</style>\n",
       "<table border=\"1\" class=\"dataframe\">\n",
       "  <thead>\n",
       "    <tr style=\"text-align: right;\">\n",
       "      <th></th>\n",
       "      <th>A</th>\n",
       "      <th>C</th>\n",
       "      <th>level_2</th>\n",
       "      <th>D</th>\n",
       "    </tr>\n",
       "  </thead>\n",
       "  <tbody>\n",
       "    <tr>\n",
       "      <th>0</th>\n",
       "      <td>Zi</td>\n",
       "      <td>Z</td>\n",
       "      <td>0.75</td>\n",
       "      <td>7.00</td>\n",
       "    </tr>\n",
       "    <tr>\n",
       "      <th>1</th>\n",
       "      <td>bar</td>\n",
       "      <td>X</td>\n",
       "      <td>0.75</td>\n",
       "      <td>2.00</td>\n",
       "    </tr>\n",
       "    <tr>\n",
       "      <th>2</th>\n",
       "      <td>bar</td>\n",
       "      <td>Y</td>\n",
       "      <td>0.75</td>\n",
       "      <td>5.00</td>\n",
       "    </tr>\n",
       "    <tr>\n",
       "      <th>3</th>\n",
       "      <td>foo</td>\n",
       "      <td>X</td>\n",
       "      <td>0.75</td>\n",
       "      <td>1.75</td>\n",
       "    </tr>\n",
       "    <tr>\n",
       "      <th>4</th>\n",
       "      <td>foo</td>\n",
       "      <td>Y</td>\n",
       "      <td>0.75</td>\n",
       "      <td>3.00</td>\n",
       "    </tr>\n",
       "  </tbody>\n",
       "</table>\n",
       "</div>"
      ],
      "text/plain": [
       "     A  C  level_2     D\n",
       "0   Zi  Z     0.75  7.00\n",
       "1  bar  X     0.75  2.00\n",
       "2  bar  Y     0.75  5.00\n",
       "3  foo  X     0.75  1.75\n",
       "4  foo  Y     0.75  3.00"
      ]
     },
     "execution_count": 191,
     "metadata": {},
     "output_type": "execute_result"
    }
   ],
   "source": [
    "n\n"
   ]
  },
  {
   "cell_type": "code",
   "execution_count": 179,
   "metadata": {},
   "outputs": [],
   "source": [
    "fm= df.groupby([\"A\"])[\"C\"].value_counts()"
   ]
  },
  {
   "cell_type": "code",
   "execution_count": null,
   "metadata": {},
   "outputs": [],
   "source": [
    "#pd.merge(df, f_maj, on=['A','C'], how='inner',suffixes=('B','D'))"
   ]
  },
  {
   "cell_type": "markdown",
   "metadata": {},
   "source": []
  },
  {
   "cell_type": "code",
   "execution_count": 161,
   "metadata": {},
   "outputs": [
    {
     "data": {
      "text/plain": [
       "A    C\n",
       "Zi   Z    1\n",
       "bar  X    1\n",
       "     Y    1\n",
       "foo  X    2\n",
       "     Y    1\n",
       "dtype: int64"
      ]
     },
     "execution_count": 161,
     "metadata": {},
     "output_type": "execute_result"
    }
   ],
   "source": [
    " f_maj.head()"
   ]
  },
  {
   "cell_type": "markdown",
   "metadata": {},
   "source": [
    "see if this works"
   ]
  },
  {
   "cell_type": "code",
   "execution_count": 107,
   "metadata": {},
   "outputs": [],
   "source": [
    "df_own = df.loc[df['B']==df['D']]"
   ]
  },
  {
   "cell_type": "code",
   "execution_count": 108,
   "metadata": {},
   "outputs": [
    {
     "data": {
      "text/html": [
       "<div>\n",
       "<style scoped>\n",
       "    .dataframe tbody tr th:only-of-type {\n",
       "        vertical-align: middle;\n",
       "    }\n",
       "\n",
       "    .dataframe tbody tr th {\n",
       "        vertical-align: top;\n",
       "    }\n",
       "\n",
       "    .dataframe thead th {\n",
       "        text-align: right;\n",
       "    }\n",
       "</style>\n",
       "<table border=\"1\" class=\"dataframe\">\n",
       "  <thead>\n",
       "    <tr style=\"text-align: right;\">\n",
       "      <th></th>\n",
       "      <th>A</th>\n",
       "      <th>B</th>\n",
       "      <th>D</th>\n",
       "      <th>C</th>\n",
       "    </tr>\n",
       "  </thead>\n",
       "  <tbody>\n",
       "    <tr>\n",
       "      <th>0</th>\n",
       "      <td>foo</td>\n",
       "      <td>1</td>\n",
       "      <td>1</td>\n",
       "      <td>X</td>\n",
       "    </tr>\n",
       "    <tr>\n",
       "      <th>1</th>\n",
       "      <td>foo</td>\n",
       "      <td>2</td>\n",
       "      <td>2</td>\n",
       "      <td>X</td>\n",
       "    </tr>\n",
       "    <tr>\n",
       "      <th>3</th>\n",
       "      <td>bar</td>\n",
       "      <td>2</td>\n",
       "      <td>2</td>\n",
       "      <td>X</td>\n",
       "    </tr>\n",
       "    <tr>\n",
       "      <th>4</th>\n",
       "      <td>foo</td>\n",
       "      <td>3</td>\n",
       "      <td>3</td>\n",
       "      <td>Y</td>\n",
       "    </tr>\n",
       "  </tbody>\n",
       "</table>\n",
       "</div>"
      ],
      "text/plain": [
       "     A  B  D  C\n",
       "0  foo  1  1  X\n",
       "1  foo  2  2  X\n",
       "3  bar  2  2  X\n",
       "4  foo  3  3  Y"
      ]
     },
     "execution_count": 108,
     "metadata": {},
     "output_type": "execute_result"
    }
   ],
   "source": [
    "df_own"
   ]
  },
  {
   "cell_type": "code",
   "execution_count": 167,
   "metadata": {},
   "outputs": [],
   "source": [
    "df['majo']= df.groupby([\"A\"])[\"C\"].transform('count')#doesnt work for counting x..."
   ]
  },
  {
   "cell_type": "code",
   "execution_count": 166,
   "metadata": {},
   "outputs": [
    {
     "data": {
      "text/html": [
       "<div>\n",
       "<style scoped>\n",
       "    .dataframe tbody tr th:only-of-type {\n",
       "        vertical-align: middle;\n",
       "    }\n",
       "\n",
       "    .dataframe tbody tr th {\n",
       "        vertical-align: top;\n",
       "    }\n",
       "\n",
       "    .dataframe thead th {\n",
       "        text-align: right;\n",
       "    }\n",
       "</style>\n",
       "<table border=\"1\" class=\"dataframe\">\n",
       "  <thead>\n",
       "    <tr style=\"text-align: right;\">\n",
       "      <th></th>\n",
       "      <th>A</th>\n",
       "      <th>B</th>\n",
       "      <th>D</th>\n",
       "      <th>C</th>\n",
       "      <th>Lnge-count</th>\n",
       "      <th>majo</th>\n",
       "    </tr>\n",
       "  </thead>\n",
       "  <tbody>\n",
       "    <tr>\n",
       "      <th>0</th>\n",
       "      <td>foo</td>\n",
       "      <td>1</td>\n",
       "      <td>1</td>\n",
       "      <td>X</td>\n",
       "      <td>3</td>\n",
       "      <td>3</td>\n",
       "    </tr>\n",
       "    <tr>\n",
       "      <th>1</th>\n",
       "      <td>foo</td>\n",
       "      <td>2</td>\n",
       "      <td>2</td>\n",
       "      <td>X</td>\n",
       "      <td>3</td>\n",
       "      <td>3</td>\n",
       "    </tr>\n",
       "    <tr>\n",
       "      <th>2</th>\n",
       "      <td>bar</td>\n",
       "      <td>3</td>\n",
       "      <td>5</td>\n",
       "      <td>Y</td>\n",
       "      <td>2</td>\n",
       "      <td>2</td>\n",
       "    </tr>\n",
       "    <tr>\n",
       "      <th>3</th>\n",
       "      <td>bar</td>\n",
       "      <td>2</td>\n",
       "      <td>2</td>\n",
       "      <td>X</td>\n",
       "      <td>2</td>\n",
       "      <td>2</td>\n",
       "    </tr>\n",
       "    <tr>\n",
       "      <th>4</th>\n",
       "      <td>foo</td>\n",
       "      <td>3</td>\n",
       "      <td>3</td>\n",
       "      <td>Y</td>\n",
       "      <td>3</td>\n",
       "      <td>3</td>\n",
       "    </tr>\n",
       "    <tr>\n",
       "      <th>5</th>\n",
       "      <td>Zi</td>\n",
       "      <td>6</td>\n",
       "      <td>7</td>\n",
       "      <td>Z</td>\n",
       "      <td>1</td>\n",
       "      <td>1</td>\n",
       "    </tr>\n",
       "  </tbody>\n",
       "</table>\n",
       "</div>"
      ],
      "text/plain": [
       "     A  B  D  C  Lnge-count  majo\n",
       "0  foo  1  1  X           3     3\n",
       "1  foo  2  2  X           3     3\n",
       "2  bar  3  5  Y           2     2\n",
       "3  bar  2  2  X           2     2\n",
       "4  foo  3  3  Y           3     3\n",
       "5   Zi  6  7  Z           1     1"
      ]
     },
     "execution_count": 166,
     "metadata": {},
     "output_type": "execute_result"
    }
   ],
   "source": [
    "df"
   ]
  },
  {
   "cell_type": "code",
   "execution_count": 110,
   "metadata": {},
   "outputs": [],
   "source": [
    "def flag_df(v1,v2,v3,v4,v5):\n",
    "\n",
    "    if (df[v2] == df[v3]):\n",
    "        df[v5] = df [v4]\n",
    "    elif (df[v2] != df[v3]) and (df[v3]>2):\n",
    "         df[v5] = df[v3]"
   ]
  },
  {
   "cell_type": "code",
   "execution_count": 111,
   "metadata": {},
   "outputs": [
    {
     "ename": "ValueError",
     "evalue": "The truth value of a Series is ambiguous. Use a.empty, a.bool(), a.item(), a.any() or a.all().",
     "output_type": "error",
     "traceback": [
      "\u001b[0;31m---------------------------------------------------------------------------\u001b[0m",
      "\u001b[0;31mValueError\u001b[0m                                Traceback (most recent call last)",
      "\u001b[0;32m<ipython-input-111-8ee9525de07a>\u001b[0m in \u001b[0;36m<module>\u001b[0;34m\u001b[0m\n\u001b[0;32m----> 1\u001b[0;31m \u001b[0mdf_owner\u001b[0m \u001b[0;34m=\u001b[0m \u001b[0mflag_df\u001b[0m\u001b[0;34m(\u001b[0m\u001b[0;34m'A'\u001b[0m\u001b[0;34m,\u001b[0m\u001b[0;34m'B'\u001b[0m\u001b[0;34m,\u001b[0m\u001b[0;34m'D'\u001b[0m\u001b[0;34m,\u001b[0m\u001b[0;34m'C'\u001b[0m\u001b[0;34m,\u001b[0m\u001b[0;34m'CC'\u001b[0m\u001b[0;34m)\u001b[0m\u001b[0;34m\u001b[0m\u001b[0;34m\u001b[0m\u001b[0m\n\u001b[0m",
      "\u001b[0;32m<ipython-input-110-c4c67a171871>\u001b[0m in \u001b[0;36mflag_df\u001b[0;34m(v1, v2, v3, v4, v5)\u001b[0m\n\u001b[1;32m      1\u001b[0m \u001b[0;32mdef\u001b[0m \u001b[0mflag_df\u001b[0m\u001b[0;34m(\u001b[0m\u001b[0mv1\u001b[0m\u001b[0;34m,\u001b[0m\u001b[0mv2\u001b[0m\u001b[0;34m,\u001b[0m\u001b[0mv3\u001b[0m\u001b[0;34m,\u001b[0m\u001b[0mv4\u001b[0m\u001b[0;34m,\u001b[0m\u001b[0mv5\u001b[0m\u001b[0;34m)\u001b[0m\u001b[0;34m:\u001b[0m\u001b[0;34m\u001b[0m\u001b[0;34m\u001b[0m\u001b[0m\n\u001b[1;32m      2\u001b[0m \u001b[0;34m\u001b[0m\u001b[0m\n\u001b[0;32m----> 3\u001b[0;31m     \u001b[0;32mif\u001b[0m \u001b[0;34m(\u001b[0m\u001b[0mdf\u001b[0m\u001b[0;34m[\u001b[0m\u001b[0mv2\u001b[0m\u001b[0;34m]\u001b[0m \u001b[0;34m==\u001b[0m \u001b[0mdf\u001b[0m\u001b[0;34m[\u001b[0m\u001b[0mv3\u001b[0m\u001b[0;34m]\u001b[0m\u001b[0;34m)\u001b[0m\u001b[0;34m:\u001b[0m\u001b[0;34m\u001b[0m\u001b[0;34m\u001b[0m\u001b[0m\n\u001b[0m\u001b[1;32m      4\u001b[0m         \u001b[0mdf\u001b[0m\u001b[0;34m[\u001b[0m\u001b[0mv5\u001b[0m\u001b[0;34m]\u001b[0m \u001b[0;34m=\u001b[0m \u001b[0mdf\u001b[0m \u001b[0;34m[\u001b[0m\u001b[0mv4\u001b[0m\u001b[0;34m]\u001b[0m\u001b[0;34m\u001b[0m\u001b[0;34m\u001b[0m\u001b[0m\n\u001b[1;32m      5\u001b[0m     \u001b[0;32melif\u001b[0m \u001b[0;34m(\u001b[0m\u001b[0mdf\u001b[0m\u001b[0;34m[\u001b[0m\u001b[0mv2\u001b[0m\u001b[0;34m]\u001b[0m \u001b[0;34m!=\u001b[0m \u001b[0mdf\u001b[0m\u001b[0;34m[\u001b[0m\u001b[0mv3\u001b[0m\u001b[0;34m]\u001b[0m\u001b[0;34m)\u001b[0m \u001b[0;32mand\u001b[0m \u001b[0;34m(\u001b[0m\u001b[0mdf\u001b[0m\u001b[0;34m[\u001b[0m\u001b[0mv3\u001b[0m\u001b[0;34m]\u001b[0m\u001b[0;34m>\u001b[0m\u001b[0;36m2\u001b[0m\u001b[0;34m)\u001b[0m\u001b[0;34m:\u001b[0m\u001b[0;34m\u001b[0m\u001b[0;34m\u001b[0m\u001b[0m\n",
      "\u001b[0;32m~/.local/lib/python3.7/site-packages/pandas/core/generic.py\u001b[0m in \u001b[0;36m__nonzero__\u001b[0;34m(self)\u001b[0m\n\u001b[1;32m   1325\u001b[0m     \u001b[0;32mdef\u001b[0m \u001b[0m__nonzero__\u001b[0m\u001b[0;34m(\u001b[0m\u001b[0mself\u001b[0m\u001b[0;34m)\u001b[0m\u001b[0;34m:\u001b[0m\u001b[0;34m\u001b[0m\u001b[0;34m\u001b[0m\u001b[0m\n\u001b[1;32m   1326\u001b[0m         raise ValueError(\n\u001b[0;32m-> 1327\u001b[0;31m             \u001b[0;34mf\"The truth value of a {type(self).__name__} is ambiguous. \"\u001b[0m\u001b[0;34m\u001b[0m\u001b[0;34m\u001b[0m\u001b[0m\n\u001b[0m\u001b[1;32m   1328\u001b[0m             \u001b[0;34m\"Use a.empty, a.bool(), a.item(), a.any() or a.all().\"\u001b[0m\u001b[0;34m\u001b[0m\u001b[0;34m\u001b[0m\u001b[0m\n\u001b[1;32m   1329\u001b[0m         )\n",
      "\u001b[0;31mValueError\u001b[0m: The truth value of a Series is ambiguous. Use a.empty, a.bool(), a.item(), a.any() or a.all()."
     ]
    }
   ],
   "source": [
    "df_owner = flag_df('A','B','D','C','CC')"
   ]
  },
  {
   "cell_type": "code",
   "execution_count": 117,
   "metadata": {},
   "outputs": [],
   "source": [
    "df2 = df.loc[(df['B'] ==df['D']) | (df['D'] > 7)]\n"
   ]
  },
  {
   "cell_type": "code",
   "execution_count": 119,
   "metadata": {},
   "outputs": [
    {
     "data": {
      "text/html": [
       "<div>\n",
       "<style scoped>\n",
       "    .dataframe tbody tr th:only-of-type {\n",
       "        vertical-align: middle;\n",
       "    }\n",
       "\n",
       "    .dataframe tbody tr th {\n",
       "        vertical-align: top;\n",
       "    }\n",
       "\n",
       "    .dataframe thead th {\n",
       "        text-align: right;\n",
       "    }\n",
       "</style>\n",
       "<table border=\"1\" class=\"dataframe\">\n",
       "  <thead>\n",
       "    <tr style=\"text-align: right;\">\n",
       "      <th></th>\n",
       "      <th>A</th>\n",
       "      <th>B</th>\n",
       "      <th>D</th>\n",
       "      <th>C</th>\n",
       "    </tr>\n",
       "  </thead>\n",
       "  <tbody>\n",
       "    <tr>\n",
       "      <th>0</th>\n",
       "      <td>foo</td>\n",
       "      <td>1</td>\n",
       "      <td>1</td>\n",
       "      <td>X</td>\n",
       "    </tr>\n",
       "    <tr>\n",
       "      <th>1</th>\n",
       "      <td>foo</td>\n",
       "      <td>2</td>\n",
       "      <td>2</td>\n",
       "      <td>X</td>\n",
       "    </tr>\n",
       "    <tr>\n",
       "      <th>3</th>\n",
       "      <td>bar</td>\n",
       "      <td>2</td>\n",
       "      <td>2</td>\n",
       "      <td>X</td>\n",
       "    </tr>\n",
       "    <tr>\n",
       "      <th>4</th>\n",
       "      <td>foo</td>\n",
       "      <td>3</td>\n",
       "      <td>3</td>\n",
       "      <td>Y</td>\n",
       "    </tr>\n",
       "  </tbody>\n",
       "</table>\n",
       "</div>"
      ],
      "text/plain": [
       "     A  B  D  C\n",
       "0  foo  1  1  X\n",
       "1  foo  2  2  X\n",
       "3  bar  2  2  X\n",
       "4  foo  3  3  Y"
      ]
     },
     "execution_count": 119,
     "metadata": {},
     "output_type": "execute_result"
    }
   ],
   "source": [
    "df2"
   ]
  },
  {
   "cell_type": "code",
   "execution_count": 101,
   "metadata": {},
   "outputs": [
    {
     "data": {
      "text/plain": [
       "[1, 2, 5, 2, 3]"
      ]
     },
     "execution_count": 101,
     "metadata": {},
     "output_type": "execute_result"
    }
   ],
   "source": [
    "[i for i in df['D']]"
   ]
  },
  {
   "cell_type": "code",
   "execution_count": 157,
   "metadata": {},
   "outputs": [
    {
     "ename": "NameError",
     "evalue": "name 'df' is not defined",
     "output_type": "error",
     "traceback": [
      "\u001b[0;31m---------------------------------------------------------------------------\u001b[0m",
      "\u001b[0;31mNameError\u001b[0m                                 Traceback (most recent call last)",
      "\u001b[0;32m<ipython-input-157-af9dd1ada124>\u001b[0m in \u001b[0;36m<module>\u001b[0;34m\u001b[0m\n\u001b[0;32m----> 1\u001b[0;31m \u001b[0mdf\u001b[0m\u001b[0;34m[\u001b[0m\u001b[0;34m'Lnge-count'\u001b[0m\u001b[0;34m]\u001b[0m\u001b[0;34m=\u001b[0m \u001b[0mdf\u001b[0m\u001b[0;34m.\u001b[0m\u001b[0mgroupby\u001b[0m\u001b[0;34m(\u001b[0m\u001b[0;34m[\u001b[0m\u001b[0;34m\"A\"\u001b[0m\u001b[0;34m]\u001b[0m\u001b[0;34m)\u001b[0m\u001b[0;34m[\u001b[0m\u001b[0;34m\"C\"\u001b[0m\u001b[0;34m]\u001b[0m\u001b[0;34m.\u001b[0m\u001b[0mtransform\u001b[0m\u001b[0;34m(\u001b[0m\u001b[0;34m'count'\u001b[0m\u001b[0;34m)\u001b[0m\u001b[0;31m#\u001b[0m\u001b[0;34m\u001b[0m\u001b[0;34m\u001b[0m\u001b[0m\n\u001b[0m",
      "\u001b[0;31mNameError\u001b[0m: name 'df' is not defined"
     ]
    }
   ],
   "source": []
  },
  {
   "cell_type": "code",
   "execution_count": null,
   "metadata": {},
   "outputs": [],
   "source": []
  }
 ],
 "metadata": {
  "kernelspec": {
   "display_name": "Python 3",
   "language": "python",
   "name": "python3"
  },
  "language_info": {
   "codemirror_mode": {
    "name": "ipython",
    "version": 3
   },
   "file_extension": ".py",
   "mimetype": "text/x-python",
   "name": "python",
   "nbconvert_exporter": "python",
   "pygments_lexer": "ipython3",
   "version": "3.7.4"
  }
 },
 "nbformat": 4,
 "nbformat_minor": 4
}
